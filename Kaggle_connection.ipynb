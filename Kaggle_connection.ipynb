{
 "cells": [
  {
   "cell_type": "markdown",
   "source": [
    "# Clustering Songs from a Kaggle Dataset\n",
    "\n",
    "## By Nils Jennissen and Ruben Tak\n",
    "\n",
    "Github:\n",
    "- https://github.com/nilsjenn\n",
    "- https://github.com/rubentak\n",
    "\n",
    "Medium:\n",
    "- https://medium.com/@nijenn\n",
    "- https://medium.com/@rubentak"
   ],
   "metadata": {
    "collapsed": false
   }
  },
  {
   "cell_type": "code",
   "execution_count": 1,
   "metadata": {
    "collapsed": true,
    "ExecuteTime": {
     "start_time": "2023-04-08T14:18:48.658299Z",
     "end_time": "2023-04-08T14:18:48.661777Z"
    }
   },
   "outputs": [],
   "source": [
    "import pandas as pd\n",
    "import numpy as np\n",
    "import pandas as pd\n",
    "import pandas as pd\n",
    "import seaborn as sns\n",
    "import matplotlib.pyplot as plt\n",
    "import plotly.express as px\n",
    "import plotly.graph_objects as go\n",
    "import numpy as np\n",
    "from datetime import datetime\n",
    "from sklearn.preprocessing import StandardScaler\n",
    "from sklearn.cluster import KMeans\n",
    "from kneed import KneeLocator\n",
    "from math import pi, ceil"
   ]
  },
  {
   "cell_type": "markdown",
   "metadata": {
    "collapsed": false
   },
   "source": [
    "https://www.kaggle.com/datasets/maharshipandya/-spotify-tracks-dataset"
   ]
  },
  {
   "cell_type": "markdown",
   "source": [
    "## Load Data"
   ],
   "metadata": {
    "collapsed": false
   }
  },
  {
   "cell_type": "code",
   "execution_count": 2,
   "metadata": {
    "collapsed": false,
    "ExecuteTime": {
     "start_time": "2023-04-08T14:18:50.349703Z",
     "end_time": "2023-04-08T14:18:50.569815Z"
    }
   },
   "outputs": [],
   "source": [
    "kaggle = pd.read_csv('kaggle_spotify.csv')"
   ]
  },
  {
   "cell_type": "code",
   "execution_count": 3,
   "metadata": {
    "collapsed": false,
    "ExecuteTime": {
     "start_time": "2023-04-08T14:18:51.448725Z",
     "end_time": "2023-04-08T14:18:51.468348Z"
    }
   },
   "outputs": [
    {
     "data": {
      "text/plain": "   Unnamed: 0                track_id                               artists   \n0           0  5SuOikwiRyPMVoIQDJUgSV                           Gen Hoshino  \\\n1           1  4qPNDBW1i3p13qLCt0Ki3A                          Ben Woodward   \n2           2  1iJBSr7s7jYXzM8EGcbK5b                Ingrid Michaelson;ZAYN   \n3           3  6lfxq3CG4xtTiEg7opyCyx                          Kina Grannis   \n4           4  5vjLSffimiIP26QG5WcN2K                      Chord Overstreet   \n5           5  01MVOl9KtVTNfFiBU9I7dc                          Tyrone Wells   \n6           6  6Vc5wAMmXdKIAM7WUoEb7N  A Great Big World;Christina Aguilera   \n7           7  1EzrEOXmMH3G43AXT1y7pA                            Jason Mraz   \n8           8  0IktbUcnAGrvD03AWnz3Q8             Jason Mraz;Colbie Caillat   \n9           9  7k9GuJYLp2AzqokyEdwEw2                        Ross Copperman   \n\n                                          album_name   \n0                                             Comedy  \\\n1                                   Ghost (Acoustic)   \n2                                     To Begin Again   \n3  Crazy Rich Asians (Original Motion Picture Sou...   \n4                                            Hold On   \n5                               Days I Will Remember   \n6                        Is There Anybody Out There?   \n7                We Sing. We Dance. We Steal Things.   \n8                We Sing. We Dance. We Steal Things.   \n9                                             Hunger   \n\n                   track_name  popularity  duration_ms  explicit   \n0                      Comedy          73       230666     False  \\\n1            Ghost - Acoustic          55       149610     False   \n2              To Begin Again          57       210826     False   \n3  Can't Help Falling In Love          71       201933     False   \n4                     Hold On          82       198853     False   \n5        Days I Will Remember          58       214240     False   \n6               Say Something          74       229400     False   \n7                   I'm Yours          80       242946     False   \n8                       Lucky          74       189613     False   \n9                      Hunger          56       205594     False   \n\n   danceability  energy  ...  loudness  mode  speechiness  acousticness   \n0         0.676  0.4610  ...    -6.746     0       0.1430        0.0322  \\\n1         0.420  0.1660  ...   -17.235     1       0.0763        0.9240   \n2         0.438  0.3590  ...    -9.734     1       0.0557        0.2100   \n3         0.266  0.0596  ...   -18.515     1       0.0363        0.9050   \n4         0.618  0.4430  ...    -9.681     1       0.0526        0.4690   \n5         0.688  0.4810  ...    -8.807     1       0.1050        0.2890   \n6         0.407  0.1470  ...    -8.822     1       0.0355        0.8570   \n7         0.703  0.4440  ...    -9.331     1       0.0417        0.5590   \n8         0.625  0.4140  ...    -8.700     1       0.0369        0.2940   \n9         0.442  0.6320  ...    -6.770     1       0.0295        0.4260   \n\n   instrumentalness  liveness  valence    tempo  time_signature  track_genre  \n0          0.000001    0.3580   0.7150   87.917               4     acoustic  \n1          0.000006    0.1010   0.2670   77.489               4     acoustic  \n2          0.000000    0.1170   0.1200   76.332               4     acoustic  \n3          0.000071    0.1320   0.1430  181.740               3     acoustic  \n4          0.000000    0.0829   0.1670  119.949               4     acoustic  \n5          0.000000    0.1890   0.6660   98.017               4     acoustic  \n6          0.000003    0.0913   0.0765  141.284               3     acoustic  \n7          0.000000    0.0973   0.7120  150.960               4     acoustic  \n8          0.000000    0.1510   0.6690  130.088               4     acoustic  \n9          0.004190    0.0735   0.1960   78.899               4     acoustic  \n\n[10 rows x 21 columns]",
      "text/html": "<div>\n<style scoped>\n    .dataframe tbody tr th:only-of-type {\n        vertical-align: middle;\n    }\n\n    .dataframe tbody tr th {\n        vertical-align: top;\n    }\n\n    .dataframe thead th {\n        text-align: right;\n    }\n</style>\n<table border=\"1\" class=\"dataframe\">\n  <thead>\n    <tr style=\"text-align: right;\">\n      <th></th>\n      <th>Unnamed: 0</th>\n      <th>track_id</th>\n      <th>artists</th>\n      <th>album_name</th>\n      <th>track_name</th>\n      <th>popularity</th>\n      <th>duration_ms</th>\n      <th>explicit</th>\n      <th>danceability</th>\n      <th>energy</th>\n      <th>...</th>\n      <th>loudness</th>\n      <th>mode</th>\n      <th>speechiness</th>\n      <th>acousticness</th>\n      <th>instrumentalness</th>\n      <th>liveness</th>\n      <th>valence</th>\n      <th>tempo</th>\n      <th>time_signature</th>\n      <th>track_genre</th>\n    </tr>\n  </thead>\n  <tbody>\n    <tr>\n      <th>0</th>\n      <td>0</td>\n      <td>5SuOikwiRyPMVoIQDJUgSV</td>\n      <td>Gen Hoshino</td>\n      <td>Comedy</td>\n      <td>Comedy</td>\n      <td>73</td>\n      <td>230666</td>\n      <td>False</td>\n      <td>0.676</td>\n      <td>0.4610</td>\n      <td>...</td>\n      <td>-6.746</td>\n      <td>0</td>\n      <td>0.1430</td>\n      <td>0.0322</td>\n      <td>0.000001</td>\n      <td>0.3580</td>\n      <td>0.7150</td>\n      <td>87.917</td>\n      <td>4</td>\n      <td>acoustic</td>\n    </tr>\n    <tr>\n      <th>1</th>\n      <td>1</td>\n      <td>4qPNDBW1i3p13qLCt0Ki3A</td>\n      <td>Ben Woodward</td>\n      <td>Ghost (Acoustic)</td>\n      <td>Ghost - Acoustic</td>\n      <td>55</td>\n      <td>149610</td>\n      <td>False</td>\n      <td>0.420</td>\n      <td>0.1660</td>\n      <td>...</td>\n      <td>-17.235</td>\n      <td>1</td>\n      <td>0.0763</td>\n      <td>0.9240</td>\n      <td>0.000006</td>\n      <td>0.1010</td>\n      <td>0.2670</td>\n      <td>77.489</td>\n      <td>4</td>\n      <td>acoustic</td>\n    </tr>\n    <tr>\n      <th>2</th>\n      <td>2</td>\n      <td>1iJBSr7s7jYXzM8EGcbK5b</td>\n      <td>Ingrid Michaelson;ZAYN</td>\n      <td>To Begin Again</td>\n      <td>To Begin Again</td>\n      <td>57</td>\n      <td>210826</td>\n      <td>False</td>\n      <td>0.438</td>\n      <td>0.3590</td>\n      <td>...</td>\n      <td>-9.734</td>\n      <td>1</td>\n      <td>0.0557</td>\n      <td>0.2100</td>\n      <td>0.000000</td>\n      <td>0.1170</td>\n      <td>0.1200</td>\n      <td>76.332</td>\n      <td>4</td>\n      <td>acoustic</td>\n    </tr>\n    <tr>\n      <th>3</th>\n      <td>3</td>\n      <td>6lfxq3CG4xtTiEg7opyCyx</td>\n      <td>Kina Grannis</td>\n      <td>Crazy Rich Asians (Original Motion Picture Sou...</td>\n      <td>Can't Help Falling In Love</td>\n      <td>71</td>\n      <td>201933</td>\n      <td>False</td>\n      <td>0.266</td>\n      <td>0.0596</td>\n      <td>...</td>\n      <td>-18.515</td>\n      <td>1</td>\n      <td>0.0363</td>\n      <td>0.9050</td>\n      <td>0.000071</td>\n      <td>0.1320</td>\n      <td>0.1430</td>\n      <td>181.740</td>\n      <td>3</td>\n      <td>acoustic</td>\n    </tr>\n    <tr>\n      <th>4</th>\n      <td>4</td>\n      <td>5vjLSffimiIP26QG5WcN2K</td>\n      <td>Chord Overstreet</td>\n      <td>Hold On</td>\n      <td>Hold On</td>\n      <td>82</td>\n      <td>198853</td>\n      <td>False</td>\n      <td>0.618</td>\n      <td>0.4430</td>\n      <td>...</td>\n      <td>-9.681</td>\n      <td>1</td>\n      <td>0.0526</td>\n      <td>0.4690</td>\n      <td>0.000000</td>\n      <td>0.0829</td>\n      <td>0.1670</td>\n      <td>119.949</td>\n      <td>4</td>\n      <td>acoustic</td>\n    </tr>\n    <tr>\n      <th>5</th>\n      <td>5</td>\n      <td>01MVOl9KtVTNfFiBU9I7dc</td>\n      <td>Tyrone Wells</td>\n      <td>Days I Will Remember</td>\n      <td>Days I Will Remember</td>\n      <td>58</td>\n      <td>214240</td>\n      <td>False</td>\n      <td>0.688</td>\n      <td>0.4810</td>\n      <td>...</td>\n      <td>-8.807</td>\n      <td>1</td>\n      <td>0.1050</td>\n      <td>0.2890</td>\n      <td>0.000000</td>\n      <td>0.1890</td>\n      <td>0.6660</td>\n      <td>98.017</td>\n      <td>4</td>\n      <td>acoustic</td>\n    </tr>\n    <tr>\n      <th>6</th>\n      <td>6</td>\n      <td>6Vc5wAMmXdKIAM7WUoEb7N</td>\n      <td>A Great Big World;Christina Aguilera</td>\n      <td>Is There Anybody Out There?</td>\n      <td>Say Something</td>\n      <td>74</td>\n      <td>229400</td>\n      <td>False</td>\n      <td>0.407</td>\n      <td>0.1470</td>\n      <td>...</td>\n      <td>-8.822</td>\n      <td>1</td>\n      <td>0.0355</td>\n      <td>0.8570</td>\n      <td>0.000003</td>\n      <td>0.0913</td>\n      <td>0.0765</td>\n      <td>141.284</td>\n      <td>3</td>\n      <td>acoustic</td>\n    </tr>\n    <tr>\n      <th>7</th>\n      <td>7</td>\n      <td>1EzrEOXmMH3G43AXT1y7pA</td>\n      <td>Jason Mraz</td>\n      <td>We Sing. We Dance. We Steal Things.</td>\n      <td>I'm Yours</td>\n      <td>80</td>\n      <td>242946</td>\n      <td>False</td>\n      <td>0.703</td>\n      <td>0.4440</td>\n      <td>...</td>\n      <td>-9.331</td>\n      <td>1</td>\n      <td>0.0417</td>\n      <td>0.5590</td>\n      <td>0.000000</td>\n      <td>0.0973</td>\n      <td>0.7120</td>\n      <td>150.960</td>\n      <td>4</td>\n      <td>acoustic</td>\n    </tr>\n    <tr>\n      <th>8</th>\n      <td>8</td>\n      <td>0IktbUcnAGrvD03AWnz3Q8</td>\n      <td>Jason Mraz;Colbie Caillat</td>\n      <td>We Sing. We Dance. We Steal Things.</td>\n      <td>Lucky</td>\n      <td>74</td>\n      <td>189613</td>\n      <td>False</td>\n      <td>0.625</td>\n      <td>0.4140</td>\n      <td>...</td>\n      <td>-8.700</td>\n      <td>1</td>\n      <td>0.0369</td>\n      <td>0.2940</td>\n      <td>0.000000</td>\n      <td>0.1510</td>\n      <td>0.6690</td>\n      <td>130.088</td>\n      <td>4</td>\n      <td>acoustic</td>\n    </tr>\n    <tr>\n      <th>9</th>\n      <td>9</td>\n      <td>7k9GuJYLp2AzqokyEdwEw2</td>\n      <td>Ross Copperman</td>\n      <td>Hunger</td>\n      <td>Hunger</td>\n      <td>56</td>\n      <td>205594</td>\n      <td>False</td>\n      <td>0.442</td>\n      <td>0.6320</td>\n      <td>...</td>\n      <td>-6.770</td>\n      <td>1</td>\n      <td>0.0295</td>\n      <td>0.4260</td>\n      <td>0.004190</td>\n      <td>0.0735</td>\n      <td>0.1960</td>\n      <td>78.899</td>\n      <td>4</td>\n      <td>acoustic</td>\n    </tr>\n  </tbody>\n</table>\n<p>10 rows × 21 columns</p>\n</div>"
     },
     "execution_count": 3,
     "metadata": {},
     "output_type": "execute_result"
    }
   ],
   "source": [
    "kaggle.head(10)"
   ]
  },
  {
   "cell_type": "code",
   "execution_count": 5,
   "metadata": {
    "collapsed": false,
    "ExecuteTime": {
     "start_time": "2023-04-08T14:14:12.565041Z",
     "end_time": "2023-04-08T14:14:12.586899Z"
    }
   },
   "outputs": [],
   "source": [
    "# Creat genre_number column\n",
    "kaggle['genre_num'] = kaggle['track_genre'].astype('category').cat.codes"
   ]
  },
  {
   "cell_type": "markdown",
   "source": [
    "## Look for high correlation between features"
   ],
   "metadata": {
    "collapsed": false
   }
  },
  {
   "cell_type": "code",
   "execution_count": 6,
   "metadata": {
    "collapsed": false
   },
   "outputs": [
    {
     "data": {
      "text/plain": "<Axes: >"
     },
     "execution_count": 6,
     "metadata": {},
     "output_type": "execute_result"
    },
    {
     "data": {
      "text/plain": "<Figure size 640x480 with 0 Axes>"
     },
     "metadata": {},
     "output_type": "display_data"
    },
    {
     "data": {
      "text/plain": "<Figure size 1000x800 with 2 Axes>",
      "image/png": "[encoded data removed]"
     },
     "metadata": {},
     "output_type": "display_data"
    }
   ],
   "source": [
    "# Correlation Matrix\n",
    "plt.tight_layout()\n",
    "plt.figure(figsize=(10, 8))\n",
    "corrMatrix = kaggle[['danceability', 'acousticness', 'energy', 'instrumentalness', 'speechiness', 'valence', 'tempo', 'genre_num']].corr()\n",
    "sns.heatmap(corrMatrix, annot=True)"
   ]
  },
  {
   "cell_type": "markdown",
   "source": [
    "#### It appears that there is a high correlation between danceability and valence and a high negative correlation  accousticness and energy."
   ],
   "metadata": {
    "collapsed": false
   }
  },
  {
   "cell_type": "code",
   "execution_count": 8,
   "metadata": {
    "collapsed": false
   },
   "outputs": [
    {
     "data": {
      "text/plain": "Index(['Unnamed: 0', 'track_id', 'artists', 'album_name', 'track_name',\n       'popularity', 'duration_ms', 'explicit', 'danceability', 'energy',\n       'key', 'loudness', 'mode', 'speechiness', 'acousticness',\n       'instrumentalness', 'liveness', 'valence', 'tempo', 'time_signature',\n       'track_genre', 'genre_num'],\n      dtype='object')"
     },
     "execution_count": 8,
     "metadata": {},
     "output_type": "execute_result"
    }
   ],
   "source": [
    "#list collums\n",
    "kaggle.columns"
   ]
  },
  {
   "cell_type": "markdown",
   "source": [
    "## Feature selection`\n",
    "\n",
    "#### We will select the following features for my model: danceability, energy, key, loudness, mode, speechiness, acousticness, instrumentalness, liveness, valence, tempo, genre_num. We will not use duration_ms, explicit, track_id, track_name, track_artist, track_genre, track_popularity, track_album_id, track_album_name, track_album_release_date."
   ],
   "metadata": {
    "collapsed": false
   }
  },
  {
   "cell_type": "code",
   "execution_count": 25,
   "metadata": {
    "collapsed": false
   },
   "outputs": [],
   "source": [
    "# Select features and track names\n",
    "df_log = kaggle[\n",
    "    ['danceability', 'energy',\n",
    "       'key', 'loudness', 'mode', 'speechiness', 'acousticness',\n",
    "       'instrumentalness', 'liveness', 'valence', 'tempo',\n",
    "       'genre_num']]"
   ]
  },
  {
   "cell_type": "markdown",
   "source": [
    "## Standardize the data"
   ],
   "metadata": {
    "collapsed": false
   }
  },
  {
   "cell_type": "code",
   "execution_count": 10,
   "metadata": {
    "collapsed": false
   },
   "outputs": [],
   "source": [
    "std_scaler = StandardScaler()\n",
    "df_scaled = std_scaler.fit_transform(df_log)"
   ]
  },
  {
   "cell_type": "markdown",
   "source": [
    "## Elbow Method\n",
    "\n",
    "#### The elbow method is a heuristic used in determining the number of clusters in a data set. The method consists of plotting the explained variance as a function of the number of clusters, and picking the elbow of the curve as the number of clusters to use."
   ],
   "metadata": {
    "collapsed": false
   }
  },
  {
   "cell_type": "code",
   "execution_count": 26,
   "metadata": {
    "collapsed": false
   },
   "outputs": [
    {
     "name": "stderr",
     "output_type": "stream",
     "text": [
      "/Users/erictak/PycharmProjects/Spotify_1/venv/lib/python3.10/site-packages/sklearn/cluster/_kmeans.py:870: FutureWarning:\n",
      "\n",
      "The default value of `n_init` will change from 10 to 'auto' in 1.4. Set the value of `n_init` explicitly to suppress the warning\n",
      "\n",
      "/Users/erictak/PycharmProjects/Spotify_1/venv/lib/python3.10/site-packages/sklearn/cluster/_kmeans.py:870: FutureWarning:\n",
      "\n",
      "The default value of `n_init` will change from 10 to 'auto' in 1.4. Set the value of `n_init` explicitly to suppress the warning\n",
      "\n",
      "/Users/erictak/PycharmProjects/Spotify_1/venv/lib/python3.10/site-packages/sklearn/cluster/_kmeans.py:870: FutureWarning:\n",
      "\n",
      "The default value of `n_init` will change from 10 to 'auto' in 1.4. Set the value of `n_init` explicitly to suppress the warning\n",
      "\n",
      "/Users/erictak/PycharmProjects/Spotify_1/venv/lib/python3.10/site-packages/sklearn/cluster/_kmeans.py:870: FutureWarning:\n",
      "\n",
      "The default value of `n_init` will change from 10 to 'auto' in 1.4. Set the value of `n_init` explicitly to suppress the warning\n",
      "\n",
      "/Users/erictak/PycharmProjects/Spotify_1/venv/lib/python3.10/site-packages/sklearn/cluster/_kmeans.py:870: FutureWarning:\n",
      "\n",
      "The default value of `n_init` will change from 10 to 'auto' in 1.4. Set the value of `n_init` explicitly to suppress the warning\n",
      "\n",
      "/Users/erictak/PycharmProjects/Spotify_1/venv/lib/python3.10/site-packages/sklearn/cluster/_kmeans.py:870: FutureWarning:\n",
      "\n",
      "The default value of `n_init` will change from 10 to 'auto' in 1.4. Set the value of `n_init` explicitly to suppress the warning\n",
      "\n",
      "/Users/erictak/PycharmProjects/Spotify_1/venv/lib/python3.10/site-packages/sklearn/cluster/_kmeans.py:870: FutureWarning:\n",
      "\n",
      "The default value of `n_init` will change from 10 to 'auto' in 1.4. Set the value of `n_init` explicitly to suppress the warning\n",
      "\n",
      "/Users/erictak/PycharmProjects/Spotify_1/venv/lib/python3.10/site-packages/sklearn/cluster/_kmeans.py:870: FutureWarning:\n",
      "\n",
      "The default value of `n_init` will change from 10 to 'auto' in 1.4. Set the value of `n_init` explicitly to suppress the warning\n",
      "\n",
      "/Users/erictak/PycharmProjects/Spotify_1/venv/lib/python3.10/site-packages/sklearn/cluster/_kmeans.py:870: FutureWarning:\n",
      "\n",
      "The default value of `n_init` will change from 10 to 'auto' in 1.4. Set the value of `n_init` explicitly to suppress the warning\n",
      "\n",
      "/Users/erictak/PycharmProjects/Spotify_1/venv/lib/python3.10/site-packages/sklearn/cluster/_kmeans.py:870: FutureWarning:\n",
      "\n",
      "The default value of `n_init` will change from 10 to 'auto' in 1.4. Set the value of `n_init` explicitly to suppress the warning\n",
      "\n"
     ]
    }
   ],
   "source": [
    "errors = []\n",
    "for k in range(1, 11):\n",
    "    model = KMeans(n_clusters=k, random_state=42)\n",
    "    model.fit(df_scaled)\n",
    "    errors.append(model.inertia_)"
   ]
  },
  {
   "cell_type": "code",
   "execution_count": 27,
   "metadata": {
    "collapsed": false
   },
   "outputs": [
    {
     "data": {
      "text/plain": "<Figure size 640x480 with 1 Axes>",
      "image/png": "[encoded data removed]"
     },
     "metadata": {},
     "output_type": "display_data"
    }
   ],
   "source": [
    "plt.title('The Elbow Method')\n",
    "plt.xlabel('k'); plt.ylabel('SSE')\n",
    "sns.pointplot(x=list(range(1,11)), y=errors)\n",
    "plt.savefig(\"Elbow.png\")"
   ]
  },
  {
   "cell_type": "code",
   "execution_count": 28,
   "metadata": {
    "collapsed": false
   },
   "outputs": [
    {
     "name": "stdout",
     "output_type": "stream",
     "text": [
      "The optimum number of clusters is: 3\n"
     ]
    }
   ],
   "source": [
    "kl = KneeLocator(x = range(1, 11),\n",
    "                 y = errors,\n",
    "                 curve=\"convex\",\n",
    "                 direction=\"decreasing\")\n",
    "print('The optimum number of clusters is: ' + str(kl.elbow))"
   ]
  },
  {
   "cell_type": "markdown",
   "source": [
    "#### The optimum number of clusters is 3 according to the elbow method. This however is not a good number of clusters for clustering songs as the clusters will be too lagre. We will use 10 clusters to get more specific clusters and create 10 playlists."
   ],
   "metadata": {
    "collapsed": false
   }
  },
  {
   "cell_type": "markdown",
   "source": [
    "## K-Means Clustering"
   ],
   "metadata": {
    "collapsed": false
   }
  },
  {
   "cell_type": "code",
   "execution_count": 29,
   "metadata": {
    "collapsed": false
   },
   "outputs": [
    {
     "name": "stderr",
     "output_type": "stream",
     "text": [
      "/Users/erictak/PycharmProjects/Spotify_1/venv/lib/python3.10/site-packages/sklearn/cluster/_kmeans.py:870: FutureWarning:\n",
      "\n",
      "The default value of `n_init` will change from 10 to 'auto' in 1.4. Set the value of `n_init` explicitly to suppress the warning\n",
      "\n"
     ]
    },
    {
     "data": {
      "text/plain": "KMeans(n_clusters=10, random_state=42)",
      "text/html": "<style>#sk-container-id-2 {color: black;background-color: white;}#sk-container-id-2 pre{padding: 0;}#sk-container-id-2 div.sk-toggleable {background-color: white;}#sk-container-id-2 label.sk-toggleable__label {cursor: pointer;display: block;width: 100%;margin-bottom: 0;padding: 0.3em;box-sizing: border-box;text-align: center;}#sk-container-id-2 label.sk-toggleable__label-arrow:before {content: \"▸\";float: left;margin-right: 0.25em;color: #696969;}#sk-container-id-2 label.sk-toggleable__label-arrow:hover:before {color: black;}#sk-container-id-2 div.sk-estimator:hover label.sk-toggleable__label-arrow:before {color: black;}#sk-container-id-2 div.sk-toggleable__content {max-height: 0;max-width: 0;overflow: hidden;text-align: left;background-color: #f0f8ff;}#sk-container-id-2 div.sk-toggleable__content pre {margin: 0.2em;color: black;border-radius: 0.25em;background-color: #f0f8ff;}#sk-container-id-2 input.sk-toggleable__control:checked~div.sk-toggleable__content {max-height: 200px;max-width: 100%;overflow: auto;}#sk-container-id-2 input.sk-toggleable__control:checked~label.sk-toggleable__label-arrow:before {content: \"▾\";}#sk-container-id-2 div.sk-estimator input.sk-toggleable__control:checked~label.sk-toggleable__label {background-color: #d4ebff;}#sk-container-id-2 div.sk-label input.sk-toggleable__control:checked~label.sk-toggleable__label {background-color: #d4ebff;}#sk-container-id-2 input.sk-hidden--visually {border: 0;clip: rect(1px 1px 1px 1px);clip: rect(1px, 1px, 1px, 1px);height: 1px;margin: -1px;overflow: hidden;padding: 0;position: absolute;width: 1px;}#sk-container-id-2 div.sk-estimator {font-family: monospace;background-color: #f0f8ff;border: 1px dotted black;border-radius: 0.25em;box-sizing: border-box;margin-bottom: 0.5em;}#sk-container-id-2 div.sk-estimator:hover {background-color: #d4ebff;}#sk-container-id-2 div.sk-parallel-item::after {content: \"\";width: 100%;border-bottom: 1px solid gray;flex-grow: 1;}#sk-container-id-2 div.sk-label:hover label.sk-toggleable__label {background-color: #d4ebff;}#sk-container-id-2 div.sk-serial::before {content: \"\";position: absolute;border-left: 1px solid gray;box-sizing: border-box;top: 0;bottom: 0;left: 50%;z-index: 0;}#sk-container-id-2 div.sk-serial {display: flex;flex-direction: column;align-items: center;background-color: white;padding-right: 0.2em;padding-left: 0.2em;position: relative;}#sk-container-id-2 div.sk-item {position: relative;z-index: 1;}#sk-container-id-2 div.sk-parallel {display: flex;align-items: stretch;justify-content: center;background-color: white;position: relative;}#sk-container-id-2 div.sk-item::before, #sk-container-id-2 div.sk-parallel-item::before {content: \"\";position: absolute;border-left: 1px solid gray;box-sizing: border-box;top: 0;bottom: 0;left: 50%;z-index: -1;}#sk-container-id-2 div.sk-parallel-item {display: flex;flex-direction: column;z-index: 1;position: relative;background-color: white;}#sk-container-id-2 div.sk-parallel-item:first-child::after {align-self: flex-end;width: 50%;}#sk-container-id-2 div.sk-parallel-item:last-child::after {align-self: flex-start;width: 50%;}#sk-container-id-2 div.sk-parallel-item:only-child::after {width: 0;}#sk-container-id-2 div.sk-dashed-wrapped {border: 1px dashed gray;margin: 0 0.4em 0.5em 0.4em;box-sizing: border-box;padding-bottom: 0.4em;background-color: white;}#sk-container-id-2 div.sk-label label {font-family: monospace;font-weight: bold;display: inline-block;line-height: 1.2em;}#sk-container-id-2 div.sk-label-container {text-align: center;}#sk-container-id-2 div.sk-container {/* jupyter's `normalize.less` sets `[hidden] { display: none; }` but bootstrap.min.css set `[hidden] { display: none !important; }` so we also need the `!important` here to be able to override the default hidden behavior on the sphinx rendered scikit-learn.org. See: https://github.com/scikit-learn/scikit-learn/issues/21755 */display: inline-block !important;position: relative;}#sk-container-id-2 div.sk-text-repr-fallback {display: none;}</style><div id=\"sk-container-id-2\" class=\"sk-top-container\"><div class=\"sk-text-repr-fallback\"><pre>KMeans(n_clusters=10, random_state=42)</pre><b>In a Jupyter environment, please rerun this cell to show the HTML representation or trust the notebook. <br />On GitHub, the HTML representation is unable to render, please try loading this page with nbviewer.org.</b></div><div class=\"sk-container\" hidden><div class=\"sk-item\"><div class=\"sk-estimator sk-toggleable\"><input class=\"sk-toggleable__control sk-hidden--visually\" id=\"sk-estimator-id-2\" type=\"checkbox\" checked><label for=\"sk-estimator-id-2\" class=\"sk-toggleable__label sk-toggleable__label-arrow\">KMeans</label><div class=\"sk-toggleable__content\"><pre>KMeans(n_clusters=10, random_state=42)</pre></div></div></div></div></div>"
     },
     "execution_count": 29,
     "metadata": {},
     "output_type": "execute_result"
    }
   ],
   "source": [
    "model = KMeans(n_clusters=10, random_state=42)\n",
    "model.fit(df_scaled)"
   ]
  },
  {
   "cell_type": "code",
   "execution_count": 31,
   "metadata": {
    "collapsed": false
   },
   "outputs": [
    {
     "data": {
      "text/plain": "   Unnamed: 0                track_id                 artists   \n0           0  5SuOikwiRyPMVoIQDJUgSV             Gen Hoshino  \\\n1           1  4qPNDBW1i3p13qLCt0Ki3A            Ben Woodward   \n2           2  1iJBSr7s7jYXzM8EGcbK5b  Ingrid Michaelson;ZAYN   \n3           3  6lfxq3CG4xtTiEg7opyCyx            Kina Grannis   \n4           4  5vjLSffimiIP26QG5WcN2K        Chord Overstreet   \n\n                                          album_name   \n0                                             Comedy  \\\n1                                   Ghost (Acoustic)   \n2                                     To Begin Again   \n3  Crazy Rich Asians (Original Motion Picture Sou...   \n4                                            Hold On   \n\n                   track_name  popularity  duration_ms  explicit   \n0                      Comedy          73       230666     False  \\\n1            Ghost - Acoustic          55       149610     False   \n2              To Begin Again          57       210826     False   \n3  Can't Help Falling In Love          71       201933     False   \n4                     Hold On          82       198853     False   \n\n   danceability  energy  ...  speechiness  acousticness  instrumentalness   \n0         0.676  0.4610  ...       0.1430        0.0322          0.000001  \\\n1         0.420  0.1660  ...       0.0763        0.9240          0.000006   \n2         0.438  0.3590  ...       0.0557        0.2100          0.000000   \n3         0.266  0.0596  ...       0.0363        0.9050          0.000071   \n4         0.618  0.4430  ...       0.0526        0.4690          0.000000   \n\n   liveness  valence    tempo  time_signature  track_genre  genre_num   \n0    0.3580    0.715   87.917               4     acoustic          0  \\\n1    0.1010    0.267   77.489               4     acoustic          0   \n2    0.1170    0.120   76.332               4     acoustic          0   \n3    0.1320    0.143  181.740               3     acoustic          0   \n4    0.0829    0.167  119.949               4     acoustic          0   \n\n   ClusterLabel  \n0             7  \n1             2  \n2             2  \n3             2  \n4             2  \n\n[5 rows x 23 columns]",
      "text/html": "<div>\n<style scoped>\n    .dataframe tbody tr th:only-of-type {\n        vertical-align: middle;\n    }\n\n    .dataframe tbody tr th {\n        vertical-align: top;\n    }\n\n    .dataframe thead th {\n        text-align: right;\n    }\n</style>\n<table border=\"1\" class=\"dataframe\">\n  <thead>\n    <tr style=\"text-align: right;\">\n      <th></th>\n      <th>Unnamed: 0</th>\n      <th>track_id</th>\n      <th>artists</th>\n      <th>album_name</th>\n      <th>track_name</th>\n      <th>popularity</th>\n      <th>duration_ms</th>\n      <th>explicit</th>\n      <th>danceability</th>\n      <th>energy</th>\n      <th>...</th>\n      <th>speechiness</th>\n      <th>acousticness</th>\n      <th>instrumentalness</th>\n      <th>liveness</th>\n      <th>valence</th>\n      <th>tempo</th>\n      <th>time_signature</th>\n      <th>track_genre</th>\n      <th>genre_num</th>\n      <th>ClusterLabel</th>\n    </tr>\n  </thead>\n  <tbody>\n    <tr>\n      <th>0</th>\n      <td>0</td>\n      <td>5SuOikwiRyPMVoIQDJUgSV</td>\n      <td>Gen Hoshino</td>\n      <td>Comedy</td>\n      <td>Comedy</td>\n      <td>73</td>\n      <td>230666</td>\n      <td>False</td>\n      <td>0.676</td>\n      <td>0.4610</td>\n      <td>...</td>\n      <td>0.1430</td>\n      <td>0.0322</td>\n      <td>0.000001</td>\n      <td>0.3580</td>\n      <td>0.715</td>\n      <td>87.917</td>\n      <td>4</td>\n      <td>acoustic</td>\n      <td>0</td>\n      <td>7</td>\n    </tr>\n    <tr>\n      <th>1</th>\n      <td>1</td>\n      <td>4qPNDBW1i3p13qLCt0Ki3A</td>\n      <td>Ben Woodward</td>\n      <td>Ghost (Acoustic)</td>\n      <td>Ghost - Acoustic</td>\n      <td>55</td>\n      <td>149610</td>\n      <td>False</td>\n      <td>0.420</td>\n      <td>0.1660</td>\n      <td>...</td>\n      <td>0.0763</td>\n      <td>0.9240</td>\n      <td>0.000006</td>\n      <td>0.1010</td>\n      <td>0.267</td>\n      <td>77.489</td>\n      <td>4</td>\n      <td>acoustic</td>\n      <td>0</td>\n      <td>2</td>\n    </tr>\n    <tr>\n      <th>2</th>\n      <td>2</td>\n      <td>1iJBSr7s7jYXzM8EGcbK5b</td>\n      <td>Ingrid Michaelson;ZAYN</td>\n      <td>To Begin Again</td>\n      <td>To Begin Again</td>\n      <td>57</td>\n      <td>210826</td>\n      <td>False</td>\n      <td>0.438</td>\n      <td>0.3590</td>\n      <td>...</td>\n      <td>0.0557</td>\n      <td>0.2100</td>\n      <td>0.000000</td>\n      <td>0.1170</td>\n      <td>0.120</td>\n      <td>76.332</td>\n      <td>4</td>\n      <td>acoustic</td>\n      <td>0</td>\n      <td>2</td>\n    </tr>\n    <tr>\n      <th>3</th>\n      <td>3</td>\n      <td>6lfxq3CG4xtTiEg7opyCyx</td>\n      <td>Kina Grannis</td>\n      <td>Crazy Rich Asians (Original Motion Picture Sou...</td>\n      <td>Can't Help Falling In Love</td>\n      <td>71</td>\n      <td>201933</td>\n      <td>False</td>\n      <td>0.266</td>\n      <td>0.0596</td>\n      <td>...</td>\n      <td>0.0363</td>\n      <td>0.9050</td>\n      <td>0.000071</td>\n      <td>0.1320</td>\n      <td>0.143</td>\n      <td>181.740</td>\n      <td>3</td>\n      <td>acoustic</td>\n      <td>0</td>\n      <td>2</td>\n    </tr>\n    <tr>\n      <th>4</th>\n      <td>4</td>\n      <td>5vjLSffimiIP26QG5WcN2K</td>\n      <td>Chord Overstreet</td>\n      <td>Hold On</td>\n      <td>Hold On</td>\n      <td>82</td>\n      <td>198853</td>\n      <td>False</td>\n      <td>0.618</td>\n      <td>0.4430</td>\n      <td>...</td>\n      <td>0.0526</td>\n      <td>0.4690</td>\n      <td>0.000000</td>\n      <td>0.0829</td>\n      <td>0.167</td>\n      <td>119.949</td>\n      <td>4</td>\n      <td>acoustic</td>\n      <td>0</td>\n      <td>2</td>\n    </tr>\n  </tbody>\n</table>\n<p>5 rows × 23 columns</p>\n</div>"
     },
     "execution_count": 31,
     "metadata": {},
     "output_type": "execute_result"
    }
   ],
   "source": [
    "df = kaggle.assign(ClusterLabel= model.labels_)\n",
    "df.head()"
   ]
  },
  {
   "cell_type": "markdown",
   "source": [],
   "metadata": {
    "collapsed": false
   }
  },
  {
   "cell_type": "markdown",
   "source": [],
   "metadata": {
    "collapsed": false
   }
  },
  {
   "cell_type": "code",
   "execution_count": 33,
   "metadata": {
    "collapsed": false
   },
   "outputs": [],
   "source": [
    "# create csv file from the df called kaggle_spotify_clustered.csv\n",
    "df.to_csv('kaggle_spotify_cluster.csv', index=False)"
   ]
  },
  {
   "cell_type": "markdown",
   "source": [
    "#### Using 10 clusters we can now create 10 playlists."
   ],
   "metadata": {
    "collapsed": false
   }
  },
  {
   "cell_type": "markdown",
   "source": [
    "## Visualize clusters\n",
    "\n",
    "#### We will now visualize the clusters in a radar chart. The radar chart will show the mean value for each feature for each cluster. This will give us an idea of the characteristics of each cluster."
   ],
   "metadata": {
    "collapsed": false
   }
  },
  {
   "cell_type": "code",
   "execution_count": 44,
   "metadata": {
    "collapsed": false
   },
   "outputs": [
    {
     "data": {
      "text/plain": "              danceability    energy       key  loudness      mode   \nClusterLabel                                                         \n0                 0.665985  0.721626  0.733188  0.798634  1.000000  \\\n1                 0.651723  0.713770  0.122188  0.795857  1.000000   \n2                 0.512023  0.336420  0.455435  0.707407  0.770415   \n3                 0.522493  0.752945  0.486239  0.784017  0.679317   \n4                 0.350433  0.166374  0.439659  0.519967  0.653863   \n5                 0.604888  0.733497  0.505670  0.757511  0.521905   \n6                 0.409100  0.838493  0.490099  0.820411  0.691492   \n7                 0.669216  0.727442  0.554115  0.799604  0.000000   \n8                 0.569196  0.696911  0.461243  0.707264  0.694475   \n9                 0.709786  0.661452  0.509317  0.783185  0.523394   \n\n              speechiness  acousticness  instrumentalness  liveness   valence   \nClusterLabel                                                                    \n0                0.065758      0.220300          0.017917  0.168010  0.656330  \\\n1                0.063748      0.212756          0.025705  0.174952  0.618250   \n2                0.047996      0.735534          0.034402  0.159497  0.363493   \n3                0.084459      0.295452          0.071477  0.767078  0.507041   \n4                0.052348      0.869200          0.811913  0.160344  0.185949   \n5                0.070159      0.117428          0.805195  0.166109  0.341008   \n6                0.089941      0.061004          0.066925  0.207719  0.319377   \n7                0.071554      0.183760          0.025975  0.171238  0.588869   \n8                0.915597      0.783864          0.006438  0.721442  0.431383   \n9                0.348349      0.279827          0.027609  0.186201  0.555579   \n\n                 tempo  genre_num  \nClusterLabel                       \n0             0.491134   0.525693  \n1             0.490714   0.519403  \n2             0.465717   0.557153  \n3             0.506765   0.584101  \n4             0.424231   0.470666  \n5             0.515630   0.448154  \n6             0.617174   0.413588  \n7             0.487747   0.508197  \n8             0.410415   0.198871  \n9             0.512264   0.468632  ",
      "text/html": "<div>\n<style scoped>\n    .dataframe tbody tr th:only-of-type {\n        vertical-align: middle;\n    }\n\n    .dataframe tbody tr th {\n        vertical-align: top;\n    }\n\n    .dataframe thead th {\n        text-align: right;\n    }\n</style>\n<table border=\"1\" class=\"dataframe\">\n  <thead>\n    <tr style=\"text-align: right;\">\n      <th></th>\n      <th>danceability</th>\n      <th>energy</th>\n      <th>key</th>\n      <th>loudness</th>\n      <th>mode</th>\n      <th>speechiness</th>\n      <th>acousticness</th>\n      <th>instrumentalness</th>\n      <th>liveness</th>\n      <th>valence</th>\n      <th>tempo</th>\n      <th>genre_num</th>\n    </tr>\n    <tr>\n      <th>ClusterLabel</th>\n      <th></th>\n      <th></th>\n      <th></th>\n      <th></th>\n      <th></th>\n      <th></th>\n      <th></th>\n      <th></th>\n      <th></th>\n      <th></th>\n      <th></th>\n      <th></th>\n    </tr>\n  </thead>\n  <tbody>\n    <tr>\n      <th>0</th>\n      <td>0.665985</td>\n      <td>0.721626</td>\n      <td>0.733188</td>\n      <td>0.798634</td>\n      <td>1.000000</td>\n      <td>0.065758</td>\n      <td>0.220300</td>\n      <td>0.017917</td>\n      <td>0.168010</td>\n      <td>0.656330</td>\n      <td>0.491134</td>\n      <td>0.525693</td>\n    </tr>\n    <tr>\n      <th>1</th>\n      <td>0.651723</td>\n      <td>0.713770</td>\n      <td>0.122188</td>\n      <td>0.795857</td>\n      <td>1.000000</td>\n      <td>0.063748</td>\n      <td>0.212756</td>\n      <td>0.025705</td>\n      <td>0.174952</td>\n      <td>0.618250</td>\n      <td>0.490714</td>\n      <td>0.519403</td>\n    </tr>\n    <tr>\n      <th>2</th>\n      <td>0.512023</td>\n      <td>0.336420</td>\n      <td>0.455435</td>\n      <td>0.707407</td>\n      <td>0.770415</td>\n      <td>0.047996</td>\n      <td>0.735534</td>\n      <td>0.034402</td>\n      <td>0.159497</td>\n      <td>0.363493</td>\n      <td>0.465717</td>\n      <td>0.557153</td>\n    </tr>\n    <tr>\n      <th>3</th>\n      <td>0.522493</td>\n      <td>0.752945</td>\n      <td>0.486239</td>\n      <td>0.784017</td>\n      <td>0.679317</td>\n      <td>0.084459</td>\n      <td>0.295452</td>\n      <td>0.071477</td>\n      <td>0.767078</td>\n      <td>0.507041</td>\n      <td>0.506765</td>\n      <td>0.584101</td>\n    </tr>\n    <tr>\n      <th>4</th>\n      <td>0.350433</td>\n      <td>0.166374</td>\n      <td>0.439659</td>\n      <td>0.519967</td>\n      <td>0.653863</td>\n      <td>0.052348</td>\n      <td>0.869200</td>\n      <td>0.811913</td>\n      <td>0.160344</td>\n      <td>0.185949</td>\n      <td>0.424231</td>\n      <td>0.470666</td>\n    </tr>\n    <tr>\n      <th>5</th>\n      <td>0.604888</td>\n      <td>0.733497</td>\n      <td>0.505670</td>\n      <td>0.757511</td>\n      <td>0.521905</td>\n      <td>0.070159</td>\n      <td>0.117428</td>\n      <td>0.805195</td>\n      <td>0.166109</td>\n      <td>0.341008</td>\n      <td>0.515630</td>\n      <td>0.448154</td>\n    </tr>\n    <tr>\n      <th>6</th>\n      <td>0.409100</td>\n      <td>0.838493</td>\n      <td>0.490099</td>\n      <td>0.820411</td>\n      <td>0.691492</td>\n      <td>0.089941</td>\n      <td>0.061004</td>\n      <td>0.066925</td>\n      <td>0.207719</td>\n      <td>0.319377</td>\n      <td>0.617174</td>\n      <td>0.413588</td>\n    </tr>\n    <tr>\n      <th>7</th>\n      <td>0.669216</td>\n      <td>0.727442</td>\n      <td>0.554115</td>\n      <td>0.799604</td>\n      <td>0.000000</td>\n      <td>0.071554</td>\n      <td>0.183760</td>\n      <td>0.025975</td>\n      <td>0.171238</td>\n      <td>0.588869</td>\n      <td>0.487747</td>\n      <td>0.508197</td>\n    </tr>\n    <tr>\n      <th>8</th>\n      <td>0.569196</td>\n      <td>0.696911</td>\n      <td>0.461243</td>\n      <td>0.707264</td>\n      <td>0.694475</td>\n      <td>0.915597</td>\n      <td>0.783864</td>\n      <td>0.006438</td>\n      <td>0.721442</td>\n      <td>0.431383</td>\n      <td>0.410415</td>\n      <td>0.198871</td>\n    </tr>\n    <tr>\n      <th>9</th>\n      <td>0.709786</td>\n      <td>0.661452</td>\n      <td>0.509317</td>\n      <td>0.783185</td>\n      <td>0.523394</td>\n      <td>0.348349</td>\n      <td>0.279827</td>\n      <td>0.027609</td>\n      <td>0.186201</td>\n      <td>0.555579</td>\n      <td>0.512264</td>\n      <td>0.468632</td>\n    </tr>\n  </tbody>\n</table>\n</div>"
     },
     "execution_count": 44,
     "metadata": {},
     "output_type": "execute_result"
    }
   ],
   "source": [
    "# Create a data frame with the mean value for each feature for each cluster\n",
    "cluster_values = df.groupby(\"ClusterLabel\")[['danceability', 'energy','key', 'loudness', 'mode', 'speechiness', 'acousticness', 'instrumentalness', 'liveness', 'valence', 'tempo','genre_num']].mean()\n",
    "cluster_values"
   ]
  },
  {
   "cell_type": "markdown",
   "source": [
    "#### Visualize cluster profiles in a radar chart\n"
   ],
   "metadata": {
    "collapsed": false
   }
  },
  {
   "cell_type": "code",
   "execution_count": 45,
   "metadata": {
    "collapsed": false
   },
   "outputs": [
    {
     "data": {
      "application/vnd.plotly.v1+json": {
       "data": [
        {
         "fill": "toself",
         "name": "Cluster 7",
         "r": [
          0.6692159462957633,
          0.727441981811857,
          0.554114920511581,
          0.7996043511877747,
          0.0,
          0.07155421103220376,
          0.18375960975941735,
          0.0259747038841127,
          0.17123799135317797,
          0.588869467848111,
          0.4877473999868022,
          0.508197153875348
         ],
         "theta": [
          "danceability",
          "energy",
          "key",
          "loudness",
          "mode",
          "speechiness",
          "acousticness",
          "instrumentalness",
          "liveness",
          "valence",
          "tempo",
          "genre_num"
         ],
         "type": "scatterpolar"
        },
        {
         "fill": "toself",
         "name": "Cluster 2",
         "r": [
          0.5120233205119993,
          0.33642018907109905,
          0.45543488697638457,
          0.7074074240991063,
          0.7704152537661905,
          0.04799607244150643,
          0.735534231369304,
          0.03440219924565012,
          0.1594968258380121,
          0.3634930844114396,
          0.4657167003720031,
          0.5571526749139223
         ],
         "theta": [
          "danceability",
          "energy",
          "key",
          "loudness",
          "mode",
          "speechiness",
          "acousticness",
          "instrumentalness",
          "liveness",
          "valence",
          "tempo",
          "genre_num"
         ],
         "type": "scatterpolar"
        },
        {
         "fill": "toself",
         "name": "Cluster 0",
         "r": [
          0.6659854437998999,
          0.7216260767181013,
          0.7331879869526271,
          0.7986340969561296,
          1.0,
          0.06575755970333039,
          0.22029967799063888,
          0.017916720229286733,
          0.16801009233438682,
          0.6563301479822736,
          0.49113445356544233,
          0.5256934401839121
         ],
         "theta": [
          "danceability",
          "energy",
          "key",
          "loudness",
          "mode",
          "speechiness",
          "acousticness",
          "instrumentalness",
          "liveness",
          "valence",
          "tempo",
          "genre_num"
         ],
         "type": "scatterpolar"
        },
        {
         "fill": "toself",
         "name": "Cluster 1",
         "r": [
          0.6517230238120993,
          0.7137696952870132,
          0.12218807776522775,
          0.7958565280573711,
          1.0,
          0.0637484081392501,
          0.2127560382600716,
          0.025704726439925035,
          0.17495203373360171,
          0.6182504596279099,
          0.4907142487298271,
          0.5194033627950031
         ],
         "theta": [
          "danceability",
          "energy",
          "key",
          "loudness",
          "mode",
          "speechiness",
          "acousticness",
          "instrumentalness",
          "liveness",
          "valence",
          "tempo",
          "genre_num"
         ],
         "type": "scatterpolar"
        },
        {
         "fill": "toself",
         "name": "Cluster 6",
         "r": [
          0.4091002560930234,
          0.8384929333518082,
          0.4900991346190183,
          0.8204113839638963,
          0.6914923098240267,
          0.08994142356741171,
          0.06100445166212863,
          0.06692539477275876,
          0.20771884439517802,
          0.3193766421131569,
          0.6171742539011795,
          0.4135877555574902
         ],
         "theta": [
          "danceability",
          "energy",
          "key",
          "loudness",
          "mode",
          "speechiness",
          "acousticness",
          "instrumentalness",
          "liveness",
          "valence",
          "tempo",
          "genre_num"
         ],
         "type": "scatterpolar"
        },
        {
         "fill": "toself",
         "name": "Cluster 3",
         "r": [
          0.5224929995833352,
          0.7529451251691673,
          0.4862392682339725,
          0.7840171124818001,
          0.6793174463077376,
          0.08445877864108157,
          0.29545234962946815,
          0.0714772429508679,
          0.7670778170050015,
          0.5070414620912743,
          0.5067650502157929,
          0.5841007375933057
         ],
         "theta": [
          "danceability",
          "energy",
          "key",
          "loudness",
          "mode",
          "speechiness",
          "acousticness",
          "instrumentalness",
          "liveness",
          "valence",
          "tempo",
          "genre_num"
         ],
         "type": "scatterpolar"
        },
        {
         "fill": "toself",
         "name": "Cluster 4",
         "r": [
          0.350432674496448,
          0.1663741177834685,
          0.4396590747423013,
          0.5199674795975199,
          0.6538625693555271,
          0.05234755789670771,
          0.8691997457363955,
          0.8119134111836676,
          0.1603439607341016,
          0.18594877374495183,
          0.4242306288073817,
          0.4706657752899807
         ],
         "theta": [
          "danceability",
          "energy",
          "key",
          "loudness",
          "mode",
          "speechiness",
          "acousticness",
          "instrumentalness",
          "liveness",
          "valence",
          "tempo",
          "genre_num"
         ],
         "type": "scatterpolar"
        },
        {
         "fill": "toself",
         "name": "Cluster 5",
         "r": [
          0.6048883239308017,
          0.7334967607202524,
          0.5056702161769917,
          0.7575105030902608,
          0.5219045851123074,
          0.07015913381956754,
          0.1174276258216456,
          0.8051946352329682,
          0.16610935585669204,
          0.34100845791982,
          0.5156295146716265,
          0.4481536179363299
         ],
         "theta": [
          "danceability",
          "energy",
          "key",
          "loudness",
          "mode",
          "speechiness",
          "acousticness",
          "instrumentalness",
          "liveness",
          "valence",
          "tempo",
          "genre_num"
         ],
         "type": "scatterpolar"
        },
        {
         "fill": "toself",
         "name": "Cluster 9",
         "r": [
          0.7097862290088424,
          0.6614522170813221,
          0.5093170846977011,
          0.7831849488025957,
          0.5233939844040104,
          0.3483487221716637,
          0.27982738931962536,
          0.027608845883772746,
          0.1862013182324545,
          0.5555788224449392,
          0.5122638880652198,
          0.46863221265227123
         ],
         "theta": [
          "danceability",
          "energy",
          "key",
          "loudness",
          "mode",
          "speechiness",
          "acousticness",
          "instrumentalness",
          "liveness",
          "valence",
          "tempo",
          "genre_num"
         ],
         "type": "scatterpolar"
        },
        {
         "fill": "toself",
         "name": "Cluster 8",
         "r": [
          0.5691955717121944,
          0.6969114842903574,
          0.46124298236974287,
          0.7072638199938039,
          0.6944745395449621,
          0.9155973705926272,
          0.7838644110570124,
          0.006437570639219936,
          0.721442036836403,
          0.4313833522977836,
          0.41041489143264825,
          0.19887055484712224
         ],
         "theta": [
          "danceability",
          "energy",
          "key",
          "loudness",
          "mode",
          "speechiness",
          "acousticness",
          "instrumentalness",
          "liveness",
          "valence",
          "tempo",
          "genre_num"
         ],
         "type": "scatterpolar"
        }
       ],
       "layout": {
        "polar": {
         "radialaxis": {
          "range": [
           0,
           1
          ],
          "visible": true
         }
        },
        "showlegend": true,
        "title": {
         "text": "Cluster Profiles"
        },
        "template": {
         "data": {
          "histogram2dcontour": [
           {
            "type": "histogram2dcontour",
            "colorbar": {
             "outlinewidth": 0,
             "ticks": ""
            },
            "colorscale": [
             [
              0.0,
              "#0d0887"
             ],
             [
              0.1111111111111111,
              "#46039f"
             ],
             [
              0.2222222222222222,
              "#7201a8"
             ],
             [
              0.3333333333333333,
              "#9c179e"
             ],
             [
              0.4444444444444444,
              "#bd3786"
             ],
             [
              0.5555555555555556,
              "#d8576b"
             ],
             [
              0.6666666666666666,
              "#ed7953"
             ],
             [
              0.7777777777777778,
              "#fb9f3a"
             ],
             [
              0.8888888888888888,
              "#fdca26"
             ],
             [
              1.0,
              "#f0f921"
             ]
            ]
           }
          ],
          "choropleth": [
           {
            "type": "choropleth",
            "colorbar": {
             "outlinewidth": 0,
             "ticks": ""
            }
           }
          ],
          "histogram2d": [
           {
            "type": "histogram2d",
            "colorbar": {
             "outlinewidth": 0,
             "ticks": ""
            },
            "colorscale": [
             [
              0.0,
              "#0d0887"
             ],
             [
              0.1111111111111111,
              "#46039f"
             ],
             [
              0.2222222222222222,
              "#7201a8"
             ],
             [
              0.3333333333333333,
              "#9c179e"
             ],
             [
              0.4444444444444444,
              "#bd3786"
             ],
             [
              0.5555555555555556,
              "#d8576b"
             ],
             [
              0.6666666666666666,
              "#ed7953"
             ],
             [
              0.7777777777777778,
              "#fb9f3a"
             ],
             [
              0.8888888888888888,
              "#fdca26"
             ],
             [
              1.0,
              "#f0f921"
             ]
            ]
           }
          ],
          "heatmap": [
           {
            "type": "heatmap",
            "colorbar": {
             "outlinewidth": 0,
             "ticks": ""
            },
            "colorscale": [
             [
              0.0,
              "#0d0887"
             ],
             [
              0.1111111111111111,
              "#46039f"
             ],
             [
              0.2222222222222222,
              "#7201a8"
             ],
             [
              0.3333333333333333,
              "#9c179e"
             ],
             [
              0.4444444444444444,
              "#bd3786"
             ],
             [
              0.5555555555555556,
              "#d8576b"
             ],
             [
              0.6666666666666666,
              "#ed7953"
             ],
             [
              0.7777777777777778,
              "#fb9f3a"
             ],
             [
              0.8888888888888888,
              "#fdca26"
             ],
             [
              1.0,
              "#f0f921"
             ]
            ]
           }
          ],
          "heatmapgl": [
           {
            "type": "heatmapgl",
            "colorbar": {
             "outlinewidth": 0,
             "ticks": ""
            },
            "colorscale": [
             [
              0.0,
              "#0d0887"
             ],
             [
              0.1111111111111111,
              "#46039f"
             ],
             [
              0.2222222222222222,
              "#7201a8"
             ],
             [
              0.3333333333333333,
              "#9c179e"
             ],
             [
              0.4444444444444444,
              "#bd3786"
             ],
             [
              0.5555555555555556,
              "#d8576b"
             ],
             [
              0.6666666666666666,
              "#ed7953"
             ],
             [
              0.7777777777777778,
              "#fb9f3a"
             ],
             [
              0.8888888888888888,
              "#fdca26"
             ],
             [
              1.0,
              "#f0f921"
             ]
            ]
           }
          ],
          "contourcarpet": [
           {
            "type": "contourcarpet",
            "colorbar": {
             "outlinewidth": 0,
             "ticks": ""
            }
           }
          ],
          "contour": [
           {
            "type": "contour",
            "colorbar": {
             "outlinewidth": 0,
             "ticks": ""
            },
            "colorscale": [
             [
              0.0,
              "#0d0887"
             ],
             [
              0.1111111111111111,
              "#46039f"
             ],
             [
              0.2222222222222222,
              "#7201a8"
             ],
             [
              0.3333333333333333,
              "#9c179e"
             ],
             [
              0.4444444444444444,
              "#bd3786"
             ],
             [
              0.5555555555555556,
              "#d8576b"
             ],
             [
              0.6666666666666666,
              "#ed7953"
             ],
             [
              0.7777777777777778,
              "#fb9f3a"
             ],
             [
              0.8888888888888888,
              "#fdca26"
             ],
             [
              1.0,
              "#f0f921"
             ]
            ]
           }
          ],
          "surface": [
           {
            "type": "surface",
            "colorbar": {
             "outlinewidth": 0,
             "ticks": ""
            },
            "colorscale": [
             [
              0.0,
              "#0d0887"
             ],
             [
              0.1111111111111111,
              "#46039f"
             ],
             [
              0.2222222222222222,
              "#7201a8"
             ],
             [
              0.3333333333333333,
              "#9c179e"
             ],
             [
              0.4444444444444444,
              "#bd3786"
             ],
             [
              0.5555555555555556,
              "#d8576b"
             ],
             [
              0.6666666666666666,
              "#ed7953"
             ],
             [
              0.7777777777777778,
              "#fb9f3a"
             ],
             [
              0.8888888888888888,
              "#fdca26"
             ],
             [
              1.0,
              "#f0f921"
             ]
            ]
           }
          ],
          "mesh3d": [
           {
            "type": "mesh3d",
            "colorbar": {
             "outlinewidth": 0,
             "ticks": ""
            }
           }
          ],
          "scatter": [
           {
            "marker": {
             "line": {
              "color": "#283442"
             }
            },
            "type": "scatter"
           }
          ],
          "parcoords": [
           {
            "type": "parcoords",
            "line": {
             "colorbar": {
              "outlinewidth": 0,
              "ticks": ""
             }
            }
           }
          ],
          "scatterpolargl": [
           {
            "type": "scatterpolargl",
            "marker": {
             "colorbar": {
              "outlinewidth": 0,
              "ticks": ""
             }
            }
           }
          ],
          "bar": [
           {
            "error_x": {
             "color": "#f2f5fa"
            },
            "error_y": {
             "color": "#f2f5fa"
            },
            "marker": {
             "line": {
              "color": "rgb(17,17,17)",
              "width": 0.5
             },
             "pattern": {
              "fillmode": "overlay",
              "size": 10,
              "solidity": 0.2
             }
            },
            "type": "bar"
           }
          ],
          "scattergeo": [
           {
            "type": "scattergeo",
            "marker": {
             "colorbar": {
              "outlinewidth": 0,
              "ticks": ""
             }
            }
           }
          ],
          "scatterpolar": [
           {
            "type": "scatterpolar",
            "marker": {
             "colorbar": {
              "outlinewidth": 0,
              "ticks": ""
             }
            }
           }
          ],
          "histogram": [
           {
            "marker": {
             "pattern": {
              "fillmode": "overlay",
              "size": 10,
              "solidity": 0.2
             }
            },
            "type": "histogram"
           }
          ],
          "scattergl": [
           {
            "marker": {
             "line": {
              "color": "#283442"
             }
            },
            "type": "scattergl"
           }
          ],
          "scatter3d": [
           {
            "type": "scatter3d",
            "line": {
             "colorbar": {
              "outlinewidth": 0,
              "ticks": ""
             }
            },
            "marker": {
             "colorbar": {
              "outlinewidth": 0,
              "ticks": ""
             }
            }
           }
          ],
          "scattermapbox": [
           {
            "type": "scattermapbox",
            "marker": {
             "colorbar": {
              "outlinewidth": 0,
              "ticks": ""
             }
            }
           }
          ],
          "scatterternary": [
           {
            "type": "scatterternary",
            "marker": {
             "colorbar": {
              "outlinewidth": 0,
              "ticks": ""
             }
            }
           }
          ],
          "scattercarpet": [
           {
            "type": "scattercarpet",
            "marker": {
             "colorbar": {
              "outlinewidth": 0,
              "ticks": ""
             }
            }
           }
          ],
          "carpet": [
           {
            "aaxis": {
             "endlinecolor": "#A2B1C6",
             "gridcolor": "#506784",
             "linecolor": "#506784",
             "minorgridcolor": "#506784",
             "startlinecolor": "#A2B1C6"
            },
            "baxis": {
             "endlinecolor": "#A2B1C6",
             "gridcolor": "#506784",
             "linecolor": "#506784",
             "minorgridcolor": "#506784",
             "startlinecolor": "#A2B1C6"
            },
            "type": "carpet"
           }
          ],
          "table": [
           {
            "cells": {
             "fill": {
              "color": "#506784"
             },
             "line": {
              "color": "rgb(17,17,17)"
             }
            },
            "header": {
             "fill": {
              "color": "#2a3f5f"
             },
             "line": {
              "color": "rgb(17,17,17)"
             }
            },
            "type": "table"
           }
          ],
          "barpolar": [
           {
            "marker": {
             "line": {
              "color": "rgb(17,17,17)",
              "width": 0.5
             },
             "pattern": {
              "fillmode": "overlay",
              "size": 10,
              "solidity": 0.2
             }
            },
            "type": "barpolar"
           }
          ],
          "pie": [
           {
            "automargin": true,
            "type": "pie"
           }
          ]
         },
         "layout": {
          "autotypenumbers": "strict",
          "colorway": [
           "#636efa",
           "#EF553B",
           "#00cc96",
           "#ab63fa",
           "#FFA15A",
           "#19d3f3",
           "#FF6692",
           "#B6E880",
           "#FF97FF",
           "#FECB52"
          ],
          "font": {
           "color": "#f2f5fa"
          },
          "hovermode": "closest",
          "hoverlabel": {
           "align": "left"
          },
          "paper_bgcolor": "rgb(17,17,17)",
          "plot_bgcolor": "rgb(17,17,17)",
          "polar": {
           "bgcolor": "rgb(17,17,17)",
           "angularaxis": {
            "gridcolor": "#506784",
            "linecolor": "#506784",
            "ticks": ""
           },
           "radialaxis": {
            "gridcolor": "#506784",
            "linecolor": "#506784",
            "ticks": ""
           }
          },
          "ternary": {
           "bgcolor": "rgb(17,17,17)",
           "aaxis": {
            "gridcolor": "#506784",
            "linecolor": "#506784",
            "ticks": ""
           },
           "baxis": {
            "gridcolor": "#506784",
            "linecolor": "#506784",
            "ticks": ""
           },
           "caxis": {
            "gridcolor": "#506784",
            "linecolor": "#506784",
            "ticks": ""
           }
          },
          "coloraxis": {
           "colorbar": {
            "outlinewidth": 0,
            "ticks": ""
           }
          },
          "colorscale": {
           "sequential": [
            [
             0.0,
             "#0d0887"
            ],
            [
             0.1111111111111111,
             "#46039f"
            ],
            [
             0.2222222222222222,
             "#7201a8"
            ],
            [
             0.3333333333333333,
             "#9c179e"
            ],
            [
             0.4444444444444444,
             "#bd3786"
            ],
            [
             0.5555555555555556,
             "#d8576b"
            ],
            [
             0.6666666666666666,
             "#ed7953"
            ],
            [
             0.7777777777777778,
             "#fb9f3a"
            ],
            [
             0.8888888888888888,
             "#fdca26"
            ],
            [
             1.0,
             "#f0f921"
            ]
           ],
           "sequentialminus": [
            [
             0.0,
             "#0d0887"
            ],
            [
             0.1111111111111111,
             "#46039f"
            ],
            [
             0.2222222222222222,
             "#7201a8"
            ],
            [
             0.3333333333333333,
             "#9c179e"
            ],
            [
             0.4444444444444444,
             "#bd3786"
            ],
            [
             0.5555555555555556,
             "#d8576b"
            ],
            [
             0.6666666666666666,
             "#ed7953"
            ],
            [
             0.7777777777777778,
             "#fb9f3a"
            ],
            [
             0.8888888888888888,
             "#fdca26"
            ],
            [
             1.0,
             "#f0f921"
            ]
           ],
           "diverging": [
            [
             0,
             "#8e0152"
            ],
            [
             0.1,
             "#c51b7d"
            ],
            [
             0.2,
             "#de77ae"
            ],
            [
             0.3,
             "#f1b6da"
            ],
            [
             0.4,
             "#fde0ef"
            ],
            [
             0.5,
             "#f7f7f7"
            ],
            [
             0.6,
             "#e6f5d0"
            ],
            [
             0.7,
             "#b8e186"
            ],
            [
             0.8,
             "#7fbc41"
            ],
            [
             0.9,
             "#4d9221"
            ],
            [
             1,
             "#276419"
            ]
           ]
          },
          "xaxis": {
           "gridcolor": "#283442",
           "linecolor": "#506784",
           "ticks": "",
           "title": {
            "standoff": 15
           },
           "zerolinecolor": "#283442",
           "automargin": true,
           "zerolinewidth": 2
          },
          "yaxis": {
           "gridcolor": "#283442",
           "linecolor": "#506784",
           "ticks": "",
           "title": {
            "standoff": 15
           },
           "zerolinecolor": "#283442",
           "automargin": true,
           "zerolinewidth": 2
          },
          "scene": {
           "xaxis": {
            "backgroundcolor": "rgb(17,17,17)",
            "gridcolor": "#506784",
            "linecolor": "#506784",
            "showbackground": true,
            "ticks": "",
            "zerolinecolor": "#C8D4E3",
            "gridwidth": 2
           },
           "yaxis": {
            "backgroundcolor": "rgb(17,17,17)",
            "gridcolor": "#506784",
            "linecolor": "#506784",
            "showbackground": true,
            "ticks": "",
            "zerolinecolor": "#C8D4E3",
            "gridwidth": 2
           },
           "zaxis": {
            "backgroundcolor": "rgb(17,17,17)",
            "gridcolor": "#506784",
            "linecolor": "#506784",
            "showbackground": true,
            "ticks": "",
            "zerolinecolor": "#C8D4E3",
            "gridwidth": 2
           }
          },
          "shapedefaults": {
           "line": {
            "color": "#f2f5fa"
           }
          },
          "annotationdefaults": {
           "arrowcolor": "#f2f5fa",
           "arrowhead": 0,
           "arrowwidth": 1
          },
          "geo": {
           "bgcolor": "rgb(17,17,17)",
           "landcolor": "rgb(17,17,17)",
           "subunitcolor": "#506784",
           "showland": true,
           "showlakes": true,
           "lakecolor": "rgb(17,17,17)"
          },
          "title": {
           "x": 0.05
          },
          "updatemenudefaults": {
           "bgcolor": "#506784",
           "borderwidth": 0
          },
          "sliderdefaults": {
           "bgcolor": "#C8D4E3",
           "borderwidth": 1,
           "bordercolor": "rgb(17,17,17)",
           "tickwidth": 0
          },
          "mapbox": {
           "style": "dark"
          }
         }
        }
       },
       "config": {
        "plotlyServerURL": "https://plot.ly"
       }
      },
      "text/html": "<div>                            <div id=\"5878d2eb-8ce0-4e45-a9bd-837631157287\" class=\"plotly-graph-div\" style=\"height:525px; width:100%;\"></div>            <script type=\"text/javascript\">                require([\"plotly\"], function(Plotly) {                    window.PLOTLYENV=window.PLOTLYENV || {};                                    if (document.getElementById(\"5878d2eb-8ce0-4e45-a9bd-837631157287\")) {                    Plotly.newPlot(                        \"5878d2eb-8ce0-4e45-a9bd-837631157287\",                        [{\"fill\":\"toself\",\"name\":\"Cluster 7\",\"r\":[0.6692159462957633,0.727441981811857,0.554114920511581,0.7996043511877747,0.0,0.07155421103220376,0.18375960975941735,0.0259747038841127,0.17123799135317797,0.588869467848111,0.4877473999868022,0.508197153875348],\"theta\":[\"danceability\",\"energy\",\"key\",\"loudness\",\"mode\",\"speechiness\",\"acousticness\",\"instrumentalness\",\"liveness\",\"valence\",\"tempo\",\"genre_num\"],\"type\":\"scatterpolar\"},{\"fill\":\"toself\",\"name\":\"Cluster 2\",\"r\":[0.5120233205119993,0.33642018907109905,0.45543488697638457,0.7074074240991063,0.7704152537661905,0.04799607244150643,0.735534231369304,0.03440219924565012,0.1594968258380121,0.3634930844114396,0.4657167003720031,0.5571526749139223],\"theta\":[\"danceability\",\"energy\",\"key\",\"loudness\",\"mode\",\"speechiness\",\"acousticness\",\"instrumentalness\",\"liveness\",\"valence\",\"tempo\",\"genre_num\"],\"type\":\"scatterpolar\"},{\"fill\":\"toself\",\"name\":\"Cluster 0\",\"r\":[0.6659854437998999,0.7216260767181013,0.7331879869526271,0.7986340969561296,1.0,0.06575755970333039,0.22029967799063888,0.017916720229286733,0.16801009233438682,0.6563301479822736,0.49113445356544233,0.5256934401839121],\"theta\":[\"danceability\",\"energy\",\"key\",\"loudness\",\"mode\",\"speechiness\",\"acousticness\",\"instrumentalness\",\"liveness\",\"valence\",\"tempo\",\"genre_num\"],\"type\":\"scatterpolar\"},{\"fill\":\"toself\",\"name\":\"Cluster 1\",\"r\":[0.6517230238120993,0.7137696952870132,0.12218807776522775,0.7958565280573711,1.0,0.0637484081392501,0.2127560382600716,0.025704726439925035,0.17495203373360171,0.6182504596279099,0.4907142487298271,0.5194033627950031],\"theta\":[\"danceability\",\"energy\",\"key\",\"loudness\",\"mode\",\"speechiness\",\"acousticness\",\"instrumentalness\",\"liveness\",\"valence\",\"tempo\",\"genre_num\"],\"type\":\"scatterpolar\"},{\"fill\":\"toself\",\"name\":\"Cluster 6\",\"r\":[0.4091002560930234,0.8384929333518082,0.4900991346190183,0.8204113839638963,0.6914923098240267,0.08994142356741171,0.06100445166212863,0.06692539477275876,0.20771884439517802,0.3193766421131569,0.6171742539011795,0.4135877555574902],\"theta\":[\"danceability\",\"energy\",\"key\",\"loudness\",\"mode\",\"speechiness\",\"acousticness\",\"instrumentalness\",\"liveness\",\"valence\",\"tempo\",\"genre_num\"],\"type\":\"scatterpolar\"},{\"fill\":\"toself\",\"name\":\"Cluster 3\",\"r\":[0.5224929995833352,0.7529451251691673,0.4862392682339725,0.7840171124818001,0.6793174463077376,0.08445877864108157,0.29545234962946815,0.0714772429508679,0.7670778170050015,0.5070414620912743,0.5067650502157929,0.5841007375933057],\"theta\":[\"danceability\",\"energy\",\"key\",\"loudness\",\"mode\",\"speechiness\",\"acousticness\",\"instrumentalness\",\"liveness\",\"valence\",\"tempo\",\"genre_num\"],\"type\":\"scatterpolar\"},{\"fill\":\"toself\",\"name\":\"Cluster 4\",\"r\":[0.350432674496448,0.1663741177834685,0.4396590747423013,0.5199674795975199,0.6538625693555271,0.05234755789670771,0.8691997457363955,0.8119134111836676,0.1603439607341016,0.18594877374495183,0.4242306288073817,0.4706657752899807],\"theta\":[\"danceability\",\"energy\",\"key\",\"loudness\",\"mode\",\"speechiness\",\"acousticness\",\"instrumentalness\",\"liveness\",\"valence\",\"tempo\",\"genre_num\"],\"type\":\"scatterpolar\"},{\"fill\":\"toself\",\"name\":\"Cluster 5\",\"r\":[0.6048883239308017,0.7334967607202524,0.5056702161769917,0.7575105030902608,0.5219045851123074,0.07015913381956754,0.1174276258216456,0.8051946352329682,0.16610935585669204,0.34100845791982,0.5156295146716265,0.4481536179363299],\"theta\":[\"danceability\",\"energy\",\"key\",\"loudness\",\"mode\",\"speechiness\",\"acousticness\",\"instrumentalness\",\"liveness\",\"valence\",\"tempo\",\"genre_num\"],\"type\":\"scatterpolar\"},{\"fill\":\"toself\",\"name\":\"Cluster 9\",\"r\":[0.7097862290088424,0.6614522170813221,0.5093170846977011,0.7831849488025957,0.5233939844040104,0.3483487221716637,0.27982738931962536,0.027608845883772746,0.1862013182324545,0.5555788224449392,0.5122638880652198,0.46863221265227123],\"theta\":[\"danceability\",\"energy\",\"key\",\"loudness\",\"mode\",\"speechiness\",\"acousticness\",\"instrumentalness\",\"liveness\",\"valence\",\"tempo\",\"genre_num\"],\"type\":\"scatterpolar\"},{\"fill\":\"toself\",\"name\":\"Cluster 8\",\"r\":[0.5691955717121944,0.6969114842903574,0.46124298236974287,0.7072638199938039,0.6944745395449621,0.9155973705926272,0.7838644110570124,0.006437570639219936,0.721442036836403,0.4313833522977836,0.41041489143264825,0.19887055484712224],\"theta\":[\"danceability\",\"energy\",\"key\",\"loudness\",\"mode\",\"speechiness\",\"acousticness\",\"instrumentalness\",\"liveness\",\"valence\",\"tempo\",\"genre_num\"],\"type\":\"scatterpolar\"}],                        {\"polar\":{\"radialaxis\":{\"range\":[0,1],\"visible\":true}},\"showlegend\":true,\"title\":{\"text\":\"Cluster Profiles\"},\"template\":{\"data\":{\"histogram2dcontour\":[{\"type\":\"histogram2dcontour\",\"colorbar\":{\"outlinewidth\":0,\"ticks\":\"\"},\"colorscale\":[[0.0,\"#0d0887\"],[0.1111111111111111,\"#46039f\"],[0.2222222222222222,\"#7201a8\"],[0.3333333333333333,\"#9c179e\"],[0.4444444444444444,\"#bd3786\"],[0.5555555555555556,\"#d8576b\"],[0.6666666666666666,\"#ed7953\"],[0.7777777777777778,\"#fb9f3a\"],[0.8888888888888888,\"#fdca26\"],[1.0,\"#f0f921\"]]}],\"choropleth\":[{\"type\":\"choropleth\",\"colorbar\":{\"outlinewidth\":0,\"ticks\":\"\"}}],\"histogram2d\":[{\"type\":\"histogram2d\",\"colorbar\":{\"outlinewidth\":0,\"ticks\":\"\"},\"colorscale\":[[0.0,\"#0d0887\"],[0.1111111111111111,\"#46039f\"],[0.2222222222222222,\"#7201a8\"],[0.3333333333333333,\"#9c179e\"],[0.4444444444444444,\"#bd3786\"],[0.5555555555555556,\"#d8576b\"],[0.6666666666666666,\"#ed7953\"],[0.7777777777777778,\"#fb9f3a\"],[0.8888888888888888,\"#fdca26\"],[1.0,\"#f0f921\"]]}],\"heatmap\":[{\"type\":\"heatmap\",\"colorbar\":{\"outlinewidth\":0,\"ticks\":\"\"},\"colorscale\":[[0.0,\"#0d0887\"],[0.1111111111111111,\"#46039f\"],[0.2222222222222222,\"#7201a8\"],[0.3333333333333333,\"#9c179e\"],[0.4444444444444444,\"#bd3786\"],[0.5555555555555556,\"#d8576b\"],[0.6666666666666666,\"#ed7953\"],[0.7777777777777778,\"#fb9f3a\"],[0.8888888888888888,\"#fdca26\"],[1.0,\"#f0f921\"]]}],\"heatmapgl\":[{\"type\":\"heatmapgl\",\"colorbar\":{\"outlinewidth\":0,\"ticks\":\"\"},\"colorscale\":[[0.0,\"#0d0887\"],[0.1111111111111111,\"#46039f\"],[0.2222222222222222,\"#7201a8\"],[0.3333333333333333,\"#9c179e\"],[0.4444444444444444,\"#bd3786\"],[0.5555555555555556,\"#d8576b\"],[0.6666666666666666,\"#ed7953\"],[0.7777777777777778,\"#fb9f3a\"],[0.8888888888888888,\"#fdca26\"],[1.0,\"#f0f921\"]]}],\"contourcarpet\":[{\"type\":\"contourcarpet\",\"colorbar\":{\"outlinewidth\":0,\"ticks\":\"\"}}],\"contour\":[{\"type\":\"contour\",\"colorbar\":{\"outlinewidth\":0,\"ticks\":\"\"},\"colorscale\":[[0.0,\"#0d0887\"],[0.1111111111111111,\"#46039f\"],[0.2222222222222222,\"#7201a8\"],[0.3333333333333333,\"#9c179e\"],[0.4444444444444444,\"#bd3786\"],[0.5555555555555556,\"#d8576b\"],[0.6666666666666666,\"#ed7953\"],[0.7777777777777778,\"#fb9f3a\"],[0.8888888888888888,\"#fdca26\"],[1.0,\"#f0f921\"]]}],\"surface\":[{\"type\":\"surface\",\"colorbar\":{\"outlinewidth\":0,\"ticks\":\"\"},\"colorscale\":[[0.0,\"#0d0887\"],[0.1111111111111111,\"#46039f\"],[0.2222222222222222,\"#7201a8\"],[0.3333333333333333,\"#9c179e\"],[0.4444444444444444,\"#bd3786\"],[0.5555555555555556,\"#d8576b\"],[0.6666666666666666,\"#ed7953\"],[0.7777777777777778,\"#fb9f3a\"],[0.8888888888888888,\"#fdca26\"],[1.0,\"#f0f921\"]]}],\"mesh3d\":[{\"type\":\"mesh3d\",\"colorbar\":{\"outlinewidth\":0,\"ticks\":\"\"}}],\"scatter\":[{\"marker\":{\"line\":{\"color\":\"#283442\"}},\"type\":\"scatter\"}],\"parcoords\":[{\"type\":\"parcoords\",\"line\":{\"colorbar\":{\"outlinewidth\":0,\"ticks\":\"\"}}}],\"scatterpolargl\":[{\"type\":\"scatterpolargl\",\"marker\":{\"colorbar\":{\"outlinewidth\":0,\"ticks\":\"\"}}}],\"bar\":[{\"error_x\":{\"color\":\"#f2f5fa\"},\"error_y\":{\"color\":\"#f2f5fa\"},\"marker\":{\"line\":{\"color\":\"rgb(17,17,17)\",\"width\":0.5},\"pattern\":{\"fillmode\":\"overlay\",\"size\":10,\"solidity\":0.2}},\"type\":\"bar\"}],\"scattergeo\":[{\"type\":\"scattergeo\",\"marker\":{\"colorbar\":{\"outlinewidth\":0,\"ticks\":\"\"}}}],\"scatterpolar\":[{\"type\":\"scatterpolar\",\"marker\":{\"colorbar\":{\"outlinewidth\":0,\"ticks\":\"\"}}}],\"histogram\":[{\"marker\":{\"pattern\":{\"fillmode\":\"overlay\",\"size\":10,\"solidity\":0.2}},\"type\":\"histogram\"}],\"scattergl\":[{\"marker\":{\"line\":{\"color\":\"#283442\"}},\"type\":\"scattergl\"}],\"scatter3d\":[{\"type\":\"scatter3d\",\"line\":{\"colorbar\":{\"outlinewidth\":0,\"ticks\":\"\"}},\"marker\":{\"colorbar\":{\"outlinewidth\":0,\"ticks\":\"\"}}}],\"scattermapbox\":[{\"type\":\"scattermapbox\",\"marker\":{\"colorbar\":{\"outlinewidth\":0,\"ticks\":\"\"}}}],\"scatterternary\":[{\"type\":\"scatterternary\",\"marker\":{\"colorbar\":{\"outlinewidth\":0,\"ticks\":\"\"}}}],\"scattercarpet\":[{\"type\":\"scattercarpet\",\"marker\":{\"colorbar\":{\"outlinewidth\":0,\"ticks\":\"\"}}}],\"carpet\":[{\"aaxis\":{\"endlinecolor\":\"#A2B1C6\",\"gridcolor\":\"#506784\",\"linecolor\":\"#506784\",\"minorgridcolor\":\"#506784\",\"startlinecolor\":\"#A2B1C6\"},\"baxis\":{\"endlinecolor\":\"#A2B1C6\",\"gridcolor\":\"#506784\",\"linecolor\":\"#506784\",\"minorgridcolor\":\"#506784\",\"startlinecolor\":\"#A2B1C6\"},\"type\":\"carpet\"}],\"table\":[{\"cells\":{\"fill\":{\"color\":\"#506784\"},\"line\":{\"color\":\"rgb(17,17,17)\"}},\"header\":{\"fill\":{\"color\":\"#2a3f5f\"},\"line\":{\"color\":\"rgb(17,17,17)\"}},\"type\":\"table\"}],\"barpolar\":[{\"marker\":{\"line\":{\"color\":\"rgb(17,17,17)\",\"width\":0.5},\"pattern\":{\"fillmode\":\"overlay\",\"size\":10,\"solidity\":0.2}},\"type\":\"barpolar\"}],\"pie\":[{\"automargin\":true,\"type\":\"pie\"}]},\"layout\":{\"autotypenumbers\":\"strict\",\"colorway\":[\"#636efa\",\"#EF553B\",\"#00cc96\",\"#ab63fa\",\"#FFA15A\",\"#19d3f3\",\"#FF6692\",\"#B6E880\",\"#FF97FF\",\"#FECB52\"],\"font\":{\"color\":\"#f2f5fa\"},\"hovermode\":\"closest\",\"hoverlabel\":{\"align\":\"left\"},\"paper_bgcolor\":\"rgb(17,17,17)\",\"plot_bgcolor\":\"rgb(17,17,17)\",\"polar\":{\"bgcolor\":\"rgb(17,17,17)\",\"angularaxis\":{\"gridcolor\":\"#506784\",\"linecolor\":\"#506784\",\"ticks\":\"\"},\"radialaxis\":{\"gridcolor\":\"#506784\",\"linecolor\":\"#506784\",\"ticks\":\"\"}},\"ternary\":{\"bgcolor\":\"rgb(17,17,17)\",\"aaxis\":{\"gridcolor\":\"#506784\",\"linecolor\":\"#506784\",\"ticks\":\"\"},\"baxis\":{\"gridcolor\":\"#506784\",\"linecolor\":\"#506784\",\"ticks\":\"\"},\"caxis\":{\"gridcolor\":\"#506784\",\"linecolor\":\"#506784\",\"ticks\":\"\"}},\"coloraxis\":{\"colorbar\":{\"outlinewidth\":0,\"ticks\":\"\"}},\"colorscale\":{\"sequential\":[[0.0,\"#0d0887\"],[0.1111111111111111,\"#46039f\"],[0.2222222222222222,\"#7201a8\"],[0.3333333333333333,\"#9c179e\"],[0.4444444444444444,\"#bd3786\"],[0.5555555555555556,\"#d8576b\"],[0.6666666666666666,\"#ed7953\"],[0.7777777777777778,\"#fb9f3a\"],[0.8888888888888888,\"#fdca26\"],[1.0,\"#f0f921\"]],\"sequentialminus\":[[0.0,\"#0d0887\"],[0.1111111111111111,\"#46039f\"],[0.2222222222222222,\"#7201a8\"],[0.3333333333333333,\"#9c179e\"],[0.4444444444444444,\"#bd3786\"],[0.5555555555555556,\"#d8576b\"],[0.6666666666666666,\"#ed7953\"],[0.7777777777777778,\"#fb9f3a\"],[0.8888888888888888,\"#fdca26\"],[1.0,\"#f0f921\"]],\"diverging\":[[0,\"#8e0152\"],[0.1,\"#c51b7d\"],[0.2,\"#de77ae\"],[0.3,\"#f1b6da\"],[0.4,\"#fde0ef\"],[0.5,\"#f7f7f7\"],[0.6,\"#e6f5d0\"],[0.7,\"#b8e186\"],[0.8,\"#7fbc41\"],[0.9,\"#4d9221\"],[1,\"#276419\"]]},\"xaxis\":{\"gridcolor\":\"#283442\",\"linecolor\":\"#506784\",\"ticks\":\"\",\"title\":{\"standoff\":15},\"zerolinecolor\":\"#283442\",\"automargin\":true,\"zerolinewidth\":2},\"yaxis\":{\"gridcolor\":\"#283442\",\"linecolor\":\"#506784\",\"ticks\":\"\",\"title\":{\"standoff\":15},\"zerolinecolor\":\"#283442\",\"automargin\":true,\"zerolinewidth\":2},\"scene\":{\"xaxis\":{\"backgroundcolor\":\"rgb(17,17,17)\",\"gridcolor\":\"#506784\",\"linecolor\":\"#506784\",\"showbackground\":true,\"ticks\":\"\",\"zerolinecolor\":\"#C8D4E3\",\"gridwidth\":2},\"yaxis\":{\"backgroundcolor\":\"rgb(17,17,17)\",\"gridcolor\":\"#506784\",\"linecolor\":\"#506784\",\"showbackground\":true,\"ticks\":\"\",\"zerolinecolor\":\"#C8D4E3\",\"gridwidth\":2},\"zaxis\":{\"backgroundcolor\":\"rgb(17,17,17)\",\"gridcolor\":\"#506784\",\"linecolor\":\"#506784\",\"showbackground\":true,\"ticks\":\"\",\"zerolinecolor\":\"#C8D4E3\",\"gridwidth\":2}},\"shapedefaults\":{\"line\":{\"color\":\"#f2f5fa\"}},\"annotationdefaults\":{\"arrowcolor\":\"#f2f5fa\",\"arrowhead\":0,\"arrowwidth\":1},\"geo\":{\"bgcolor\":\"rgb(17,17,17)\",\"landcolor\":\"rgb(17,17,17)\",\"subunitcolor\":\"#506784\",\"showland\":true,\"showlakes\":true,\"lakecolor\":\"rgb(17,17,17)\"},\"title\":{\"x\":0.05},\"updatemenudefaults\":{\"bgcolor\":\"#506784\",\"borderwidth\":0},\"sliderdefaults\":{\"bgcolor\":\"#C8D4E3\",\"borderwidth\":1,\"bordercolor\":\"rgb(17,17,17)\",\"tickwidth\":0},\"mapbox\":{\"style\":\"dark\"}}}},                        {\"responsive\": true}                    ).then(function(){\n                            \nvar gd = document.getElementById('5878d2eb-8ce0-4e45-a9bd-837631157287');\nvar x = new MutationObserver(function (mutations, observer) {{\n        var display = window.getComputedStyle(gd).display;\n        if (!display || display === 'none') {{\n            console.log([gd, 'removed!']);\n            Plotly.purge(gd);\n            observer.disconnect();\n        }}\n}});\n\n// Listen for the removal of the full notebook cells\nvar notebookContainer = gd.closest('#notebook-container');\nif (notebookContainer) {{\n    x.observe(notebookContainer, {childList: true});\n}}\n\n// Listen for the clearing of the current output cell\nvar outputEl = gd.closest('.output');\nif (outputEl) {{\n    x.observe(outputEl, {childList: true});\n}}\n\n                        })                };                });            </script>        </div>"
     },
     "metadata": {},
     "output_type": "display_data"
    }
   ],
   "source": [
    "# Define columns\n",
    "columns = ['danceability', 'energy',\n",
    "       'key', 'loudness', 'mode', 'speechiness', 'acousticness',\n",
    "       'instrumentalness', 'liveness', 'valence', 'tempo',\n",
    "       'genre_num']\n",
    "\n",
    "# Adjust values between 0 and 1 measured by the min and max value of each column\n",
    "for column in columns:\n",
    "    df[column] = (df[column] - df[column].min()) / (df[column].max() - df[column].min())\n",
    "\n",
    "# Define cluster labels\n",
    "cluster_labels = df['ClusterLabel'].unique()\n",
    "\n",
    "# First create a list of all the traces\n",
    "traces = []\n",
    "\n",
    "# Loop through all clusters\n",
    "for cluster in cluster_labels:\n",
    "    # Create a trace for each cluster\n",
    "    trace = go.Scatterpolar(\n",
    "        r = df[df['ClusterLabel'] == cluster][columns].mean().values,\n",
    "        theta = columns,\n",
    "        fill = 'toself',\n",
    "        name = 'Cluster ' + str(cluster)\n",
    "    )\n",
    "    # Append trace to traces list\n",
    "    traces.append(trace)\n",
    "\n",
    "# Create layout\n",
    "layout = go.Layout(\n",
    "    title = 'Cluster Profiles',\n",
    "    polar = dict(\n",
    "        radialaxis = dict(\n",
    "            visible = True,\n",
    "            range = [0, 1]\n",
    "        )\n",
    "    ),\n",
    "    showlegend = True\n",
    ")\n",
    "\n",
    "# Create figure\n",
    "fig = go.Figure(data=traces, layout=layout)\n",
    "\n",
    "# Plot figure\n",
    "fig.show()"
   ]
  },
  {
   "cell_type": "code",
   "execution_count": 36,
   "metadata": {},
   "outputs": [
    {
     "data": {
      "text/plain": "   ClusterLabel  danceability    energy       key  loudness      mode   \n0             0      0.665985  0.721626  0.733188  0.798634  1.000000  \\\n1             1      0.651723  0.713770  0.122188  0.795857  1.000000   \n2             2      0.512023  0.336420  0.455435  0.707407  0.770415   \n3             3      0.522493  0.752945  0.486239  0.784017  0.679317   \n4             4      0.350433  0.166374  0.439659  0.519967  0.653863   \n5             5      0.604888  0.733497  0.505670  0.757511  0.521905   \n6             6      0.409100  0.838493  0.490099  0.820411  0.691492   \n7             7      0.669216  0.727442  0.554115  0.799604  0.000000   \n8             8      0.569196  0.696911  0.461243  0.707264  0.694475   \n9             9      0.709786  0.661452  0.509317  0.783185  0.523394   \n\n   speechiness  acousticness  instrumentalness  liveness   valence     tempo   \n0     0.065758      0.220300          0.017917  0.168010  0.656330  0.491134  \\\n1     0.063748      0.212756          0.025705  0.174952  0.618250  0.490714   \n2     0.047996      0.735534          0.034402  0.159497  0.363493  0.465717   \n3     0.084459      0.295452          0.071477  0.767078  0.507041  0.506765   \n4     0.052348      0.869200          0.811913  0.160344  0.185949  0.424231   \n5     0.070159      0.117428          0.805195  0.166109  0.341008  0.515630   \n6     0.089941      0.061004          0.066925  0.207719  0.319377  0.617174   \n7     0.071554      0.183760          0.025975  0.171238  0.588869  0.487747   \n8     0.915597      0.783864          0.006438  0.721442  0.431383  0.410415   \n9     0.348349      0.279827          0.027609  0.186201  0.555579  0.512264   \n\n   genre_num  \n0   0.525693  \n1   0.519403  \n2   0.557153  \n3   0.584101  \n4   0.470666  \n5   0.448154  \n6   0.413588  \n7   0.508197  \n8   0.198871  \n9   0.468632  ",
      "text/html": "<div>\n<style scoped>\n    .dataframe tbody tr th:only-of-type {\n        vertical-align: middle;\n    }\n\n    .dataframe tbody tr th {\n        vertical-align: top;\n    }\n\n    .dataframe thead th {\n        text-align: right;\n    }\n</style>\n<table border=\"1\" class=\"dataframe\">\n  <thead>\n    <tr style=\"text-align: right;\">\n      <th></th>\n      <th>ClusterLabel</th>\n      <th>danceability</th>\n      <th>energy</th>\n      <th>key</th>\n      <th>loudness</th>\n      <th>mode</th>\n      <th>speechiness</th>\n      <th>acousticness</th>\n      <th>instrumentalness</th>\n      <th>liveness</th>\n      <th>valence</th>\n      <th>tempo</th>\n      <th>genre_num</th>\n    </tr>\n  </thead>\n  <tbody>\n    <tr>\n      <th>0</th>\n      <td>0</td>\n      <td>0.665985</td>\n      <td>0.721626</td>\n      <td>0.733188</td>\n      <td>0.798634</td>\n      <td>1.000000</td>\n      <td>0.065758</td>\n      <td>0.220300</td>\n      <td>0.017917</td>\n      <td>0.168010</td>\n      <td>0.656330</td>\n      <td>0.491134</td>\n      <td>0.525693</td>\n    </tr>\n    <tr>\n      <th>1</th>\n      <td>1</td>\n      <td>0.651723</td>\n      <td>0.713770</td>\n      <td>0.122188</td>\n      <td>0.795857</td>\n      <td>1.000000</td>\n      <td>0.063748</td>\n      <td>0.212756</td>\n      <td>0.025705</td>\n      <td>0.174952</td>\n      <td>0.618250</td>\n      <td>0.490714</td>\n      <td>0.519403</td>\n    </tr>\n    <tr>\n      <th>2</th>\n      <td>2</td>\n      <td>0.512023</td>\n      <td>0.336420</td>\n      <td>0.455435</td>\n      <td>0.707407</td>\n      <td>0.770415</td>\n      <td>0.047996</td>\n      <td>0.735534</td>\n      <td>0.034402</td>\n      <td>0.159497</td>\n      <td>0.363493</td>\n      <td>0.465717</td>\n      <td>0.557153</td>\n    </tr>\n    <tr>\n      <th>3</th>\n      <td>3</td>\n      <td>0.522493</td>\n      <td>0.752945</td>\n      <td>0.486239</td>\n      <td>0.784017</td>\n      <td>0.679317</td>\n      <td>0.084459</td>\n      <td>0.295452</td>\n      <td>0.071477</td>\n      <td>0.767078</td>\n      <td>0.507041</td>\n      <td>0.506765</td>\n      <td>0.584101</td>\n    </tr>\n    <tr>\n      <th>4</th>\n      <td>4</td>\n      <td>0.350433</td>\n      <td>0.166374</td>\n      <td>0.439659</td>\n      <td>0.519967</td>\n      <td>0.653863</td>\n      <td>0.052348</td>\n      <td>0.869200</td>\n      <td>0.811913</td>\n      <td>0.160344</td>\n      <td>0.185949</td>\n      <td>0.424231</td>\n      <td>0.470666</td>\n    </tr>\n    <tr>\n      <th>5</th>\n      <td>5</td>\n      <td>0.604888</td>\n      <td>0.733497</td>\n      <td>0.505670</td>\n      <td>0.757511</td>\n      <td>0.521905</td>\n      <td>0.070159</td>\n      <td>0.117428</td>\n      <td>0.805195</td>\n      <td>0.166109</td>\n      <td>0.341008</td>\n      <td>0.515630</td>\n      <td>0.448154</td>\n    </tr>\n    <tr>\n      <th>6</th>\n      <td>6</td>\n      <td>0.409100</td>\n      <td>0.838493</td>\n      <td>0.490099</td>\n      <td>0.820411</td>\n      <td>0.691492</td>\n      <td>0.089941</td>\n      <td>0.061004</td>\n      <td>0.066925</td>\n      <td>0.207719</td>\n      <td>0.319377</td>\n      <td>0.617174</td>\n      <td>0.413588</td>\n    </tr>\n    <tr>\n      <th>7</th>\n      <td>7</td>\n      <td>0.669216</td>\n      <td>0.727442</td>\n      <td>0.554115</td>\n      <td>0.799604</td>\n      <td>0.000000</td>\n      <td>0.071554</td>\n      <td>0.183760</td>\n      <td>0.025975</td>\n      <td>0.171238</td>\n      <td>0.588869</td>\n      <td>0.487747</td>\n      <td>0.508197</td>\n    </tr>\n    <tr>\n      <th>8</th>\n      <td>8</td>\n      <td>0.569196</td>\n      <td>0.696911</td>\n      <td>0.461243</td>\n      <td>0.707264</td>\n      <td>0.694475</td>\n      <td>0.915597</td>\n      <td>0.783864</td>\n      <td>0.006438</td>\n      <td>0.721442</td>\n      <td>0.431383</td>\n      <td>0.410415</td>\n      <td>0.198871</td>\n    </tr>\n    <tr>\n      <th>9</th>\n      <td>9</td>\n      <td>0.709786</td>\n      <td>0.661452</td>\n      <td>0.509317</td>\n      <td>0.783185</td>\n      <td>0.523394</td>\n      <td>0.348349</td>\n      <td>0.279827</td>\n      <td>0.027609</td>\n      <td>0.186201</td>\n      <td>0.555579</td>\n      <td>0.512264</td>\n      <td>0.468632</td>\n    </tr>\n  </tbody>\n</table>\n</div>"
     },
     "execution_count": 36,
     "metadata": {},
     "output_type": "execute_result"
    }
   ],
   "source": [
    "# Put in a data frame the mean value for each value of each cluster\n",
    "df_cluster = df.groupby('ClusterLabel')[columns].mean().reset_index()\n",
    "df_cluster"
   ]
  },
  {
   "cell_type": "code",
   "execution_count": 43,
   "metadata": {
    "collapsed": false
   },
   "outputs": [
    {
     "data": {
      "text/plain": "ClusterLabel  track_genre   \n0             party             361\n              salsa             313\n              rockabilly        292\n1             children          298\n              party             258\n              synth-pop         258\n2             romance           794\n              tango             707\n              honky-tonk        689\n3             pagode            482\n              sertanejo         413\n              samba             404\n4             new-age           773\n              classical         740\n              sleep             733\n5             minimal-techno    840\n              detroit-techno    757\n              techno            587\n6             death-metal       637\n              metalcore         588\n              black-metal       540\n7             house             418\n              latino            417\n              dance             415\n8             comedy            801\n              kids               12\n              show-tunes         12\n9             j-dance           453\n              dancehall         338\n              funk              243\nName: count, dtype: int64"
     },
     "execution_count": 43,
     "metadata": {},
     "output_type": "execute_result"
    }
   ],
   "source": [
    "# give the top genres per cluster label\n",
    "df_cluster_genre = df.groupby('ClusterLabel')['track_genre'].value_counts().groupby(level=0).nlargest(3).reset_index(level=0, drop=True)\n",
    "df_cluster_genre"
   ]
  },
  {
   "cell_type": "code",
   "execution_count": null,
   "metadata": {
    "collapsed": false
   },
   "outputs": [],
   "source": []
  }
 ],
 "metadata": {
  "kernelspec": {
   "display_name": "base",
   "language": "python",
   "name": "python3"
  },
  "language_info": {
   "codemirror_mode": {
    "name": "ipython",
    "version": 3
   },
   "file_extension": ".py",
   "mimetype": "text/x-python",
   "name": "python",
   "nbconvert_exporter": "python",
   "pygments_lexer": "ipython3",
   "version": "3.9.13 (main, Aug 25 2022, 18:29:29) \n[Clang 12.0.0 ]"
  },
  "vscode": {
   "interpreter": {
    "hash": "c509fdce0c3dba15321bf7a06dbe183b495f6053e3bab72258ae6a3199cf0021"
   }
  }
 },
 "nbformat": 4,
 "nbformat_minor": 0
}
