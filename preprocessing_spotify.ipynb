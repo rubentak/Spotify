{
 "cells": [
  {
   "cell_type": "markdown",
   "source": [
    "# Spotify preprocessing in python using spotipy\n",
    "\n",
    "## By Nils Jennissen and Ruben Tak\n",
    "\n",
    "Github:\n",
    "- https://github.com/nilsjenn\n",
    "- https://github.com/rubentak\n",
    "\n",
    "Medium:\n",
    "- https://medium.com/@nijenn\n",
    "- https://medium.com/@rubentak"
   ],
   "metadata": {
    "collapsed": false
   }
  },
  {
   "cell_type": "code",
   "execution_count": 2,
   "metadata": {
    "collapsed": true
   },
   "outputs": [],
   "source": [
    "#importing libraries\n",
    "import credentials\n",
    "import spotipy\n",
    "import pandas as pd\n",
    "import matplotlib.pyplot as plt\n",
    "import seaborn as sns"
   ]
  },
  {
   "cell_type": "markdown",
   "source": [
    "# Credentials:\n",
    "The user credentials are stored in a seperate file. Storing credentials in a separate file in a Python project provides security, separation of concerns, flexibility, collaboration, and better version control management. The scope defines the access to the user data. The token is created with the user credentials and the scope. The token is used to access the user data.\n",
    "\n",
    "The credentials are stored in the following way:\n",
    "\n",
    "USER = '...'\n",
    "CID = '...'\n",
    "SECRET = '...'\n",
    "REDIRECT = '...'\n",
    "\n",
    "Fill in your own credentials in the credentials file"
   ],
   "metadata": {
    "collapsed": false
   }
  },
  {
   "cell_type": "code",
   "execution_count": null,
   "outputs": [],
   "source": [
    "# Retrieve user credentials from separate file\n",
    "user = credentials.USER\n",
    "cid = credentials.CID\n",
    "secret = credentials.SECRET\n",
    "redirect_uri = credentials.REDIRECT\n",
    "\n",
    "# Define scope of access\n",
    "scope = 'user-library-read'  # user-library-read, user-read-recently-played\n",
    "\n",
    "# Prompt for user token using credentials\n",
    "token = spotipy.util.prompt_for_user_token(user, scope, client_id=cid, client_secret=secret, redirect_uri=redirect_uri)\n",
    "\n",
    "# Create Spotify token and check if successful\n",
    "if token:\n",
    "    sp = spotipy.Spotify(auth=token)\n",
    "    print('Token created for', user)\n",
    "else:\n",
    "    print(\"Can't get token for\", user)"
   ],
   "metadata": {
    "collapsed": false,
    "pycharm": {
     "is_executing": true
    }
   }
  },
  {
   "cell_type": "markdown",
   "source": [
    "#### Look if the right user is logged in"
   ],
   "metadata": {
    "collapsed": false
   }
  },
  {
   "cell_type": "code",
   "execution_count": null,
   "outputs": [],
   "source": [
    "# User data\n",
    "user_data = sp.current_user()\n",
    "print('My data:')\n",
    "print('Name:', user_data['display_name'])\n",
    "print('Followers:', user_data['followers']['total'])\n",
    "print('Link:', user_data['external_urls']['spotify'])"
   ],
   "metadata": {
    "collapsed": false,
    "pycharm": {
     "is_executing": true
    }
   }
  },
  {
   "cell_type": "markdown",
   "source": [
    "# Deriving saved songs from spotify library\n",
    "\n",
    "In the following code, the saved songs are retrieved from the spotify library. The songs are stored in a dataframe."
   ],
   "metadata": {
    "collapsed": false
   }
  },
  {
   "cell_type": "code",
   "execution_count": 5,
   "outputs": [],
   "source": [
    "# Function to get all saved tracks\n",
    "def get_saved_tracks():\n",
    "    results = sp.current_user_saved_tracks()\n",
    "    tracks = []\n",
    "    while results['next']:\n",
    "        tracks.extend(results['items'])\n",
    "        results = sp.next(results)\n",
    "    return tracks\n",
    "\n",
    "# Converting tracks to dataframe\n",
    "def deconstruct_tracks(tracks):\n",
    "    saved_tracks = []\n",
    "    for track in tracks:\n",
    "        saved_track = {\n",
    "            'added_at': track['added_at'],\n",
    "            'id': track['track']['id'],\n",
    "            'name': track['track']['name'],\n",
    "            'popularity': track['track']['popularity'],\n",
    "            'uri': track['track']['uri'],\n",
    "            'artist': track['track']['artists'][0]['name'],\n",
    "            'album': track['track']['album']['name'],\n",
    "            'release_date': track['track']['album']['release_date'],\n",
    "            'duration_ms': track['track']['duration_ms']\n",
    "        }\n",
    "        saved_tracks.append(saved_track)\n",
    "    return pd.DataFrame(saved_tracks)\n",
    "\n",
    "tracks_called = get_saved_tracks()\n",
    "tracklist = deconstruct_tracks(tracks_called)"
   ],
   "metadata": {
    "collapsed": false
   }
  },
  {
   "cell_type": "code",
   "execution_count": 6,
   "outputs": [
    {
     "data": {
      "text/plain": "               added_at                      id   \n0  2023-04-05T14:24:20Z  1juU855MrNRey6Dh6sEbWh  \\\n1  2023-04-04T16:28:17Z  752l1xT5G1OHzg71ZBnTyZ   \n2  2023-04-03T17:14:26Z  1KDBSFUqriIaMOg7igDUJ6   \n3  2023-03-30T19:58:33Z  3lAbyDO7nk7vrXvQ1XNap8   \n4  2023-03-29T13:50:40Z  3xsNTAAseZTnt9qeYBZVvA   \n5  2023-03-28T19:10:32Z  1B2xkcuOPjhtCWyojUKbUk   \n6  2023-03-27T07:08:33Z  4N2j73aEDUQKjlkYFkIio5   \n7  2023-03-24T19:15:06Z  4N28QlYB0XW6H5gaXBHt6T   \n8  2023-03-24T00:39:38Z  5atmUwQngfhOfZvgGJCrJ0   \n9  2023-03-23T21:24:05Z  7w8qT1UcnJIZafNiLu2C7h   \n\n                                              name  popularity   \n0                                Techno On My Mind          42  \\\n1                                         Superman          52   \n2                          Lowdown - Classic Vocal           3   \n3                                     Capture Casa          42   \n4                 GOOD TIMES - Elephant Talk Remix          39   \n5                                       Hero Dance          41   \n6                                          Acidule          34   \n7                                             1992          50   \n8  Meet Her At The Loveparade - Nalin & Kane Remix          42   \n9              Phonky Tribu - DJ HEARTSTRING Remix          48   \n\n                                    uri        artist   \n0  spotify:track:1juU855MrNRey6Dh6sEbWh       elMefti  \\\n1  spotify:track:752l1xT5G1OHzg71ZBnTyZ  Black Coffee   \n2  spotify:track:1KDBSFUqriIaMOg7igDUJ6   Soul Vision   \n3  spotify:track:3lAbyDO7nk7vrXvQ1XNap8          HVOB   \n4  spotify:track:3xsNTAAseZTnt9qeYBZVvA        Jungle   \n5  spotify:track:1B2xkcuOPjhtCWyojUKbUk       Grand V   \n6  spotify:track:4N2j73aEDUQKjlkYFkIio5          CLTX   \n7  spotify:track:4N28QlYB0XW6H5gaXBHt6T       No_4mat   \n8  spotify:track:5atmUwQngfhOfZvgGJCrJ0       Da Hool   \n9  spotify:track:7w8qT1UcnJIZafNiLu2C7h    Funk Tribu   \n\n                                 album release_date  duration_ms  \n0                    Techno On My Mind   2022-06-10       317260  \n1                          Home Brewed   2009-11-13       433626  \n2                              Lowdown   2018-05-18       401273  \n3                                  TOO   2022-04-08       400263  \n4     GOOD TIMES (Elephant Talk Remix)   2022-11-18       295813  \n5                           Hero Dance   2020-11-30       434000  \n6                          Ethereal VA   2022-02-21       355892  \n7                                 1992   2018-11-16       404998  \n8           Meet Her at the Loveparade   2001-08-20       594666  \n9  Phonky Tribu (DJ HEARTSTRING Remix)   2023-01-13       250348  ",
      "text/html": "<div>\n<style scoped>\n    .dataframe tbody tr th:only-of-type {\n        vertical-align: middle;\n    }\n\n    .dataframe tbody tr th {\n        vertical-align: top;\n    }\n\n    .dataframe thead th {\n        text-align: right;\n    }\n</style>\n<table border=\"1\" class=\"dataframe\">\n  <thead>\n    <tr style=\"text-align: right;\">\n      <th></th>\n      <th>added_at</th>\n      <th>id</th>\n      <th>name</th>\n      <th>popularity</th>\n      <th>uri</th>\n      <th>artist</th>\n      <th>album</th>\n      <th>release_date</th>\n      <th>duration_ms</th>\n    </tr>\n  </thead>\n  <tbody>\n    <tr>\n      <th>0</th>\n      <td>2023-04-05T14:24:20Z</td>\n      <td>1juU855MrNRey6Dh6sEbWh</td>\n      <td>Techno On My Mind</td>\n      <td>42</td>\n      <td>spotify:track:1juU855MrNRey6Dh6sEbWh</td>\n      <td>elMefti</td>\n      <td>Techno On My Mind</td>\n      <td>2022-06-10</td>\n      <td>317260</td>\n    </tr>\n    <tr>\n      <th>1</th>\n      <td>2023-04-04T16:28:17Z</td>\n      <td>752l1xT5G1OHzg71ZBnTyZ</td>\n      <td>Superman</td>\n      <td>52</td>\n      <td>spotify:track:752l1xT5G1OHzg71ZBnTyZ</td>\n      <td>Black Coffee</td>\n      <td>Home Brewed</td>\n      <td>2009-11-13</td>\n      <td>433626</td>\n    </tr>\n    <tr>\n      <th>2</th>\n      <td>2023-04-03T17:14:26Z</td>\n      <td>1KDBSFUqriIaMOg7igDUJ6</td>\n      <td>Lowdown - Classic Vocal</td>\n      <td>3</td>\n      <td>spotify:track:1KDBSFUqriIaMOg7igDUJ6</td>\n      <td>Soul Vision</td>\n      <td>Lowdown</td>\n      <td>2018-05-18</td>\n      <td>401273</td>\n    </tr>\n    <tr>\n      <th>3</th>\n      <td>2023-03-30T19:58:33Z</td>\n      <td>3lAbyDO7nk7vrXvQ1XNap8</td>\n      <td>Capture Casa</td>\n      <td>42</td>\n      <td>spotify:track:3lAbyDO7nk7vrXvQ1XNap8</td>\n      <td>HVOB</td>\n      <td>TOO</td>\n      <td>2022-04-08</td>\n      <td>400263</td>\n    </tr>\n    <tr>\n      <th>4</th>\n      <td>2023-03-29T13:50:40Z</td>\n      <td>3xsNTAAseZTnt9qeYBZVvA</td>\n      <td>GOOD TIMES - Elephant Talk Remix</td>\n      <td>39</td>\n      <td>spotify:track:3xsNTAAseZTnt9qeYBZVvA</td>\n      <td>Jungle</td>\n      <td>GOOD TIMES (Elephant Talk Remix)</td>\n      <td>2022-11-18</td>\n      <td>295813</td>\n    </tr>\n    <tr>\n      <th>5</th>\n      <td>2023-03-28T19:10:32Z</td>\n      <td>1B2xkcuOPjhtCWyojUKbUk</td>\n      <td>Hero Dance</td>\n      <td>41</td>\n      <td>spotify:track:1B2xkcuOPjhtCWyojUKbUk</td>\n      <td>Grand V</td>\n      <td>Hero Dance</td>\n      <td>2020-11-30</td>\n      <td>434000</td>\n    </tr>\n    <tr>\n      <th>6</th>\n      <td>2023-03-27T07:08:33Z</td>\n      <td>4N2j73aEDUQKjlkYFkIio5</td>\n      <td>Acidule</td>\n      <td>34</td>\n      <td>spotify:track:4N2j73aEDUQKjlkYFkIio5</td>\n      <td>CLTX</td>\n      <td>Ethereal VA</td>\n      <td>2022-02-21</td>\n      <td>355892</td>\n    </tr>\n    <tr>\n      <th>7</th>\n      <td>2023-03-24T19:15:06Z</td>\n      <td>4N28QlYB0XW6H5gaXBHt6T</td>\n      <td>1992</td>\n      <td>50</td>\n      <td>spotify:track:4N28QlYB0XW6H5gaXBHt6T</td>\n      <td>No_4mat</td>\n      <td>1992</td>\n      <td>2018-11-16</td>\n      <td>404998</td>\n    </tr>\n    <tr>\n      <th>8</th>\n      <td>2023-03-24T00:39:38Z</td>\n      <td>5atmUwQngfhOfZvgGJCrJ0</td>\n      <td>Meet Her At The Loveparade - Nalin &amp; Kane Remix</td>\n      <td>42</td>\n      <td>spotify:track:5atmUwQngfhOfZvgGJCrJ0</td>\n      <td>Da Hool</td>\n      <td>Meet Her at the Loveparade</td>\n      <td>2001-08-20</td>\n      <td>594666</td>\n    </tr>\n    <tr>\n      <th>9</th>\n      <td>2023-03-23T21:24:05Z</td>\n      <td>7w8qT1UcnJIZafNiLu2C7h</td>\n      <td>Phonky Tribu - DJ HEARTSTRING Remix</td>\n      <td>48</td>\n      <td>spotify:track:7w8qT1UcnJIZafNiLu2C7h</td>\n      <td>Funk Tribu</td>\n      <td>Phonky Tribu (DJ HEARTSTRING Remix)</td>\n      <td>2023-01-13</td>\n      <td>250348</td>\n    </tr>\n  </tbody>\n</table>\n</div>"
     },
     "execution_count": 6,
     "metadata": {},
     "output_type": "execute_result"
    }
   ],
   "source": [
    "tracklist.head(10)"
   ],
   "metadata": {
    "collapsed": false
   }
  },
  {
   "cell_type": "markdown",
   "source": [
    "# Loading all audio features of the saved tracks\n",
    "\n",
    "#### In the next part of the code, the audio features of the saved tracks are retrieved. The audio features are stored in a dataframe. The dataframe is saved as a csv file.\n",
    "\n",
    "\n",
    "\n",
    "The following discription of the Audio Features is given:\n",
    "\n",
    "**Acousticness**: A value from 0.0 to 1.0 indicating whether a track is acoustic, with 1.0 representing high confidence in acoustic nature.\n",
    "\n",
    "**Danceability**: A measure from 0.0 to 1.0 describing how suitable a track is for dancing based on elements like tempo, rhythm stability, beat strength, and regularity, with 0.0 being least danceable and 1.0 being most danceable.\n",
    "\n",
    "**Energy**: A value from 0.0 to 1.0 representing the intensity and activity of a track, with energetic tracks feeling fast, loud, and noisy. Perceptual features like dynamic range, perceived loudness, timbre, onset rate, and entropy contribute to this attribute.\n",
    "\n",
    "**Instrumentalness**: A prediction of whether a track contains vocals, with values closer to 1.0 indicating a higher likelihood of no vocal content. Values above 0.5 typically represent instrumental tracks, with higher confidence as the value approaches 1.0.\n",
    "\n",
    "**Liveness**: A value indicating the presence of an audience in a recording, with higher values representing higher likelihood of a live performance. A value above 0.8 suggests strong likelihood of a live track.\n",
    "\n",
    "**Loudness**: The overall loudness of a track in decibels (dB), averaged across the entire track and useful for comparing relative loudness of tracks. Values typically range between -60 and 0 dB.\n",
    "\n",
    "**Speechiness**: A measure indicating the presence of spoken words in a track, with values closer to 1.0 suggesting more speech-like recordings. Values above 0.66 describe tracks made entirely of spoken words, while values between 0.33 and 0.66 may indicate a mix of music and speech, including rap music. Values below 0.33 mostly represent music and non-speech-like tracks.\n",
    "\n",
    "**Tempo**: The overall estimated tempo of a track in beats per minute (BPM), indicating the speed or pace of the music.\n",
    "\n",
    "**Time signature**: A musical term specifying the number of beats in each bar or measure.\n",
    "\n",
    "**Valence**: A value from 0.0 to 1.0 describing the musical positiveness conveyed by a track, with high valence indicating more positive emotions like happiness and low valence indicating more negative emotions like sadness.\n",
    "\n",
    "**Mode**: An indicator of the modality (major or minor) of a track, with 1 representing major and 0 representing minor.\n",
    "\n",
    "**Key**: The estimated overall key of a track, mapped to integers using standard Pitch Class notation (e.g. 0 = C, 1 = C♯/D♭, 2 = D, and so on)."
   ],
   "metadata": {
    "collapsed": false
   }
  },
  {
   "cell_type": "code",
   "execution_count": 7,
   "outputs": [
    {
     "name": "stdout",
     "output_type": "stream",
     "text": [
      "Function defined\n"
     ]
    }
   ],
   "source": [
    "# Function to get all audio features of the saved tracks\n",
    "def get_track_features(id):\n",
    "    metadata = sp.track(id)\n",
    "    features = sp.audio_features(id)\n",
    "\n",
    "    # metadata\n",
    "    id = metadata['id']\n",
    "    name = metadata['name']\n",
    "    album = metadata['album']['name']\n",
    "    artist = metadata['album']['artists'][0]['name']\n",
    "    release_date = metadata['album']['release_date']\n",
    "    length = metadata['duration_ms']\n",
    "    popularity = metadata['popularity']\n",
    "\n",
    "    # audio features\n",
    "    acousticness = features[0]['acousticness']\n",
    "    danceability = features[0]['danceability']\n",
    "    energy = features[0]['energy']\n",
    "    instrumentalness = features[0]['instrumentalness']\n",
    "    liveness = features[0]['liveness']\n",
    "    loudness = features[0]['loudness']\n",
    "    speechiness = features[0]['speechiness']\n",
    "    tempo = features[0]['tempo']\n",
    "    time_signature = features[0]['time_signature']\n",
    "    valence = features[0]['valence']\n",
    "    mode = features[0]['mode']\n",
    "    key = features[0]['key']\n",
    "\n",
    "    track = [name, album, artist, release_date, length, popularity, danceability, acousticness, danceability, energy,\n",
    "             instrumentalness, liveness, loudness, speechiness, tempo, time_signature, valence, mode, key]\n",
    "    return track\n",
    "\n",
    "print(\"Function defined\")"
   ],
   "metadata": {
    "collapsed": false
   }
  },
  {
   "cell_type": "code",
   "execution_count": null,
   "outputs": [],
   "source": [
    "# Loop through each track id and get the tracks features\n",
    "for i in range(len(tracklist)):\n",
    "    try:\n",
    "        track = get_track_features(tracklist['id'][i])\n",
    "        tracklist.loc[i, 'name'] = track[0]\n",
    "        tracklist.loc[i, 'album'] = track[1]\n",
    "        tracklist.loc[i, 'artist'] = track[2]\n",
    "        tracklist.loc[i, 'release_date'] = track[3]\n",
    "        tracklist.loc[i, 'length'] = track[4]\n",
    "        tracklist.loc[i, 'popularity'] = track[5]\n",
    "        tracklist.loc[i, 'danceability'] = track[6]\n",
    "        tracklist.loc[i, 'acousticness'] = track[7]\n",
    "        tracklist.loc[i, 'danceability'] = track[8]\n",
    "        tracklist.loc[i, 'energy'] = track[9]\n",
    "        tracklist.loc[i, 'instrumentalness'] = track[10]\n",
    "        tracklist.loc[i, 'liveness'] = track[11]\n",
    "        tracklist.loc[i, 'loudness'] = track[12]\n",
    "        tracklist.loc[i, 'speechiness'] = track[13]\n",
    "        tracklist.loc[i, 'tempo'] = track[14]\n",
    "        tracklist.loc[i, 'time_signature'] = track[15]\n",
    "        tracklist.loc[i, 'valence'] = track[16]\n",
    "        tracklist.loc[i, 'mode'] = track[17]\n",
    "        tracklist.loc[i, 'key'] = track[18]\n",
    "\n",
    "        # Save to df\n",
    "        tracklist.to_csv('tracklist.csv', index=False, encoding='utf-8')\n",
    "    except:\n",
    "        print(f\"Error with track {i}\")\n",
    "        pass\n",
    "\n",
    "print(f\"Features of {len(tracklist)} tracks extracted and saved to tracklist.csv\")"
   ],
   "metadata": {
    "collapsed": false,
    "pycharm": {
     "is_executing": true
    }
   }
  },
  {
   "cell_type": "code",
   "execution_count": null,
   "outputs": [],
   "source": [
    "tracklist.head(10)"
   ],
   "metadata": {
    "collapsed": false,
    "pycharm": {
     "is_executing": true
    }
   }
  },
  {
   "cell_type": "code",
   "execution_count": null,
   "outputs": [],
   "source": [
    "# Read and check of the loaded data\n",
    "data = pd.read_csv('tracklist.csv')\n",
    "data.head(10)"
   ],
   "metadata": {
    "collapsed": false,
    "pycharm": {
     "is_executing": true
    }
   }
  },
  {
   "cell_type": "markdown",
   "source": [
    "#### Add all genres of the artists to the dataframe\n",
    "\n",
    "The genres are not included in the Spotify API, so we need to get them from the Spotify API. We can do this by searching for the artist and getting the artist id. Then we can use the artist id to get the genres of the artist."
   ],
   "metadata": {
    "collapsed": false
   }
  },
  {
   "cell_type": "code",
   "execution_count": null,
   "outputs": [],
   "source": [
    "# Add all genres of the artists to the dataframe\n",
    "genres = []\n",
    "for i in range(len(data)):\n",
    "    artist = data['artist'][i]\n",
    "    artist_id = sp.search(artist, type='artist')['artists']['items'][0]['id']\n",
    "    artist_genres = sp.artist(artist_id)['genres']\n",
    "    genres.append(artist_genres)\n",
    "\n",
    "data['genres'] = genres\n",
    "data.head(10)"
   ],
   "metadata": {
    "collapsed": false,
    "pycharm": {
     "is_executing": true
    }
   }
  },
  {
   "cell_type": "code",
   "execution_count": null,
   "outputs": [],
   "source": [
    "# Transform the genre column to extract specific genres\n",
    "data['genres'] = data['genres'].astype(str)\n",
    "data['genres'] = data['genres'].str.replace('[', '')\n",
    "data['genres'] = data['genres'].str.replace(']', '')\n",
    "data['genres'] = data['genres'].str.replace(\"'\", '')\n",
    "data['genres'] = data['genres'].str.replace('\"', '')\n",
    "data.head(10)"
   ],
   "metadata": {
    "collapsed": false,
    "pycharm": {
     "is_executing": true
    }
   }
  },
  {
   "cell_type": "markdown",
   "source": [
    "#### The genres are very specific and detailed. By grouping the genres we can get a more general overview of the genres. This will cost us some information, but it will be easier to get a general overview."
   ],
   "metadata": {
    "collapsed": false
   }
  },
  {
   "cell_type": "code",
   "execution_count": null,
   "outputs": [],
   "source": [
    "# Search for predefined genres in the genre column\n",
    "strings = ['pop', 'techno', 'house', 'disco', 'electronic',\n",
    "           'trance', 'hip hop', 'rap', 'r&b', 'soul', 'rock',\n",
    "           'metal', 'punk', 'jazz', 'blues', 'country', 'folk',\n",
    "           'reggae', 'classical', 'indie', 'funk']\n",
    "\n",
    "for string in strings:\n",
    "    data.loc[data['genres'].str.contains(string), 'genre_group'] = string\n",
    "\n",
    "data.head(10)"
   ],
   "metadata": {
    "collapsed": false,
    "pycharm": {
     "is_executing": true
    }
   }
  },
  {
   "cell_type": "code",
   "execution_count": null,
   "outputs": [],
   "source": [
    "# Check how many tracks are in each genre group\n",
    "data['genre_group'].value_counts()"
   ],
   "metadata": {
    "collapsed": false,
    "pycharm": {
     "is_executing": true
    }
   }
  },
  {
   "cell_type": "code",
   "execution_count": null,
   "outputs": [],
   "source": [
    "# Count missing values\n",
    "data['genre_group'].isnull().sum()\n",
    "print(f\"{data['genre_group'].isnull().sum()} tracks are missing a genre group\")"
   ],
   "metadata": {
    "collapsed": false,
    "pycharm": {
     "is_executing": true
    }
   }
  },
  {
   "cell_type": "code",
   "execution_count": null,
   "outputs": [],
   "source": [
    "# visualize the distribution of the genres\n",
    "plt.figure(figsize=(15, 10))\n",
    "sns.countplot(y='genre_group', data=data, order=data['genre_group'].value_counts().index)\n",
    "\n",
    "for i, genre in enumerate(data['genre_group'].value_counts().index):\n",
    "    count = data['genre_group'].value_counts()[genre]\n",
    "    plt.text(count + 10, i, f'{count}', ha='left', va='center', color='black')\n",
    "\n",
    "plt.title('Distribution of genres with counts')\n",
    "plt.show()"
   ],
   "metadata": {
    "collapsed": false,
    "pycharm": {
     "is_executing": true
    }
   }
  },
  {
   "cell_type": "markdown",
   "source": [
    "#### Save the dataframe to a csv file\n",
    "\n",
    "This will be the final dataframe that we will use for the analysis. We will use this dataframe for the analysis in the next notebook."
   ],
   "metadata": {
    "collapsed": false
   }
  },
  {
   "cell_type": "code",
   "execution_count": null,
   "outputs": [],
   "source": [
    "data.to_csv('tracklist.csv', index=False, encoding='utf-8')"
   ],
   "metadata": {
    "collapsed": false,
    "pycharm": {
     "is_executing": true
    }
   }
  }
 ],
 "metadata": {
  "kernelspec": {
   "display_name": "Python 3",
   "language": "python",
   "name": "python3"
  },
  "language_info": {
   "codemirror_mode": {
    "name": "ipython",
    "version": 2
   },
   "file_extension": ".py",
   "mimetype": "text/x-python",
   "name": "python",
   "nbconvert_exporter": "python",
   "pygments_lexer": "ipython2",
   "version": "2.7.6"
  }
 },
 "nbformat": 4,
 "nbformat_minor": 0
}
