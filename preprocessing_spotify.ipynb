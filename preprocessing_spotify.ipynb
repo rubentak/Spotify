{
 "cells": [
  {
   "cell_type": "markdown",
   "source": [
    "# Spotify preprocessing in python using spotipy\n",
    "\n",
    "## By Nils Jennissen and Ruben Tak\n",
    "\n",
    "Github:\n",
    "- https://github.com/nilsjenn\n",
    "- https://github.com/rubentak\n",
    "\n",
    "Medium:\n",
    "- https://medium.com/@nijenn\n",
    "- https://medium.com/@rubentak"
   ],
   "metadata": {
    "collapsed": false
   }
  },
  {
   "cell_type": "code",
   "execution_count": 1,
   "metadata": {
    "collapsed": true,
    "ExecuteTime": {
     "start_time": "2023-04-08T14:07:07.422145Z",
     "end_time": "2023-04-08T14:07:07.565341Z"
    }
   },
   "outputs": [],
   "source": [
    "#importing libraries\n",
    "import credentials\n",
    "import spotipy\n",
    "import pandas as pd\n",
    "import matplotlib.pyplot as plt\n",
    "import seaborn as sns"
   ]
  },
  {
   "cell_type": "markdown",
   "source": [
    "# Credentials:\n",
    "The user credentials are stored in a seperate file. Storing credentials in a separate file in a Python project provides security, separation of concerns, flexibility, collaboration, and better version control management. The scope defines the access to the user data. The token is created with the user credentials and the scope. The token is used to access the user data.\n",
    "\n",
    "The credentials are stored in the following way:\n",
    "\n",
    "USER = '...'\n",
    "CID = '...'\n",
    "SECRET = '...'\n",
    "REDIRECT = '...'\n",
    "\n",
    "Fill in your own credentials in the credentials file"
   ],
   "metadata": {
    "collapsed": false
   }
  },
  {
   "cell_type": "code",
   "execution_count": 2,
   "outputs": [
    {
     "name": "stdout",
     "output_type": "stream",
     "text": [
      "Token created for 4bvzegnwgx9waifbbfrdpa75s\n"
     ]
    }
   ],
   "source": [
    "# Retrieve user credentials from separate file\n",
    "user = credentials.USER\n",
    "cid = credentials.CID\n",
    "secret = credentials.SECRET\n",
    "redirect_uri = credentials.REDIRECT\n",
    "\n",
    "# Define scope of access\n",
    "scope = 'user-library-read'  # user-library-read, user-read-recently-played\n",
    "\n",
    "# Prompt for user token using credentials\n",
    "token = spotipy.util.prompt_for_user_token(user, scope, client_id=cid, client_secret=secret, redirect_uri=redirect_uri)\n",
    "\n",
    "# Create Spotify token and check if successful\n",
    "if token:\n",
    "    sp = spotipy.Spotify(auth=token)\n",
    "    print('Token created for', user)\n",
    "else:\n",
    "    print(\"Can't get token for\", user)"
   ],
   "metadata": {
    "collapsed": false,
    "ExecuteTime": {
     "start_time": "2023-04-08T14:07:08.540173Z",
     "end_time": "2023-04-08T14:07:08.564735Z"
    }
   }
  },
  {
   "cell_type": "markdown",
   "source": [
    "#### Look if the right user is logged in"
   ],
   "metadata": {
    "collapsed": false
   }
  },
  {
   "cell_type": "code",
   "execution_count": 3,
   "outputs": [
    {
     "name": "stdout",
     "output_type": "stream",
     "text": [
      "My data:\n",
      "Name: Ruben\n",
      "Followers: 11\n",
      "Link: https://open.spotify.com/user/4bvzegnwgx9waifbbfrdpa75s\n"
     ]
    }
   ],
   "source": [
    "# User data\n",
    "user_data = sp.current_user()\n",
    "print('My data:')\n",
    "print('Name:', user_data['display_name'])\n",
    "print('Followers:', user_data['followers']['total'])\n",
    "print('Link:', user_data['external_urls']['spotify'])"
   ],
   "metadata": {
    "collapsed": false,
    "ExecuteTime": {
     "start_time": "2023-04-08T14:07:09.639969Z",
     "end_time": "2023-04-08T14:07:09.767972Z"
    }
   }
  },
  {
   "cell_type": "markdown",
   "source": [
    "# Deriving saved songs from spotify library\n",
    "\n",
    "In the following code, the saved songs are retrieved from the spotify library. The songs are stored in a dataframe."
   ],
   "metadata": {
    "collapsed": false
   }
  },
  {
   "cell_type": "code",
   "execution_count": 4,
   "outputs": [],
   "source": [
    "# Function to get all saved tracks\n",
    "def get_saved_tracks():\n",
    "    results = sp.current_user_saved_tracks()\n",
    "    tracks = []\n",
    "    while results['next']:\n",
    "        tracks.extend(results['items'])\n",
    "        results = sp.next(results)\n",
    "    return tracks\n",
    "\n",
    "# Converting tracks to dataframe\n",
    "def deconstruct_tracks(tracks):\n",
    "    saved_tracks = []\n",
    "    for track in tracks:\n",
    "        saved_track = {\n",
    "            'added_at': track['added_at'],\n",
    "            'id': track['track']['id'],\n",
    "            'name': track['track']['name'],\n",
    "            'popularity': track['track']['popularity'],\n",
    "            'uri': track['track']['uri'],\n",
    "            'artist': track['track']['artists'][0]['name'],\n",
    "            'album': track['track']['album']['name'],\n",
    "            'release_date': track['track']['album']['release_date'],\n",
    "            'duration_ms': track['track']['duration_ms']\n",
    "        }\n",
    "        saved_tracks.append(saved_track)\n",
    "    return pd.DataFrame(saved_tracks)\n",
    "\n",
    "tracks_called = get_saved_tracks()\n",
    "tracklist = deconstruct_tracks(tracks_called)"
   ],
   "metadata": {
    "collapsed": false,
    "ExecuteTime": {
     "start_time": "2023-04-08T14:07:11.400898Z",
     "end_time": "2023-04-08T14:07:34.064550Z"
    }
   }
  },
  {
   "cell_type": "code",
   "execution_count": 5,
   "outputs": [
    {
     "data": {
      "text/plain": "               added_at                      id   \n0  2023-04-05T14:24:20Z  1juU855MrNRey6Dh6sEbWh  \\\n1  2023-04-04T16:28:17Z  752l1xT5G1OHzg71ZBnTyZ   \n2  2023-04-03T17:14:26Z  1KDBSFUqriIaMOg7igDUJ6   \n3  2023-03-30T19:58:33Z  3lAbyDO7nk7vrXvQ1XNap8   \n4  2023-03-29T13:50:40Z  3xsNTAAseZTnt9qeYBZVvA   \n5  2023-03-28T19:10:32Z  1B2xkcuOPjhtCWyojUKbUk   \n6  2023-03-27T07:08:33Z  4N2j73aEDUQKjlkYFkIio5   \n7  2023-03-24T19:15:06Z  4N28QlYB0XW6H5gaXBHt6T   \n8  2023-03-24T00:39:38Z  5atmUwQngfhOfZvgGJCrJ0   \n9  2023-03-23T21:24:05Z  7w8qT1UcnJIZafNiLu2C7h   \n\n                                              name  popularity   \n0                                Techno On My Mind          42  \\\n1                                         Superman          52   \n2                          Lowdown - Classic Vocal           3   \n3                                     Capture Casa          42   \n4                 GOOD TIMES - Elephant Talk Remix          39   \n5                                       Hero Dance          42   \n6                                          Acidule          34   \n7                                             1992          50   \n8  Meet Her At The Loveparade - Nalin & Kane Remix          42   \n9              Phonky Tribu - DJ HEARTSTRING Remix          48   \n\n                                    uri        artist   \n0  spotify:track:1juU855MrNRey6Dh6sEbWh       elMefti  \\\n1  spotify:track:752l1xT5G1OHzg71ZBnTyZ  Black Coffee   \n2  spotify:track:1KDBSFUqriIaMOg7igDUJ6   Soul Vision   \n3  spotify:track:3lAbyDO7nk7vrXvQ1XNap8          HVOB   \n4  spotify:track:3xsNTAAseZTnt9qeYBZVvA        Jungle   \n5  spotify:track:1B2xkcuOPjhtCWyojUKbUk       Grand V   \n6  spotify:track:4N2j73aEDUQKjlkYFkIio5          CLTX   \n7  spotify:track:4N28QlYB0XW6H5gaXBHt6T       No_4mat   \n8  spotify:track:5atmUwQngfhOfZvgGJCrJ0       Da Hool   \n9  spotify:track:7w8qT1UcnJIZafNiLu2C7h    Funk Tribu   \n\n                                 album release_date  duration_ms  \n0                    Techno On My Mind   2022-06-10       317260  \n1                          Home Brewed   2009-11-13       433626  \n2                              Lowdown   2018-05-18       401273  \n3                                  TOO   2022-04-08       400263  \n4     GOOD TIMES (Elephant Talk Remix)   2022-11-18       295813  \n5                           Hero Dance   2020-11-30       434000  \n6                          Ethereal VA   2022-02-21       355892  \n7                                 1992   2018-11-16       404998  \n8           Meet Her at the Loveparade   2001-08-20       594666  \n9  Phonky Tribu (DJ HEARTSTRING Remix)   2023-01-13       250348  ",
      "text/html": "<div>\n<style scoped>\n    .dataframe tbody tr th:only-of-type {\n        vertical-align: middle;\n    }\n\n    .dataframe tbody tr th {\n        vertical-align: top;\n    }\n\n    .dataframe thead th {\n        text-align: right;\n    }\n</style>\n<table border=\"1\" class=\"dataframe\">\n  <thead>\n    <tr style=\"text-align: right;\">\n      <th></th>\n      <th>added_at</th>\n      <th>id</th>\n      <th>name</th>\n      <th>popularity</th>\n      <th>uri</th>\n      <th>artist</th>\n      <th>album</th>\n      <th>release_date</th>\n      <th>duration_ms</th>\n    </tr>\n  </thead>\n  <tbody>\n    <tr>\n      <th>0</th>\n      <td>2023-04-05T14:24:20Z</td>\n      <td>1juU855MrNRey6Dh6sEbWh</td>\n      <td>Techno On My Mind</td>\n      <td>42</td>\n      <td>spotify:track:1juU855MrNRey6Dh6sEbWh</td>\n      <td>elMefti</td>\n      <td>Techno On My Mind</td>\n      <td>2022-06-10</td>\n      <td>317260</td>\n    </tr>\n    <tr>\n      <th>1</th>\n      <td>2023-04-04T16:28:17Z</td>\n      <td>752l1xT5G1OHzg71ZBnTyZ</td>\n      <td>Superman</td>\n      <td>52</td>\n      <td>spotify:track:752l1xT5G1OHzg71ZBnTyZ</td>\n      <td>Black Coffee</td>\n      <td>Home Brewed</td>\n      <td>2009-11-13</td>\n      <td>433626</td>\n    </tr>\n    <tr>\n      <th>2</th>\n      <td>2023-04-03T17:14:26Z</td>\n      <td>1KDBSFUqriIaMOg7igDUJ6</td>\n      <td>Lowdown - Classic Vocal</td>\n      <td>3</td>\n      <td>spotify:track:1KDBSFUqriIaMOg7igDUJ6</td>\n      <td>Soul Vision</td>\n      <td>Lowdown</td>\n      <td>2018-05-18</td>\n      <td>401273</td>\n    </tr>\n    <tr>\n      <th>3</th>\n      <td>2023-03-30T19:58:33Z</td>\n      <td>3lAbyDO7nk7vrXvQ1XNap8</td>\n      <td>Capture Casa</td>\n      <td>42</td>\n      <td>spotify:track:3lAbyDO7nk7vrXvQ1XNap8</td>\n      <td>HVOB</td>\n      <td>TOO</td>\n      <td>2022-04-08</td>\n      <td>400263</td>\n    </tr>\n    <tr>\n      <th>4</th>\n      <td>2023-03-29T13:50:40Z</td>\n      <td>3xsNTAAseZTnt9qeYBZVvA</td>\n      <td>GOOD TIMES - Elephant Talk Remix</td>\n      <td>39</td>\n      <td>spotify:track:3xsNTAAseZTnt9qeYBZVvA</td>\n      <td>Jungle</td>\n      <td>GOOD TIMES (Elephant Talk Remix)</td>\n      <td>2022-11-18</td>\n      <td>295813</td>\n    </tr>\n    <tr>\n      <th>5</th>\n      <td>2023-03-28T19:10:32Z</td>\n      <td>1B2xkcuOPjhtCWyojUKbUk</td>\n      <td>Hero Dance</td>\n      <td>42</td>\n      <td>spotify:track:1B2xkcuOPjhtCWyojUKbUk</td>\n      <td>Grand V</td>\n      <td>Hero Dance</td>\n      <td>2020-11-30</td>\n      <td>434000</td>\n    </tr>\n    <tr>\n      <th>6</th>\n      <td>2023-03-27T07:08:33Z</td>\n      <td>4N2j73aEDUQKjlkYFkIio5</td>\n      <td>Acidule</td>\n      <td>34</td>\n      <td>spotify:track:4N2j73aEDUQKjlkYFkIio5</td>\n      <td>CLTX</td>\n      <td>Ethereal VA</td>\n      <td>2022-02-21</td>\n      <td>355892</td>\n    </tr>\n    <tr>\n      <th>7</th>\n      <td>2023-03-24T19:15:06Z</td>\n      <td>4N28QlYB0XW6H5gaXBHt6T</td>\n      <td>1992</td>\n      <td>50</td>\n      <td>spotify:track:4N28QlYB0XW6H5gaXBHt6T</td>\n      <td>No_4mat</td>\n      <td>1992</td>\n      <td>2018-11-16</td>\n      <td>404998</td>\n    </tr>\n    <tr>\n      <th>8</th>\n      <td>2023-03-24T00:39:38Z</td>\n      <td>5atmUwQngfhOfZvgGJCrJ0</td>\n      <td>Meet Her At The Loveparade - Nalin &amp; Kane Remix</td>\n      <td>42</td>\n      <td>spotify:track:5atmUwQngfhOfZvgGJCrJ0</td>\n      <td>Da Hool</td>\n      <td>Meet Her at the Loveparade</td>\n      <td>2001-08-20</td>\n      <td>594666</td>\n    </tr>\n    <tr>\n      <th>9</th>\n      <td>2023-03-23T21:24:05Z</td>\n      <td>7w8qT1UcnJIZafNiLu2C7h</td>\n      <td>Phonky Tribu - DJ HEARTSTRING Remix</td>\n      <td>48</td>\n      <td>spotify:track:7w8qT1UcnJIZafNiLu2C7h</td>\n      <td>Funk Tribu</td>\n      <td>Phonky Tribu (DJ HEARTSTRING Remix)</td>\n      <td>2023-01-13</td>\n      <td>250348</td>\n    </tr>\n  </tbody>\n</table>\n</div>"
     },
     "execution_count": 5,
     "metadata": {},
     "output_type": "execute_result"
    }
   ],
   "source": [
    "tracklist.head(10)"
   ],
   "metadata": {
    "collapsed": false,
    "ExecuteTime": {
     "start_time": "2023-04-08T14:07:34.067734Z",
     "end_time": "2023-04-08T14:07:34.074199Z"
    }
   }
  },
  {
   "cell_type": "markdown",
   "source": [
    "# Loading all audio features of the saved tracks\n",
    "\n",
    "#### In the next part of the code, the audio features of the saved tracks are retrieved. The audio features are stored in a dataframe. The dataframe is saved as a csv file.\n",
    "\n",
    "\n",
    "\n",
    "The following discription of the Audio Features is given:\n",
    "\n",
    "**Acousticness**: A value from 0.0 to 1.0 indicating whether a track is acoustic, with 1.0 representing high confidence in acoustic nature.\n",
    "\n",
    "**Danceability**: A measure from 0.0 to 1.0 describing how suitable a track is for dancing based on elements like tempo, rhythm stability, beat strength, and regularity, with 0.0 being least danceable and 1.0 being most danceable.\n",
    "\n",
    "**Energy**: A value from 0.0 to 1.0 representing the intensity and activity of a track, with energetic tracks feeling fast, loud, and noisy. Perceptual features like dynamic range, perceived loudness, timbre, onset rate, and entropy contribute to this attribute.\n",
    "\n",
    "**Instrumentalness**: A prediction of whether a track contains vocals, with values closer to 1.0 indicating a higher likelihood of no vocal content. Values above 0.5 typically represent instrumental tracks, with higher confidence as the value approaches 1.0.\n",
    "\n",
    "**Liveness**: A value indicating the presence of an audience in a recording, with higher values representing higher likelihood of a live performance. A value above 0.8 suggests strong likelihood of a live track.\n",
    "\n",
    "**Loudness**: The overall loudness of a track in decibels (dB), averaged across the entire track and useful for comparing relative loudness of tracks. Values typically range between -60 and 0 dB.\n",
    "\n",
    "**Speechiness**: A measure indicating the presence of spoken words in a track, with values closer to 1.0 suggesting more speech-like recordings. Values above 0.66 describe tracks made entirely of spoken words, while values between 0.33 and 0.66 may indicate a mix of music and speech, including rap music. Values below 0.33 mostly represent music and non-speech-like tracks.\n",
    "\n",
    "**Tempo**: The overall estimated tempo of a track in beats per minute (BPM), indicating the speed or pace of the music.\n",
    "\n",
    "**Time signature**: A musical term specifying the number of beats in each bar or measure.\n",
    "\n",
    "**Valence**: A value from 0.0 to 1.0 describing the musical positiveness conveyed by a track, with high valence indicating more positive emotions like happiness and low valence indicating more negative emotions like sadness.\n",
    "\n",
    "**Mode**: An indicator of the modality (major or minor) of a track, with 1 representing major and 0 representing minor.\n",
    "\n",
    "**Key**: The estimated overall key of a track, mapped to integers using standard Pitch Class notation (e.g. 0 = C, 1 = C♯/D♭, 2 = D, and so on)."
   ],
   "metadata": {
    "collapsed": false
   }
  },
  {
   "cell_type": "code",
   "execution_count": 6,
   "outputs": [
    {
     "name": "stdout",
     "output_type": "stream",
     "text": [
      "Function defined\n"
     ]
    }
   ],
   "source": [
    "# Function to get all audio features of the saved tracks\n",
    "def get_track_features(id):\n",
    "    metadata = sp.track(id)\n",
    "    features = sp.audio_features(id)\n",
    "\n",
    "    # metadata\n",
    "    id = metadata['id']\n",
    "    name = metadata['name']\n",
    "    album = metadata['album']['name']\n",
    "    artist = metadata['album']['artists'][0]['name']\n",
    "    release_date = metadata['album']['release_date']\n",
    "    length = metadata['duration_ms']\n",
    "    popularity = metadata['popularity']\n",
    "\n",
    "    # audio features\n",
    "    acousticness = features[0]['acousticness']\n",
    "    danceability = features[0]['danceability']\n",
    "    energy = features[0]['energy']\n",
    "    instrumentalness = features[0]['instrumentalness']\n",
    "    liveness = features[0]['liveness']\n",
    "    loudness = features[0]['loudness']\n",
    "    speechiness = features[0]['speechiness']\n",
    "    tempo = features[0]['tempo']\n",
    "    time_signature = features[0]['time_signature']\n",
    "    valence = features[0]['valence']\n",
    "    mode = features[0]['mode']\n",
    "    key = features[0]['key']\n",
    "\n",
    "    track = [name, album, artist, release_date, length, popularity, danceability, acousticness, danceability, energy,\n",
    "             instrumentalness, liveness, loudness, speechiness, tempo, time_signature, valence, mode, key]\n",
    "    return track\n",
    "\n",
    "print(\"Function defined\")"
   ],
   "metadata": {
    "collapsed": false,
    "ExecuteTime": {
     "start_time": "2023-04-08T14:08:51.908134Z",
     "end_time": "2023-04-08T14:08:51.911703Z"
    }
   }
  },
  {
   "cell_type": "code",
   "execution_count": null,
   "outputs": [
    {
     "name": "stdout",
     "output_type": "stream",
     "text": [
      "Error with track 0\n"
     ]
    }
   ],
   "source": [
    "# Loop through each track id and get the tracks features\n",
    "for i in range(len(tracklist)):\n",
    "    try:\n",
    "        track = get_track_features(tracklist['id'][i])\n",
    "        tracklist.loc[i, 'name'] = track[0]\n",
    "        tracklist.loc[i, 'album'] = track[1]\n",
    "        tracklist.loc[i, 'artist'] = track[2]\n",
    "        tracklist.loc[i, 'release_date'] = track[3]\n",
    "        tracklist.loc[i, 'length'] = track[4]\n",
    "        tracklist.loc[i, 'popularity'] = track[5]\n",
    "        tracklist.loc[i, 'danceability'] = track[6]\n",
    "        tracklist.loc[i, 'acousticness'] = track[7]\n",
    "        tracklist.loc[i, 'danceability'] = track[8]\n",
    "        tracklist.loc[i, 'energy'] = track[9]\n",
    "        tracklist.loc[i, 'instrumentalness'] = track[10]\n",
    "        tracklist.loc[i, 'liveness'] = track[11]\n",
    "        tracklist.loc[i, 'loudness'] = track[12]\n",
    "        tracklist.loc[i, 'speechiness'] = track[13]\n",
    "        tracklist.loc[i, 'tempo'] = track[14]\n",
    "        tracklist.loc[i, 'time_signature'] = track[15]\n",
    "        tracklist.loc[i, 'valence'] = track[16]\n",
    "        tracklist.loc[i, 'mode'] = track[17]\n",
    "        tracklist.loc[i, 'key'] = track[18]\n",
    "\n",
    "        # Save to df\n",
    "        tracklist.to_csv('tracklist.csv', index=False, encoding='utf-8')\n",
    "    except:\n",
    "        print(f\"Error with track {i}\")\n",
    "        pass\n",
    "\n",
    "print(f\"Features of {len(tracklist)} tracks extracted and saved to tracklist.csv\")"
   ],
   "metadata": {
    "collapsed": false,
    "pycharm": {
     "is_executing": true
    }
   }
  },
  {
   "cell_type": "code",
   "execution_count": null,
   "outputs": [],
   "source": [
    "tracklist.head(10)"
   ],
   "metadata": {
    "collapsed": false,
    "ExecuteTime": {
     "start_time": "2023-04-08T13:00:41.650332Z",
     "end_time": "2023-04-08T13:00:41.653950Z"
    },
    "pycharm": {
     "is_executing": true
    }
   }
  },
  {
   "cell_type": "code",
   "execution_count": 8,
   "outputs": [
    {
     "data": {
      "text/plain": "               added_at                      id   \n0  2023-04-05T14:24:20Z  1juU855MrNRey6Dh6sEbWh  \\\n1  2023-04-04T16:28:17Z  752l1xT5G1OHzg71ZBnTyZ   \n2  2023-04-03T17:14:26Z  1KDBSFUqriIaMOg7igDUJ6   \n3  2023-03-30T19:58:33Z  3lAbyDO7nk7vrXvQ1XNap8   \n4  2023-03-29T13:50:40Z  3xsNTAAseZTnt9qeYBZVvA   \n5  2023-03-28T19:10:32Z  1B2xkcuOPjhtCWyojUKbUk   \n6  2023-03-27T07:08:33Z  4N2j73aEDUQKjlkYFkIio5   \n7  2023-03-24T19:15:06Z  4N28QlYB0XW6H5gaXBHt6T   \n8  2023-03-24T00:39:38Z  5atmUwQngfhOfZvgGJCrJ0   \n9  2023-03-23T21:24:05Z  7w8qT1UcnJIZafNiLu2C7h   \n\n                                              name  popularity   \n0                                Techno On My Mind          42  \\\n1                                         Superman          52   \n2                          Lowdown - Classic Vocal           3   \n3                                     Capture Casa          42   \n4                 GOOD TIMES - Elephant Talk Remix          39   \n5                                       Hero Dance          41   \n6                                          Acidule          34   \n7                                             1992          50   \n8  Meet Her At The Loveparade - Nalin & Kane Remix          42   \n9              Phonky Tribu - DJ HEARTSTRING Remix          48   \n\n                                    uri           artist   \n0  spotify:track:1juU855MrNRey6Dh6sEbWh          elMefti  \\\n1  spotify:track:752l1xT5G1OHzg71ZBnTyZ     Black Coffee   \n2  spotify:track:1KDBSFUqriIaMOg7igDUJ6      Soul Vision   \n3  spotify:track:3lAbyDO7nk7vrXvQ1XNap8             HVOB   \n4  spotify:track:3xsNTAAseZTnt9qeYBZVvA           Jungle   \n5  spotify:track:1B2xkcuOPjhtCWyojUKbUk          Grand V   \n6  spotify:track:4N2j73aEDUQKjlkYFkIio5  Various Artists   \n7  spotify:track:4N28QlYB0XW6H5gaXBHt6T          No_4mat   \n8  spotify:track:5atmUwQngfhOfZvgGJCrJ0          Da Hool   \n9  spotify:track:7w8qT1UcnJIZafNiLu2C7h       Funk Tribu   \n\n                                 album release_date  duration_ms    length   \n0                    Techno On My Mind   2022-06-10       317260  317260.0  \\\n1                          Home Brewed   2009-11-13       433626  433626.0   \n2                              Lowdown   2018-05-18       401273  401273.0   \n3                                  TOO   2022-04-08       400263  400263.0   \n4     GOOD TIMES (Elephant Talk Remix)   2022-11-18       295813  295813.0   \n5                           Hero Dance   2020-11-30       434000  434000.0   \n6                          Ethereal VA   2022-02-21       355892  355892.0   \n7                                 1992   2018-11-16       404998  404998.0   \n8           Meet Her at the Loveparade   2001-08-20       594666  594666.0   \n9  Phonky Tribu (DJ HEARTSTRING Remix)   2023-01-13       250348  250348.0   \n\n   ...  energy  instrumentalness  liveness  loudness  speechiness    tempo   \n0  ...   0.998             0.298    0.0900    -8.161       0.0614  146.006  \\\n1  ...   0.688             0.708    0.1200    -9.539       0.0706  123.979   \n2  ...   0.564             0.164    0.0423    -9.748       0.1230  124.979   \n3  ...   0.571             0.538    0.1390   -10.513       0.0748  127.014   \n4  ...   0.861             0.873    0.2870    -6.255       0.0472  132.998   \n5  ...   0.960             0.898    0.0765    -5.807       0.0385  148.006   \n6  ...   0.996             0.753    0.2200    -7.465       0.0478  149.976   \n7  ...   0.897             0.901    0.0986    -8.289       0.0492  127.972   \n8  ...   0.657             0.897    0.0926    -9.726       0.0649  132.992   \n9  ...   0.935             0.868    0.0511    -4.213       0.0712  155.007   \n\n   time_signature  valence  mode   key  \n0             4.0   0.6530   1.0   8.0  \n1             4.0   0.7300   0.0   5.0  \n2             4.0   0.7340   0.0  11.0  \n3             4.0   0.0379   0.0   3.0  \n4             4.0   0.6120   0.0  11.0  \n5             4.0   0.9650   0.0  10.0  \n6             4.0   0.3640   1.0   7.0  \n7             4.0   0.5160   0.0   3.0  \n8             4.0   0.2210   1.0   2.0  \n9             4.0   0.9030   1.0  11.0  \n\n[10 rows x 22 columns]",
      "text/html": "<div>\n<style scoped>\n    .dataframe tbody tr th:only-of-type {\n        vertical-align: middle;\n    }\n\n    .dataframe tbody tr th {\n        vertical-align: top;\n    }\n\n    .dataframe thead th {\n        text-align: right;\n    }\n</style>\n<table border=\"1\" class=\"dataframe\">\n  <thead>\n    <tr style=\"text-align: right;\">\n      <th></th>\n      <th>added_at</th>\n      <th>id</th>\n      <th>name</th>\n      <th>popularity</th>\n      <th>uri</th>\n      <th>artist</th>\n      <th>album</th>\n      <th>release_date</th>\n      <th>duration_ms</th>\n      <th>length</th>\n      <th>...</th>\n      <th>energy</th>\n      <th>instrumentalness</th>\n      <th>liveness</th>\n      <th>loudness</th>\n      <th>speechiness</th>\n      <th>tempo</th>\n      <th>time_signature</th>\n      <th>valence</th>\n      <th>mode</th>\n      <th>key</th>\n    </tr>\n  </thead>\n  <tbody>\n    <tr>\n      <th>0</th>\n      <td>2023-04-05T14:24:20Z</td>\n      <td>1juU855MrNRey6Dh6sEbWh</td>\n      <td>Techno On My Mind</td>\n      <td>42</td>\n      <td>spotify:track:1juU855MrNRey6Dh6sEbWh</td>\n      <td>elMefti</td>\n      <td>Techno On My Mind</td>\n      <td>2022-06-10</td>\n      <td>317260</td>\n      <td>317260.0</td>\n      <td>...</td>\n      <td>0.998</td>\n      <td>0.298</td>\n      <td>0.0900</td>\n      <td>-8.161</td>\n      <td>0.0614</td>\n      <td>146.006</td>\n      <td>4.0</td>\n      <td>0.6530</td>\n      <td>1.0</td>\n      <td>8.0</td>\n    </tr>\n    <tr>\n      <th>1</th>\n      <td>2023-04-04T16:28:17Z</td>\n      <td>752l1xT5G1OHzg71ZBnTyZ</td>\n      <td>Superman</td>\n      <td>52</td>\n      <td>spotify:track:752l1xT5G1OHzg71ZBnTyZ</td>\n      <td>Black Coffee</td>\n      <td>Home Brewed</td>\n      <td>2009-11-13</td>\n      <td>433626</td>\n      <td>433626.0</td>\n      <td>...</td>\n      <td>0.688</td>\n      <td>0.708</td>\n      <td>0.1200</td>\n      <td>-9.539</td>\n      <td>0.0706</td>\n      <td>123.979</td>\n      <td>4.0</td>\n      <td>0.7300</td>\n      <td>0.0</td>\n      <td>5.0</td>\n    </tr>\n    <tr>\n      <th>2</th>\n      <td>2023-04-03T17:14:26Z</td>\n      <td>1KDBSFUqriIaMOg7igDUJ6</td>\n      <td>Lowdown - Classic Vocal</td>\n      <td>3</td>\n      <td>spotify:track:1KDBSFUqriIaMOg7igDUJ6</td>\n      <td>Soul Vision</td>\n      <td>Lowdown</td>\n      <td>2018-05-18</td>\n      <td>401273</td>\n      <td>401273.0</td>\n      <td>...</td>\n      <td>0.564</td>\n      <td>0.164</td>\n      <td>0.0423</td>\n      <td>-9.748</td>\n      <td>0.1230</td>\n      <td>124.979</td>\n      <td>4.0</td>\n      <td>0.7340</td>\n      <td>0.0</td>\n      <td>11.0</td>\n    </tr>\n    <tr>\n      <th>3</th>\n      <td>2023-03-30T19:58:33Z</td>\n      <td>3lAbyDO7nk7vrXvQ1XNap8</td>\n      <td>Capture Casa</td>\n      <td>42</td>\n      <td>spotify:track:3lAbyDO7nk7vrXvQ1XNap8</td>\n      <td>HVOB</td>\n      <td>TOO</td>\n      <td>2022-04-08</td>\n      <td>400263</td>\n      <td>400263.0</td>\n      <td>...</td>\n      <td>0.571</td>\n      <td>0.538</td>\n      <td>0.1390</td>\n      <td>-10.513</td>\n      <td>0.0748</td>\n      <td>127.014</td>\n      <td>4.0</td>\n      <td>0.0379</td>\n      <td>0.0</td>\n      <td>3.0</td>\n    </tr>\n    <tr>\n      <th>4</th>\n      <td>2023-03-29T13:50:40Z</td>\n      <td>3xsNTAAseZTnt9qeYBZVvA</td>\n      <td>GOOD TIMES - Elephant Talk Remix</td>\n      <td>39</td>\n      <td>spotify:track:3xsNTAAseZTnt9qeYBZVvA</td>\n      <td>Jungle</td>\n      <td>GOOD TIMES (Elephant Talk Remix)</td>\n      <td>2022-11-18</td>\n      <td>295813</td>\n      <td>295813.0</td>\n      <td>...</td>\n      <td>0.861</td>\n      <td>0.873</td>\n      <td>0.2870</td>\n      <td>-6.255</td>\n      <td>0.0472</td>\n      <td>132.998</td>\n      <td>4.0</td>\n      <td>0.6120</td>\n      <td>0.0</td>\n      <td>11.0</td>\n    </tr>\n    <tr>\n      <th>5</th>\n      <td>2023-03-28T19:10:32Z</td>\n      <td>1B2xkcuOPjhtCWyojUKbUk</td>\n      <td>Hero Dance</td>\n      <td>41</td>\n      <td>spotify:track:1B2xkcuOPjhtCWyojUKbUk</td>\n      <td>Grand V</td>\n      <td>Hero Dance</td>\n      <td>2020-11-30</td>\n      <td>434000</td>\n      <td>434000.0</td>\n      <td>...</td>\n      <td>0.960</td>\n      <td>0.898</td>\n      <td>0.0765</td>\n      <td>-5.807</td>\n      <td>0.0385</td>\n      <td>148.006</td>\n      <td>4.0</td>\n      <td>0.9650</td>\n      <td>0.0</td>\n      <td>10.0</td>\n    </tr>\n    <tr>\n      <th>6</th>\n      <td>2023-03-27T07:08:33Z</td>\n      <td>4N2j73aEDUQKjlkYFkIio5</td>\n      <td>Acidule</td>\n      <td>34</td>\n      <td>spotify:track:4N2j73aEDUQKjlkYFkIio5</td>\n      <td>Various Artists</td>\n      <td>Ethereal VA</td>\n      <td>2022-02-21</td>\n      <td>355892</td>\n      <td>355892.0</td>\n      <td>...</td>\n      <td>0.996</td>\n      <td>0.753</td>\n      <td>0.2200</td>\n      <td>-7.465</td>\n      <td>0.0478</td>\n      <td>149.976</td>\n      <td>4.0</td>\n      <td>0.3640</td>\n      <td>1.0</td>\n      <td>7.0</td>\n    </tr>\n    <tr>\n      <th>7</th>\n      <td>2023-03-24T19:15:06Z</td>\n      <td>4N28QlYB0XW6H5gaXBHt6T</td>\n      <td>1992</td>\n      <td>50</td>\n      <td>spotify:track:4N28QlYB0XW6H5gaXBHt6T</td>\n      <td>No_4mat</td>\n      <td>1992</td>\n      <td>2018-11-16</td>\n      <td>404998</td>\n      <td>404998.0</td>\n      <td>...</td>\n      <td>0.897</td>\n      <td>0.901</td>\n      <td>0.0986</td>\n      <td>-8.289</td>\n      <td>0.0492</td>\n      <td>127.972</td>\n      <td>4.0</td>\n      <td>0.5160</td>\n      <td>0.0</td>\n      <td>3.0</td>\n    </tr>\n    <tr>\n      <th>8</th>\n      <td>2023-03-24T00:39:38Z</td>\n      <td>5atmUwQngfhOfZvgGJCrJ0</td>\n      <td>Meet Her At The Loveparade - Nalin &amp; Kane Remix</td>\n      <td>42</td>\n      <td>spotify:track:5atmUwQngfhOfZvgGJCrJ0</td>\n      <td>Da Hool</td>\n      <td>Meet Her at the Loveparade</td>\n      <td>2001-08-20</td>\n      <td>594666</td>\n      <td>594666.0</td>\n      <td>...</td>\n      <td>0.657</td>\n      <td>0.897</td>\n      <td>0.0926</td>\n      <td>-9.726</td>\n      <td>0.0649</td>\n      <td>132.992</td>\n      <td>4.0</td>\n      <td>0.2210</td>\n      <td>1.0</td>\n      <td>2.0</td>\n    </tr>\n    <tr>\n      <th>9</th>\n      <td>2023-03-23T21:24:05Z</td>\n      <td>7w8qT1UcnJIZafNiLu2C7h</td>\n      <td>Phonky Tribu - DJ HEARTSTRING Remix</td>\n      <td>48</td>\n      <td>spotify:track:7w8qT1UcnJIZafNiLu2C7h</td>\n      <td>Funk Tribu</td>\n      <td>Phonky Tribu (DJ HEARTSTRING Remix)</td>\n      <td>2023-01-13</td>\n      <td>250348</td>\n      <td>250348.0</td>\n      <td>...</td>\n      <td>0.935</td>\n      <td>0.868</td>\n      <td>0.0511</td>\n      <td>-4.213</td>\n      <td>0.0712</td>\n      <td>155.007</td>\n      <td>4.0</td>\n      <td>0.9030</td>\n      <td>1.0</td>\n      <td>11.0</td>\n    </tr>\n  </tbody>\n</table>\n<p>10 rows × 22 columns</p>\n</div>"
     },
     "execution_count": 8,
     "metadata": {},
     "output_type": "execute_result"
    }
   ],
   "source": [
    "# Read and check of the loaded data\n",
    "data = pd.read_csv('tracklist.csv')\n",
    "data.head(10)"
   ],
   "metadata": {
    "collapsed": false,
    "ExecuteTime": {
     "start_time": "2023-04-08T13:00:42.758686Z",
     "end_time": "2023-04-08T13:00:42.787326Z"
    }
   }
  },
  {
   "cell_type": "markdown",
   "source": [
    "#### Add all genres of the artists to the dataframe\n",
    "\n",
    "The genres are not included in the Spotify API, so we need to get them from the Spotify API. We can do this by searching for the artist and getting the artist id. Then we can use the artist id to get the genres of the artist."
   ],
   "metadata": {
    "collapsed": false
   }
  },
  {
   "cell_type": "code",
   "execution_count": 15,
   "outputs": [
    {
     "ename": "KeyboardInterrupt",
     "evalue": "",
     "output_type": "error",
     "traceback": [
      "\u001B[0;31m---------------------------------------------------------------------------\u001B[0m",
      "\u001B[0;31mKeyboardInterrupt\u001B[0m                         Traceback (most recent call last)",
      "Cell \u001B[0;32mIn[15], line 6\u001B[0m\n\u001B[1;32m      4\u001B[0m     artist \u001B[38;5;241m=\u001B[39m data[\u001B[38;5;124m'\u001B[39m\u001B[38;5;124martist\u001B[39m\u001B[38;5;124m'\u001B[39m][i]\n\u001B[1;32m      5\u001B[0m     artist_id \u001B[38;5;241m=\u001B[39m sp\u001B[38;5;241m.\u001B[39msearch(artist, \u001B[38;5;28mtype\u001B[39m\u001B[38;5;241m=\u001B[39m\u001B[38;5;124m'\u001B[39m\u001B[38;5;124martist\u001B[39m\u001B[38;5;124m'\u001B[39m)[\u001B[38;5;124m'\u001B[39m\u001B[38;5;124martists\u001B[39m\u001B[38;5;124m'\u001B[39m][\u001B[38;5;124m'\u001B[39m\u001B[38;5;124mitems\u001B[39m\u001B[38;5;124m'\u001B[39m][\u001B[38;5;241m0\u001B[39m][\u001B[38;5;124m'\u001B[39m\u001B[38;5;124mid\u001B[39m\u001B[38;5;124m'\u001B[39m]\n\u001B[0;32m----> 6\u001B[0m     artist_genres \u001B[38;5;241m=\u001B[39m \u001B[43msp\u001B[49m\u001B[38;5;241;43m.\u001B[39;49m\u001B[43martist\u001B[49m\u001B[43m(\u001B[49m\u001B[43martist_id\u001B[49m\u001B[43m)\u001B[49m[\u001B[38;5;124m'\u001B[39m\u001B[38;5;124mgenres\u001B[39m\u001B[38;5;124m'\u001B[39m]\n\u001B[1;32m      7\u001B[0m     genres\u001B[38;5;241m.\u001B[39mappend(artist_genres)\n\u001B[1;32m      9\u001B[0m data[\u001B[38;5;124m'\u001B[39m\u001B[38;5;124mgenres\u001B[39m\u001B[38;5;124m'\u001B[39m] \u001B[38;5;241m=\u001B[39m genres\n",
      "File \u001B[0;32m~/PycharmProjects/Spotify_1/venv/lib/python3.10/site-packages/spotipy/client.py:392\u001B[0m, in \u001B[0;36mSpotify.artist\u001B[0;34m(self, artist_id)\u001B[0m\n\u001B[1;32m    385\u001B[0m \u001B[38;5;250m\u001B[39m\u001B[38;5;124;03m\"\"\" returns a single artist given the artist's ID, URI or URL\u001B[39;00m\n\u001B[1;32m    386\u001B[0m \n\u001B[1;32m    387\u001B[0m \u001B[38;5;124;03m    Parameters:\u001B[39;00m\n\u001B[1;32m    388\u001B[0m \u001B[38;5;124;03m        - artist_id - an artist ID, URI or URL\u001B[39;00m\n\u001B[1;32m    389\u001B[0m \u001B[38;5;124;03m\"\"\"\u001B[39;00m\n\u001B[1;32m    391\u001B[0m trid \u001B[38;5;241m=\u001B[39m \u001B[38;5;28mself\u001B[39m\u001B[38;5;241m.\u001B[39m_get_id(\u001B[38;5;124m\"\u001B[39m\u001B[38;5;124martist\u001B[39m\u001B[38;5;124m\"\u001B[39m, artist_id)\n\u001B[0;32m--> 392\u001B[0m \u001B[38;5;28;01mreturn\u001B[39;00m \u001B[38;5;28;43mself\u001B[39;49m\u001B[38;5;241;43m.\u001B[39;49m\u001B[43m_get\u001B[49m\u001B[43m(\u001B[49m\u001B[38;5;124;43m\"\u001B[39;49m\u001B[38;5;124;43martists/\u001B[39;49m\u001B[38;5;124;43m\"\u001B[39;49m\u001B[43m \u001B[49m\u001B[38;5;241;43m+\u001B[39;49m\u001B[43m \u001B[49m\u001B[43mtrid\u001B[49m\u001B[43m)\u001B[49m\n",
      "File \u001B[0;32m~/PycharmProjects/Spotify_1/venv/lib/python3.10/site-packages/spotipy/client.py:323\u001B[0m, in \u001B[0;36mSpotify._get\u001B[0;34m(self, url, args, payload, **kwargs)\u001B[0m\n\u001B[1;32m    320\u001B[0m \u001B[38;5;28;01mif\u001B[39;00m args:\n\u001B[1;32m    321\u001B[0m     kwargs\u001B[38;5;241m.\u001B[39mupdate(args)\n\u001B[0;32m--> 323\u001B[0m \u001B[38;5;28;01mreturn\u001B[39;00m \u001B[38;5;28;43mself\u001B[39;49m\u001B[38;5;241;43m.\u001B[39;49m\u001B[43m_internal_call\u001B[49m\u001B[43m(\u001B[49m\u001B[38;5;124;43m\"\u001B[39;49m\u001B[38;5;124;43mGET\u001B[39;49m\u001B[38;5;124;43m\"\u001B[39;49m\u001B[43m,\u001B[49m\u001B[43m \u001B[49m\u001B[43murl\u001B[49m\u001B[43m,\u001B[49m\u001B[43m \u001B[49m\u001B[43mpayload\u001B[49m\u001B[43m,\u001B[49m\u001B[43m \u001B[49m\u001B[43mkwargs\u001B[49m\u001B[43m)\u001B[49m\n",
      "File \u001B[0;32m~/PycharmProjects/Spotify_1/venv/lib/python3.10/site-packages/spotipy/client.py:266\u001B[0m, in \u001B[0;36mSpotify._internal_call\u001B[0;34m(self, method, url, payload, params)\u001B[0m\n\u001B[1;32m    262\u001B[0m logger\u001B[38;5;241m.\u001B[39mdebug(\u001B[38;5;124m'\u001B[39m\u001B[38;5;124mSending \u001B[39m\u001B[38;5;132;01m%s\u001B[39;00m\u001B[38;5;124m to \u001B[39m\u001B[38;5;132;01m%s\u001B[39;00m\u001B[38;5;124m with Params: \u001B[39m\u001B[38;5;132;01m%s\u001B[39;00m\u001B[38;5;124m Headers: \u001B[39m\u001B[38;5;132;01m%s\u001B[39;00m\u001B[38;5;124m and Body: \u001B[39m\u001B[38;5;132;01m%r\u001B[39;00m\u001B[38;5;124m \u001B[39m\u001B[38;5;124m'\u001B[39m,\n\u001B[1;32m    263\u001B[0m              method, url, args\u001B[38;5;241m.\u001B[39mget(\u001B[38;5;124m\"\u001B[39m\u001B[38;5;124mparams\u001B[39m\u001B[38;5;124m\"\u001B[39m), headers, args\u001B[38;5;241m.\u001B[39mget(\u001B[38;5;124m'\u001B[39m\u001B[38;5;124mdata\u001B[39m\u001B[38;5;124m'\u001B[39m))\n\u001B[1;32m    265\u001B[0m \u001B[38;5;28;01mtry\u001B[39;00m:\n\u001B[0;32m--> 266\u001B[0m     response \u001B[38;5;241m=\u001B[39m \u001B[38;5;28;43mself\u001B[39;49m\u001B[38;5;241;43m.\u001B[39;49m\u001B[43m_session\u001B[49m\u001B[38;5;241;43m.\u001B[39;49m\u001B[43mrequest\u001B[49m\u001B[43m(\u001B[49m\n\u001B[1;32m    267\u001B[0m \u001B[43m        \u001B[49m\u001B[43mmethod\u001B[49m\u001B[43m,\u001B[49m\u001B[43m \u001B[49m\u001B[43murl\u001B[49m\u001B[43m,\u001B[49m\u001B[43m \u001B[49m\u001B[43mheaders\u001B[49m\u001B[38;5;241;43m=\u001B[39;49m\u001B[43mheaders\u001B[49m\u001B[43m,\u001B[49m\u001B[43m \u001B[49m\u001B[43mproxies\u001B[49m\u001B[38;5;241;43m=\u001B[39;49m\u001B[38;5;28;43mself\u001B[39;49m\u001B[38;5;241;43m.\u001B[39;49m\u001B[43mproxies\u001B[49m\u001B[43m,\u001B[49m\n\u001B[1;32m    268\u001B[0m \u001B[43m        \u001B[49m\u001B[43mtimeout\u001B[49m\u001B[38;5;241;43m=\u001B[39;49m\u001B[38;5;28;43mself\u001B[39;49m\u001B[38;5;241;43m.\u001B[39;49m\u001B[43mrequests_timeout\u001B[49m\u001B[43m,\u001B[49m\u001B[43m \u001B[49m\u001B[38;5;241;43m*\u001B[39;49m\u001B[38;5;241;43m*\u001B[39;49m\u001B[43margs\u001B[49m\n\u001B[1;32m    269\u001B[0m \u001B[43m    \u001B[49m\u001B[43m)\u001B[49m\n\u001B[1;32m    271\u001B[0m     response\u001B[38;5;241m.\u001B[39mraise_for_status()\n\u001B[1;32m    272\u001B[0m     results \u001B[38;5;241m=\u001B[39m response\u001B[38;5;241m.\u001B[39mjson()\n",
      "File \u001B[0;32m~/PycharmProjects/Spotify_1/venv/lib/python3.10/site-packages/requests/sessions.py:587\u001B[0m, in \u001B[0;36mSession.request\u001B[0;34m(self, method, url, params, data, headers, cookies, files, auth, timeout, allow_redirects, proxies, hooks, stream, verify, cert, json)\u001B[0m\n\u001B[1;32m    582\u001B[0m send_kwargs \u001B[38;5;241m=\u001B[39m {\n\u001B[1;32m    583\u001B[0m     \u001B[38;5;124m\"\u001B[39m\u001B[38;5;124mtimeout\u001B[39m\u001B[38;5;124m\"\u001B[39m: timeout,\n\u001B[1;32m    584\u001B[0m     \u001B[38;5;124m\"\u001B[39m\u001B[38;5;124mallow_redirects\u001B[39m\u001B[38;5;124m\"\u001B[39m: allow_redirects,\n\u001B[1;32m    585\u001B[0m }\n\u001B[1;32m    586\u001B[0m send_kwargs\u001B[38;5;241m.\u001B[39mupdate(settings)\n\u001B[0;32m--> 587\u001B[0m resp \u001B[38;5;241m=\u001B[39m \u001B[38;5;28;43mself\u001B[39;49m\u001B[38;5;241;43m.\u001B[39;49m\u001B[43msend\u001B[49m\u001B[43m(\u001B[49m\u001B[43mprep\u001B[49m\u001B[43m,\u001B[49m\u001B[43m \u001B[49m\u001B[38;5;241;43m*\u001B[39;49m\u001B[38;5;241;43m*\u001B[39;49m\u001B[43msend_kwargs\u001B[49m\u001B[43m)\u001B[49m\n\u001B[1;32m    589\u001B[0m \u001B[38;5;28;01mreturn\u001B[39;00m resp\n",
      "File \u001B[0;32m~/PycharmProjects/Spotify_1/venv/lib/python3.10/site-packages/requests/sessions.py:701\u001B[0m, in \u001B[0;36mSession.send\u001B[0;34m(self, request, **kwargs)\u001B[0m\n\u001B[1;32m    698\u001B[0m start \u001B[38;5;241m=\u001B[39m preferred_clock()\n\u001B[1;32m    700\u001B[0m \u001B[38;5;66;03m# Send the request\u001B[39;00m\n\u001B[0;32m--> 701\u001B[0m r \u001B[38;5;241m=\u001B[39m \u001B[43madapter\u001B[49m\u001B[38;5;241;43m.\u001B[39;49m\u001B[43msend\u001B[49m\u001B[43m(\u001B[49m\u001B[43mrequest\u001B[49m\u001B[43m,\u001B[49m\u001B[43m \u001B[49m\u001B[38;5;241;43m*\u001B[39;49m\u001B[38;5;241;43m*\u001B[39;49m\u001B[43mkwargs\u001B[49m\u001B[43m)\u001B[49m\n\u001B[1;32m    703\u001B[0m \u001B[38;5;66;03m# Total elapsed time of the request (approximately)\u001B[39;00m\n\u001B[1;32m    704\u001B[0m elapsed \u001B[38;5;241m=\u001B[39m preferred_clock() \u001B[38;5;241m-\u001B[39m start\n",
      "File \u001B[0;32m~/PycharmProjects/Spotify_1/venv/lib/python3.10/site-packages/requests/adapters.py:489\u001B[0m, in \u001B[0;36mHTTPAdapter.send\u001B[0;34m(self, request, stream, timeout, verify, cert, proxies)\u001B[0m\n\u001B[1;32m    487\u001B[0m \u001B[38;5;28;01mtry\u001B[39;00m:\n\u001B[1;32m    488\u001B[0m     \u001B[38;5;28;01mif\u001B[39;00m \u001B[38;5;129;01mnot\u001B[39;00m chunked:\n\u001B[0;32m--> 489\u001B[0m         resp \u001B[38;5;241m=\u001B[39m \u001B[43mconn\u001B[49m\u001B[38;5;241;43m.\u001B[39;49m\u001B[43murlopen\u001B[49m\u001B[43m(\u001B[49m\n\u001B[1;32m    490\u001B[0m \u001B[43m            \u001B[49m\u001B[43mmethod\u001B[49m\u001B[38;5;241;43m=\u001B[39;49m\u001B[43mrequest\u001B[49m\u001B[38;5;241;43m.\u001B[39;49m\u001B[43mmethod\u001B[49m\u001B[43m,\u001B[49m\n\u001B[1;32m    491\u001B[0m \u001B[43m            \u001B[49m\u001B[43murl\u001B[49m\u001B[38;5;241;43m=\u001B[39;49m\u001B[43murl\u001B[49m\u001B[43m,\u001B[49m\n\u001B[1;32m    492\u001B[0m \u001B[43m            \u001B[49m\u001B[43mbody\u001B[49m\u001B[38;5;241;43m=\u001B[39;49m\u001B[43mrequest\u001B[49m\u001B[38;5;241;43m.\u001B[39;49m\u001B[43mbody\u001B[49m\u001B[43m,\u001B[49m\n\u001B[1;32m    493\u001B[0m \u001B[43m            \u001B[49m\u001B[43mheaders\u001B[49m\u001B[38;5;241;43m=\u001B[39;49m\u001B[43mrequest\u001B[49m\u001B[38;5;241;43m.\u001B[39;49m\u001B[43mheaders\u001B[49m\u001B[43m,\u001B[49m\n\u001B[1;32m    494\u001B[0m \u001B[43m            \u001B[49m\u001B[43mredirect\u001B[49m\u001B[38;5;241;43m=\u001B[39;49m\u001B[38;5;28;43;01mFalse\u001B[39;49;00m\u001B[43m,\u001B[49m\n\u001B[1;32m    495\u001B[0m \u001B[43m            \u001B[49m\u001B[43massert_same_host\u001B[49m\u001B[38;5;241;43m=\u001B[39;49m\u001B[38;5;28;43;01mFalse\u001B[39;49;00m\u001B[43m,\u001B[49m\n\u001B[1;32m    496\u001B[0m \u001B[43m            \u001B[49m\u001B[43mpreload_content\u001B[49m\u001B[38;5;241;43m=\u001B[39;49m\u001B[38;5;28;43;01mFalse\u001B[39;49;00m\u001B[43m,\u001B[49m\n\u001B[1;32m    497\u001B[0m \u001B[43m            \u001B[49m\u001B[43mdecode_content\u001B[49m\u001B[38;5;241;43m=\u001B[39;49m\u001B[38;5;28;43;01mFalse\u001B[39;49;00m\u001B[43m,\u001B[49m\n\u001B[1;32m    498\u001B[0m \u001B[43m            \u001B[49m\u001B[43mretries\u001B[49m\u001B[38;5;241;43m=\u001B[39;49m\u001B[38;5;28;43mself\u001B[39;49m\u001B[38;5;241;43m.\u001B[39;49m\u001B[43mmax_retries\u001B[49m\u001B[43m,\u001B[49m\n\u001B[1;32m    499\u001B[0m \u001B[43m            \u001B[49m\u001B[43mtimeout\u001B[49m\u001B[38;5;241;43m=\u001B[39;49m\u001B[43mtimeout\u001B[49m\u001B[43m,\u001B[49m\n\u001B[1;32m    500\u001B[0m \u001B[43m        \u001B[49m\u001B[43m)\u001B[49m\n\u001B[1;32m    502\u001B[0m     \u001B[38;5;66;03m# Send the request.\u001B[39;00m\n\u001B[1;32m    503\u001B[0m     \u001B[38;5;28;01melse\u001B[39;00m:\n\u001B[1;32m    504\u001B[0m         \u001B[38;5;28;01mif\u001B[39;00m \u001B[38;5;28mhasattr\u001B[39m(conn, \u001B[38;5;124m\"\u001B[39m\u001B[38;5;124mproxy_pool\u001B[39m\u001B[38;5;124m\"\u001B[39m):\n",
      "File \u001B[0;32m~/PycharmProjects/Spotify_1/venv/lib/python3.10/site-packages/urllib3/connectionpool.py:876\u001B[0m, in \u001B[0;36mHTTPConnectionPool.urlopen\u001B[0;34m(self, method, url, body, headers, retries, redirect, assert_same_host, timeout, pool_timeout, release_conn, chunked, body_pos, **response_kw)\u001B[0m\n\u001B[1;32m    873\u001B[0m     \u001B[38;5;28;01mreturn\u001B[39;00m response\n\u001B[1;32m    875\u001B[0m response\u001B[38;5;241m.\u001B[39mdrain_conn()\n\u001B[0;32m--> 876\u001B[0m \u001B[43mretries\u001B[49m\u001B[38;5;241;43m.\u001B[39;49m\u001B[43msleep\u001B[49m\u001B[43m(\u001B[49m\u001B[43mresponse\u001B[49m\u001B[43m)\u001B[49m\n\u001B[1;32m    877\u001B[0m log\u001B[38;5;241m.\u001B[39mdebug(\u001B[38;5;124m\"\u001B[39m\u001B[38;5;124mRetry: \u001B[39m\u001B[38;5;132;01m%s\u001B[39;00m\u001B[38;5;124m\"\u001B[39m, url)\n\u001B[1;32m    878\u001B[0m \u001B[38;5;28;01mreturn\u001B[39;00m \u001B[38;5;28mself\u001B[39m\u001B[38;5;241m.\u001B[39murlopen(\n\u001B[1;32m    879\u001B[0m     method,\n\u001B[1;32m    880\u001B[0m     url,\n\u001B[0;32m   (...)\u001B[0m\n\u001B[1;32m    891\u001B[0m     \u001B[38;5;241m*\u001B[39m\u001B[38;5;241m*\u001B[39mresponse_kw\n\u001B[1;32m    892\u001B[0m )\n",
      "File \u001B[0;32m~/PycharmProjects/Spotify_1/venv/lib/python3.10/site-packages/urllib3/util/retry.py:428\u001B[0m, in \u001B[0;36mRetry.sleep\u001B[0;34m(self, response)\u001B[0m\n\u001B[1;32m    419\u001B[0m \u001B[38;5;250m\u001B[39m\u001B[38;5;124;03m\"\"\"Sleep between retry attempts.\u001B[39;00m\n\u001B[1;32m    420\u001B[0m \n\u001B[1;32m    421\u001B[0m \u001B[38;5;124;03mThis method will respect a server's ``Retry-After`` response header\u001B[39;00m\n\u001B[0;32m   (...)\u001B[0m\n\u001B[1;32m    424\u001B[0m \u001B[38;5;124;03mthis method will return immediately.\u001B[39;00m\n\u001B[1;32m    425\u001B[0m \u001B[38;5;124;03m\"\"\"\u001B[39;00m\n\u001B[1;32m    427\u001B[0m \u001B[38;5;28;01mif\u001B[39;00m \u001B[38;5;28mself\u001B[39m\u001B[38;5;241m.\u001B[39mrespect_retry_after_header \u001B[38;5;129;01mand\u001B[39;00m response:\n\u001B[0;32m--> 428\u001B[0m     slept \u001B[38;5;241m=\u001B[39m \u001B[38;5;28;43mself\u001B[39;49m\u001B[38;5;241;43m.\u001B[39;49m\u001B[43msleep_for_retry\u001B[49m\u001B[43m(\u001B[49m\u001B[43mresponse\u001B[49m\u001B[43m)\u001B[49m\n\u001B[1;32m    429\u001B[0m     \u001B[38;5;28;01mif\u001B[39;00m slept:\n\u001B[1;32m    430\u001B[0m         \u001B[38;5;28;01mreturn\u001B[39;00m\n",
      "File \u001B[0;32m~/PycharmProjects/Spotify_1/venv/lib/python3.10/site-packages/urllib3/util/retry.py:407\u001B[0m, in \u001B[0;36mRetry.sleep_for_retry\u001B[0;34m(self, response)\u001B[0m\n\u001B[1;32m    405\u001B[0m retry_after \u001B[38;5;241m=\u001B[39m \u001B[38;5;28mself\u001B[39m\u001B[38;5;241m.\u001B[39mget_retry_after(response)\n\u001B[1;32m    406\u001B[0m \u001B[38;5;28;01mif\u001B[39;00m retry_after:\n\u001B[0;32m--> 407\u001B[0m     \u001B[43mtime\u001B[49m\u001B[38;5;241;43m.\u001B[39;49m\u001B[43msleep\u001B[49m\u001B[43m(\u001B[49m\u001B[43mretry_after\u001B[49m\u001B[43m)\u001B[49m\n\u001B[1;32m    408\u001B[0m     \u001B[38;5;28;01mreturn\u001B[39;00m \u001B[38;5;28;01mTrue\u001B[39;00m\n\u001B[1;32m    410\u001B[0m \u001B[38;5;28;01mreturn\u001B[39;00m \u001B[38;5;28;01mFalse\u001B[39;00m\n",
      "\u001B[0;31mKeyboardInterrupt\u001B[0m: "
     ]
    }
   ],
   "source": [
    "# Add all genres of the artists to the dataframe\n",
    "genres = []\n",
    "for i in range(len(data)):\n",
    "    artist = data['artist'][i]\n",
    "    artist_id = sp.search(artist, type='artist')['artists']['items'][0]['id']\n",
    "    artist_genres = sp.artist(artist_id)['genres']\n",
    "    genres.append(artist_genres)\n",
    "\n",
    "data['genres'] = genres\n",
    "data.head(10)"
   ],
   "metadata": {
    "collapsed": false
   }
  },
  {
   "cell_type": "code",
   "execution_count": null,
   "outputs": [],
   "source": [
    "# Transform the genre column to extract specific genres\n",
    "data['genres'] = data['genres'].astype(str)\n",
    "data['genres'] = data['genres'].str.replace('[', '')\n",
    "data['genres'] = data['genres'].str.replace(']', '')\n",
    "data['genres'] = data['genres'].str.replace(\"'\", '')\n",
    "data['genres'] = data['genres'].str.replace('\"', '')\n",
    "data.head(10)"
   ],
   "metadata": {
    "collapsed": false
   }
  },
  {
   "cell_type": "markdown",
   "source": [
    "#### The genres are very specific and detailed. By grouping the genres we can get a more general overview of the genres. This will cost us some information, but it will be easier to get a general overview."
   ],
   "metadata": {
    "collapsed": false
   }
  },
  {
   "cell_type": "code",
   "execution_count": 10,
   "outputs": [
    {
     "ename": "KeyError",
     "evalue": "'genres'",
     "output_type": "error",
     "traceback": [
      "\u001B[0;31m---------------------------------------------------------------------------\u001B[0m",
      "\u001B[0;31mKeyError\u001B[0m                                  Traceback (most recent call last)",
      "File \u001B[0;32m~/PycharmProjects/Spotify_1/venv/lib/python3.10/site-packages/pandas/core/indexes/base.py:3652\u001B[0m, in \u001B[0;36mIndex.get_loc\u001B[0;34m(self, key)\u001B[0m\n\u001B[1;32m   3651\u001B[0m \u001B[38;5;28;01mtry\u001B[39;00m:\n\u001B[0;32m-> 3652\u001B[0m     \u001B[38;5;28;01mreturn\u001B[39;00m \u001B[38;5;28;43mself\u001B[39;49m\u001B[38;5;241;43m.\u001B[39;49m\u001B[43m_engine\u001B[49m\u001B[38;5;241;43m.\u001B[39;49m\u001B[43mget_loc\u001B[49m\u001B[43m(\u001B[49m\u001B[43mcasted_key\u001B[49m\u001B[43m)\u001B[49m\n\u001B[1;32m   3653\u001B[0m \u001B[38;5;28;01mexcept\u001B[39;00m \u001B[38;5;167;01mKeyError\u001B[39;00m \u001B[38;5;28;01mas\u001B[39;00m err:\n",
      "File \u001B[0;32m~/PycharmProjects/Spotify_1/venv/lib/python3.10/site-packages/pandas/_libs/index.pyx:147\u001B[0m, in \u001B[0;36mpandas._libs.index.IndexEngine.get_loc\u001B[0;34m()\u001B[0m\n",
      "File \u001B[0;32m~/PycharmProjects/Spotify_1/venv/lib/python3.10/site-packages/pandas/_libs/index.pyx:176\u001B[0m, in \u001B[0;36mpandas._libs.index.IndexEngine.get_loc\u001B[0;34m()\u001B[0m\n",
      "File \u001B[0;32mpandas/_libs/hashtable_class_helper.pxi:7080\u001B[0m, in \u001B[0;36mpandas._libs.hashtable.PyObjectHashTable.get_item\u001B[0;34m()\u001B[0m\n",
      "File \u001B[0;32mpandas/_libs/hashtable_class_helper.pxi:7088\u001B[0m, in \u001B[0;36mpandas._libs.hashtable.PyObjectHashTable.get_item\u001B[0;34m()\u001B[0m\n",
      "\u001B[0;31mKeyError\u001B[0m: 'genres'",
      "\nThe above exception was the direct cause of the following exception:\n",
      "\u001B[0;31mKeyError\u001B[0m                                  Traceback (most recent call last)",
      "Cell \u001B[0;32mIn[10], line 8\u001B[0m\n\u001B[1;32m      2\u001B[0m strings \u001B[38;5;241m=\u001B[39m [\u001B[38;5;124m'\u001B[39m\u001B[38;5;124mpop\u001B[39m\u001B[38;5;124m'\u001B[39m, \u001B[38;5;124m'\u001B[39m\u001B[38;5;124mtechno\u001B[39m\u001B[38;5;124m'\u001B[39m, \u001B[38;5;124m'\u001B[39m\u001B[38;5;124mhouse\u001B[39m\u001B[38;5;124m'\u001B[39m, \u001B[38;5;124m'\u001B[39m\u001B[38;5;124mdisco\u001B[39m\u001B[38;5;124m'\u001B[39m, \u001B[38;5;124m'\u001B[39m\u001B[38;5;124melectronic\u001B[39m\u001B[38;5;124m'\u001B[39m,\n\u001B[1;32m      3\u001B[0m            \u001B[38;5;124m'\u001B[39m\u001B[38;5;124mtrance\u001B[39m\u001B[38;5;124m'\u001B[39m, \u001B[38;5;124m'\u001B[39m\u001B[38;5;124mhip hop\u001B[39m\u001B[38;5;124m'\u001B[39m, \u001B[38;5;124m'\u001B[39m\u001B[38;5;124mrap\u001B[39m\u001B[38;5;124m'\u001B[39m, \u001B[38;5;124m'\u001B[39m\u001B[38;5;124mr&b\u001B[39m\u001B[38;5;124m'\u001B[39m, \u001B[38;5;124m'\u001B[39m\u001B[38;5;124msoul\u001B[39m\u001B[38;5;124m'\u001B[39m, \u001B[38;5;124m'\u001B[39m\u001B[38;5;124mrock\u001B[39m\u001B[38;5;124m'\u001B[39m,\n\u001B[1;32m      4\u001B[0m            \u001B[38;5;124m'\u001B[39m\u001B[38;5;124mmetal\u001B[39m\u001B[38;5;124m'\u001B[39m, \u001B[38;5;124m'\u001B[39m\u001B[38;5;124mpunk\u001B[39m\u001B[38;5;124m'\u001B[39m, \u001B[38;5;124m'\u001B[39m\u001B[38;5;124mjazz\u001B[39m\u001B[38;5;124m'\u001B[39m, \u001B[38;5;124m'\u001B[39m\u001B[38;5;124mblues\u001B[39m\u001B[38;5;124m'\u001B[39m, \u001B[38;5;124m'\u001B[39m\u001B[38;5;124mcountry\u001B[39m\u001B[38;5;124m'\u001B[39m, \u001B[38;5;124m'\u001B[39m\u001B[38;5;124mfolk\u001B[39m\u001B[38;5;124m'\u001B[39m,\n\u001B[1;32m      5\u001B[0m            \u001B[38;5;124m'\u001B[39m\u001B[38;5;124mreggae\u001B[39m\u001B[38;5;124m'\u001B[39m, \u001B[38;5;124m'\u001B[39m\u001B[38;5;124mclassical\u001B[39m\u001B[38;5;124m'\u001B[39m, \u001B[38;5;124m'\u001B[39m\u001B[38;5;124mindie\u001B[39m\u001B[38;5;124m'\u001B[39m, \u001B[38;5;124m'\u001B[39m\u001B[38;5;124mfunk\u001B[39m\u001B[38;5;124m'\u001B[39m]\n\u001B[1;32m      7\u001B[0m \u001B[38;5;28;01mfor\u001B[39;00m string \u001B[38;5;129;01min\u001B[39;00m strings:\n\u001B[0;32m----> 8\u001B[0m     data\u001B[38;5;241m.\u001B[39mloc[\u001B[43mdata\u001B[49m\u001B[43m[\u001B[49m\u001B[38;5;124;43m'\u001B[39;49m\u001B[38;5;124;43mgenres\u001B[39;49m\u001B[38;5;124;43m'\u001B[39;49m\u001B[43m]\u001B[49m\u001B[38;5;241m.\u001B[39mstr\u001B[38;5;241m.\u001B[39mcontains(string), \u001B[38;5;124m'\u001B[39m\u001B[38;5;124mgenre_group\u001B[39m\u001B[38;5;124m'\u001B[39m] \u001B[38;5;241m=\u001B[39m string\n\u001B[1;32m     10\u001B[0m data\u001B[38;5;241m.\u001B[39mhead(\u001B[38;5;241m10\u001B[39m)\n",
      "File \u001B[0;32m~/PycharmProjects/Spotify_1/venv/lib/python3.10/site-packages/pandas/core/frame.py:3760\u001B[0m, in \u001B[0;36mDataFrame.__getitem__\u001B[0;34m(self, key)\u001B[0m\n\u001B[1;32m   3758\u001B[0m \u001B[38;5;28;01mif\u001B[39;00m \u001B[38;5;28mself\u001B[39m\u001B[38;5;241m.\u001B[39mcolumns\u001B[38;5;241m.\u001B[39mnlevels \u001B[38;5;241m>\u001B[39m \u001B[38;5;241m1\u001B[39m:\n\u001B[1;32m   3759\u001B[0m     \u001B[38;5;28;01mreturn\u001B[39;00m \u001B[38;5;28mself\u001B[39m\u001B[38;5;241m.\u001B[39m_getitem_multilevel(key)\n\u001B[0;32m-> 3760\u001B[0m indexer \u001B[38;5;241m=\u001B[39m \u001B[38;5;28;43mself\u001B[39;49m\u001B[38;5;241;43m.\u001B[39;49m\u001B[43mcolumns\u001B[49m\u001B[38;5;241;43m.\u001B[39;49m\u001B[43mget_loc\u001B[49m\u001B[43m(\u001B[49m\u001B[43mkey\u001B[49m\u001B[43m)\u001B[49m\n\u001B[1;32m   3761\u001B[0m \u001B[38;5;28;01mif\u001B[39;00m is_integer(indexer):\n\u001B[1;32m   3762\u001B[0m     indexer \u001B[38;5;241m=\u001B[39m [indexer]\n",
      "File \u001B[0;32m~/PycharmProjects/Spotify_1/venv/lib/python3.10/site-packages/pandas/core/indexes/base.py:3654\u001B[0m, in \u001B[0;36mIndex.get_loc\u001B[0;34m(self, key)\u001B[0m\n\u001B[1;32m   3652\u001B[0m     \u001B[38;5;28;01mreturn\u001B[39;00m \u001B[38;5;28mself\u001B[39m\u001B[38;5;241m.\u001B[39m_engine\u001B[38;5;241m.\u001B[39mget_loc(casted_key)\n\u001B[1;32m   3653\u001B[0m \u001B[38;5;28;01mexcept\u001B[39;00m \u001B[38;5;167;01mKeyError\u001B[39;00m \u001B[38;5;28;01mas\u001B[39;00m err:\n\u001B[0;32m-> 3654\u001B[0m     \u001B[38;5;28;01mraise\u001B[39;00m \u001B[38;5;167;01mKeyError\u001B[39;00m(key) \u001B[38;5;28;01mfrom\u001B[39;00m \u001B[38;5;21;01merr\u001B[39;00m\n\u001B[1;32m   3655\u001B[0m \u001B[38;5;28;01mexcept\u001B[39;00m \u001B[38;5;167;01mTypeError\u001B[39;00m:\n\u001B[1;32m   3656\u001B[0m     \u001B[38;5;66;03m# If we have a listlike key, _check_indexing_error will raise\u001B[39;00m\n\u001B[1;32m   3657\u001B[0m     \u001B[38;5;66;03m#  InvalidIndexError. Otherwise we fall through and re-raise\u001B[39;00m\n\u001B[1;32m   3658\u001B[0m     \u001B[38;5;66;03m#  the TypeError.\u001B[39;00m\n\u001B[1;32m   3659\u001B[0m     \u001B[38;5;28mself\u001B[39m\u001B[38;5;241m.\u001B[39m_check_indexing_error(key)\n",
      "\u001B[0;31mKeyError\u001B[0m: 'genres'"
     ]
    }
   ],
   "source": [
    "# Search for predefined genres in the genre column\n",
    "strings = ['pop', 'techno', 'house', 'disco', 'electronic',\n",
    "           'trance', 'hip hop', 'rap', 'r&b', 'soul', 'rock',\n",
    "           'metal', 'punk', 'jazz', 'blues', 'country', 'folk',\n",
    "           'reggae', 'classical', 'indie', 'funk']\n",
    "\n",
    "for string in strings:\n",
    "    data.loc[data['genres'].str.contains(string), 'genre_group'] = string\n",
    "\n",
    "data.head(10)"
   ],
   "metadata": {
    "collapsed": false
   }
  },
  {
   "cell_type": "code",
   "execution_count": 11,
   "outputs": [
    {
     "ename": "KeyError",
     "evalue": "'genre_group'",
     "output_type": "error",
     "traceback": [
      "\u001B[0;31m---------------------------------------------------------------------------\u001B[0m",
      "\u001B[0;31mKeyError\u001B[0m                                  Traceback (most recent call last)",
      "File \u001B[0;32m~/PycharmProjects/Spotify_1/venv/lib/python3.10/site-packages/pandas/core/indexes/base.py:3652\u001B[0m, in \u001B[0;36mIndex.get_loc\u001B[0;34m(self, key)\u001B[0m\n\u001B[1;32m   3651\u001B[0m \u001B[38;5;28;01mtry\u001B[39;00m:\n\u001B[0;32m-> 3652\u001B[0m     \u001B[38;5;28;01mreturn\u001B[39;00m \u001B[38;5;28;43mself\u001B[39;49m\u001B[38;5;241;43m.\u001B[39;49m\u001B[43m_engine\u001B[49m\u001B[38;5;241;43m.\u001B[39;49m\u001B[43mget_loc\u001B[49m\u001B[43m(\u001B[49m\u001B[43mcasted_key\u001B[49m\u001B[43m)\u001B[49m\n\u001B[1;32m   3653\u001B[0m \u001B[38;5;28;01mexcept\u001B[39;00m \u001B[38;5;167;01mKeyError\u001B[39;00m \u001B[38;5;28;01mas\u001B[39;00m err:\n",
      "File \u001B[0;32m~/PycharmProjects/Spotify_1/venv/lib/python3.10/site-packages/pandas/_libs/index.pyx:147\u001B[0m, in \u001B[0;36mpandas._libs.index.IndexEngine.get_loc\u001B[0;34m()\u001B[0m\n",
      "File \u001B[0;32m~/PycharmProjects/Spotify_1/venv/lib/python3.10/site-packages/pandas/_libs/index.pyx:176\u001B[0m, in \u001B[0;36mpandas._libs.index.IndexEngine.get_loc\u001B[0;34m()\u001B[0m\n",
      "File \u001B[0;32mpandas/_libs/hashtable_class_helper.pxi:7080\u001B[0m, in \u001B[0;36mpandas._libs.hashtable.PyObjectHashTable.get_item\u001B[0;34m()\u001B[0m\n",
      "File \u001B[0;32mpandas/_libs/hashtable_class_helper.pxi:7088\u001B[0m, in \u001B[0;36mpandas._libs.hashtable.PyObjectHashTable.get_item\u001B[0;34m()\u001B[0m\n",
      "\u001B[0;31mKeyError\u001B[0m: 'genre_group'",
      "\nThe above exception was the direct cause of the following exception:\n",
      "\u001B[0;31mKeyError\u001B[0m                                  Traceback (most recent call last)",
      "Cell \u001B[0;32mIn[11], line 2\u001B[0m\n\u001B[1;32m      1\u001B[0m \u001B[38;5;66;03m# Check how many tracks are in each genre group\u001B[39;00m\n\u001B[0;32m----> 2\u001B[0m \u001B[43mdata\u001B[49m\u001B[43m[\u001B[49m\u001B[38;5;124;43m'\u001B[39;49m\u001B[38;5;124;43mgenre_group\u001B[39;49m\u001B[38;5;124;43m'\u001B[39;49m\u001B[43m]\u001B[49m\u001B[38;5;241m.\u001B[39mvalue_counts()\n",
      "File \u001B[0;32m~/PycharmProjects/Spotify_1/venv/lib/python3.10/site-packages/pandas/core/frame.py:3760\u001B[0m, in \u001B[0;36mDataFrame.__getitem__\u001B[0;34m(self, key)\u001B[0m\n\u001B[1;32m   3758\u001B[0m \u001B[38;5;28;01mif\u001B[39;00m \u001B[38;5;28mself\u001B[39m\u001B[38;5;241m.\u001B[39mcolumns\u001B[38;5;241m.\u001B[39mnlevels \u001B[38;5;241m>\u001B[39m \u001B[38;5;241m1\u001B[39m:\n\u001B[1;32m   3759\u001B[0m     \u001B[38;5;28;01mreturn\u001B[39;00m \u001B[38;5;28mself\u001B[39m\u001B[38;5;241m.\u001B[39m_getitem_multilevel(key)\n\u001B[0;32m-> 3760\u001B[0m indexer \u001B[38;5;241m=\u001B[39m \u001B[38;5;28;43mself\u001B[39;49m\u001B[38;5;241;43m.\u001B[39;49m\u001B[43mcolumns\u001B[49m\u001B[38;5;241;43m.\u001B[39;49m\u001B[43mget_loc\u001B[49m\u001B[43m(\u001B[49m\u001B[43mkey\u001B[49m\u001B[43m)\u001B[49m\n\u001B[1;32m   3761\u001B[0m \u001B[38;5;28;01mif\u001B[39;00m is_integer(indexer):\n\u001B[1;32m   3762\u001B[0m     indexer \u001B[38;5;241m=\u001B[39m [indexer]\n",
      "File \u001B[0;32m~/PycharmProjects/Spotify_1/venv/lib/python3.10/site-packages/pandas/core/indexes/base.py:3654\u001B[0m, in \u001B[0;36mIndex.get_loc\u001B[0;34m(self, key)\u001B[0m\n\u001B[1;32m   3652\u001B[0m     \u001B[38;5;28;01mreturn\u001B[39;00m \u001B[38;5;28mself\u001B[39m\u001B[38;5;241m.\u001B[39m_engine\u001B[38;5;241m.\u001B[39mget_loc(casted_key)\n\u001B[1;32m   3653\u001B[0m \u001B[38;5;28;01mexcept\u001B[39;00m \u001B[38;5;167;01mKeyError\u001B[39;00m \u001B[38;5;28;01mas\u001B[39;00m err:\n\u001B[0;32m-> 3654\u001B[0m     \u001B[38;5;28;01mraise\u001B[39;00m \u001B[38;5;167;01mKeyError\u001B[39;00m(key) \u001B[38;5;28;01mfrom\u001B[39;00m \u001B[38;5;21;01merr\u001B[39;00m\n\u001B[1;32m   3655\u001B[0m \u001B[38;5;28;01mexcept\u001B[39;00m \u001B[38;5;167;01mTypeError\u001B[39;00m:\n\u001B[1;32m   3656\u001B[0m     \u001B[38;5;66;03m# If we have a listlike key, _check_indexing_error will raise\u001B[39;00m\n\u001B[1;32m   3657\u001B[0m     \u001B[38;5;66;03m#  InvalidIndexError. Otherwise we fall through and re-raise\u001B[39;00m\n\u001B[1;32m   3658\u001B[0m     \u001B[38;5;66;03m#  the TypeError.\u001B[39;00m\n\u001B[1;32m   3659\u001B[0m     \u001B[38;5;28mself\u001B[39m\u001B[38;5;241m.\u001B[39m_check_indexing_error(key)\n",
      "\u001B[0;31mKeyError\u001B[0m: 'genre_group'"
     ]
    }
   ],
   "source": [
    "# Check how many tracks are in each genre group\n",
    "data['genre_group'].value_counts()"
   ],
   "metadata": {
    "collapsed": false
   }
  },
  {
   "cell_type": "code",
   "execution_count": 12,
   "outputs": [
    {
     "ename": "KeyError",
     "evalue": "'genre_group'",
     "output_type": "error",
     "traceback": [
      "\u001B[0;31m---------------------------------------------------------------------------\u001B[0m",
      "\u001B[0;31mKeyError\u001B[0m                                  Traceback (most recent call last)",
      "File \u001B[0;32m~/PycharmProjects/Spotify_1/venv/lib/python3.10/site-packages/pandas/core/indexes/base.py:3652\u001B[0m, in \u001B[0;36mIndex.get_loc\u001B[0;34m(self, key)\u001B[0m\n\u001B[1;32m   3651\u001B[0m \u001B[38;5;28;01mtry\u001B[39;00m:\n\u001B[0;32m-> 3652\u001B[0m     \u001B[38;5;28;01mreturn\u001B[39;00m \u001B[38;5;28;43mself\u001B[39;49m\u001B[38;5;241;43m.\u001B[39;49m\u001B[43m_engine\u001B[49m\u001B[38;5;241;43m.\u001B[39;49m\u001B[43mget_loc\u001B[49m\u001B[43m(\u001B[49m\u001B[43mcasted_key\u001B[49m\u001B[43m)\u001B[49m\n\u001B[1;32m   3653\u001B[0m \u001B[38;5;28;01mexcept\u001B[39;00m \u001B[38;5;167;01mKeyError\u001B[39;00m \u001B[38;5;28;01mas\u001B[39;00m err:\n",
      "File \u001B[0;32m~/PycharmProjects/Spotify_1/venv/lib/python3.10/site-packages/pandas/_libs/index.pyx:147\u001B[0m, in \u001B[0;36mpandas._libs.index.IndexEngine.get_loc\u001B[0;34m()\u001B[0m\n",
      "File \u001B[0;32m~/PycharmProjects/Spotify_1/venv/lib/python3.10/site-packages/pandas/_libs/index.pyx:176\u001B[0m, in \u001B[0;36mpandas._libs.index.IndexEngine.get_loc\u001B[0;34m()\u001B[0m\n",
      "File \u001B[0;32mpandas/_libs/hashtable_class_helper.pxi:7080\u001B[0m, in \u001B[0;36mpandas._libs.hashtable.PyObjectHashTable.get_item\u001B[0;34m()\u001B[0m\n",
      "File \u001B[0;32mpandas/_libs/hashtable_class_helper.pxi:7088\u001B[0m, in \u001B[0;36mpandas._libs.hashtable.PyObjectHashTable.get_item\u001B[0;34m()\u001B[0m\n",
      "\u001B[0;31mKeyError\u001B[0m: 'genre_group'",
      "\nThe above exception was the direct cause of the following exception:\n",
      "\u001B[0;31mKeyError\u001B[0m                                  Traceback (most recent call last)",
      "Cell \u001B[0;32mIn[12], line 2\u001B[0m\n\u001B[1;32m      1\u001B[0m \u001B[38;5;66;03m# Count missing values\u001B[39;00m\n\u001B[0;32m----> 2\u001B[0m \u001B[43mdata\u001B[49m\u001B[43m[\u001B[49m\u001B[38;5;124;43m'\u001B[39;49m\u001B[38;5;124;43mgenre_group\u001B[39;49m\u001B[38;5;124;43m'\u001B[39;49m\u001B[43m]\u001B[49m\u001B[38;5;241m.\u001B[39misnull()\u001B[38;5;241m.\u001B[39msum()\n\u001B[1;32m      3\u001B[0m \u001B[38;5;28mprint\u001B[39m(\u001B[38;5;124mf\u001B[39m\u001B[38;5;124m\"\u001B[39m\u001B[38;5;132;01m{\u001B[39;00mdata[\u001B[38;5;124m'\u001B[39m\u001B[38;5;124mgenre_group\u001B[39m\u001B[38;5;124m'\u001B[39m]\u001B[38;5;241m.\u001B[39misnull()\u001B[38;5;241m.\u001B[39msum()\u001B[38;5;132;01m}\u001B[39;00m\u001B[38;5;124m tracks are missing a genre group\u001B[39m\u001B[38;5;124m\"\u001B[39m)\n",
      "File \u001B[0;32m~/PycharmProjects/Spotify_1/venv/lib/python3.10/site-packages/pandas/core/frame.py:3760\u001B[0m, in \u001B[0;36mDataFrame.__getitem__\u001B[0;34m(self, key)\u001B[0m\n\u001B[1;32m   3758\u001B[0m \u001B[38;5;28;01mif\u001B[39;00m \u001B[38;5;28mself\u001B[39m\u001B[38;5;241m.\u001B[39mcolumns\u001B[38;5;241m.\u001B[39mnlevels \u001B[38;5;241m>\u001B[39m \u001B[38;5;241m1\u001B[39m:\n\u001B[1;32m   3759\u001B[0m     \u001B[38;5;28;01mreturn\u001B[39;00m \u001B[38;5;28mself\u001B[39m\u001B[38;5;241m.\u001B[39m_getitem_multilevel(key)\n\u001B[0;32m-> 3760\u001B[0m indexer \u001B[38;5;241m=\u001B[39m \u001B[38;5;28;43mself\u001B[39;49m\u001B[38;5;241;43m.\u001B[39;49m\u001B[43mcolumns\u001B[49m\u001B[38;5;241;43m.\u001B[39;49m\u001B[43mget_loc\u001B[49m\u001B[43m(\u001B[49m\u001B[43mkey\u001B[49m\u001B[43m)\u001B[49m\n\u001B[1;32m   3761\u001B[0m \u001B[38;5;28;01mif\u001B[39;00m is_integer(indexer):\n\u001B[1;32m   3762\u001B[0m     indexer \u001B[38;5;241m=\u001B[39m [indexer]\n",
      "File \u001B[0;32m~/PycharmProjects/Spotify_1/venv/lib/python3.10/site-packages/pandas/core/indexes/base.py:3654\u001B[0m, in \u001B[0;36mIndex.get_loc\u001B[0;34m(self, key)\u001B[0m\n\u001B[1;32m   3652\u001B[0m     \u001B[38;5;28;01mreturn\u001B[39;00m \u001B[38;5;28mself\u001B[39m\u001B[38;5;241m.\u001B[39m_engine\u001B[38;5;241m.\u001B[39mget_loc(casted_key)\n\u001B[1;32m   3653\u001B[0m \u001B[38;5;28;01mexcept\u001B[39;00m \u001B[38;5;167;01mKeyError\u001B[39;00m \u001B[38;5;28;01mas\u001B[39;00m err:\n\u001B[0;32m-> 3654\u001B[0m     \u001B[38;5;28;01mraise\u001B[39;00m \u001B[38;5;167;01mKeyError\u001B[39;00m(key) \u001B[38;5;28;01mfrom\u001B[39;00m \u001B[38;5;21;01merr\u001B[39;00m\n\u001B[1;32m   3655\u001B[0m \u001B[38;5;28;01mexcept\u001B[39;00m \u001B[38;5;167;01mTypeError\u001B[39;00m:\n\u001B[1;32m   3656\u001B[0m     \u001B[38;5;66;03m# If we have a listlike key, _check_indexing_error will raise\u001B[39;00m\n\u001B[1;32m   3657\u001B[0m     \u001B[38;5;66;03m#  InvalidIndexError. Otherwise we fall through and re-raise\u001B[39;00m\n\u001B[1;32m   3658\u001B[0m     \u001B[38;5;66;03m#  the TypeError.\u001B[39;00m\n\u001B[1;32m   3659\u001B[0m     \u001B[38;5;28mself\u001B[39m\u001B[38;5;241m.\u001B[39m_check_indexing_error(key)\n",
      "\u001B[0;31mKeyError\u001B[0m: 'genre_group'"
     ]
    }
   ],
   "source": [
    "# Count missing values\n",
    "data['genre_group'].isnull().sum()\n",
    "print(f\"{data['genre_group'].isnull().sum()} tracks are missing a genre group\")"
   ],
   "metadata": {
    "collapsed": false
   }
  },
  {
   "cell_type": "code",
   "execution_count": 13,
   "outputs": [
    {
     "ename": "KeyError",
     "evalue": "'genre_group'",
     "output_type": "error",
     "traceback": [
      "\u001B[0;31m---------------------------------------------------------------------------\u001B[0m",
      "\u001B[0;31mKeyError\u001B[0m                                  Traceback (most recent call last)",
      "File \u001B[0;32m~/PycharmProjects/Spotify_1/venv/lib/python3.10/site-packages/pandas/core/indexes/base.py:3652\u001B[0m, in \u001B[0;36mIndex.get_loc\u001B[0;34m(self, key)\u001B[0m\n\u001B[1;32m   3651\u001B[0m \u001B[38;5;28;01mtry\u001B[39;00m:\n\u001B[0;32m-> 3652\u001B[0m     \u001B[38;5;28;01mreturn\u001B[39;00m \u001B[38;5;28;43mself\u001B[39;49m\u001B[38;5;241;43m.\u001B[39;49m\u001B[43m_engine\u001B[49m\u001B[38;5;241;43m.\u001B[39;49m\u001B[43mget_loc\u001B[49m\u001B[43m(\u001B[49m\u001B[43mcasted_key\u001B[49m\u001B[43m)\u001B[49m\n\u001B[1;32m   3653\u001B[0m \u001B[38;5;28;01mexcept\u001B[39;00m \u001B[38;5;167;01mKeyError\u001B[39;00m \u001B[38;5;28;01mas\u001B[39;00m err:\n",
      "File \u001B[0;32m~/PycharmProjects/Spotify_1/venv/lib/python3.10/site-packages/pandas/_libs/index.pyx:147\u001B[0m, in \u001B[0;36mpandas._libs.index.IndexEngine.get_loc\u001B[0;34m()\u001B[0m\n",
      "File \u001B[0;32m~/PycharmProjects/Spotify_1/venv/lib/python3.10/site-packages/pandas/_libs/index.pyx:176\u001B[0m, in \u001B[0;36mpandas._libs.index.IndexEngine.get_loc\u001B[0;34m()\u001B[0m\n",
      "File \u001B[0;32mpandas/_libs/hashtable_class_helper.pxi:7080\u001B[0m, in \u001B[0;36mpandas._libs.hashtable.PyObjectHashTable.get_item\u001B[0;34m()\u001B[0m\n",
      "File \u001B[0;32mpandas/_libs/hashtable_class_helper.pxi:7088\u001B[0m, in \u001B[0;36mpandas._libs.hashtable.PyObjectHashTable.get_item\u001B[0;34m()\u001B[0m\n",
      "\u001B[0;31mKeyError\u001B[0m: 'genre_group'",
      "\nThe above exception was the direct cause of the following exception:\n",
      "\u001B[0;31mKeyError\u001B[0m                                  Traceback (most recent call last)",
      "Cell \u001B[0;32mIn[13], line 3\u001B[0m\n\u001B[1;32m      1\u001B[0m \u001B[38;5;66;03m# visualize the distribution of the genres\u001B[39;00m\n\u001B[1;32m      2\u001B[0m plt\u001B[38;5;241m.\u001B[39mfigure(figsize\u001B[38;5;241m=\u001B[39m(\u001B[38;5;241m15\u001B[39m, \u001B[38;5;241m10\u001B[39m))\n\u001B[0;32m----> 3\u001B[0m sns\u001B[38;5;241m.\u001B[39mcountplot(y\u001B[38;5;241m=\u001B[39m\u001B[38;5;124m'\u001B[39m\u001B[38;5;124mgenre_group\u001B[39m\u001B[38;5;124m'\u001B[39m, data\u001B[38;5;241m=\u001B[39mdata, order\u001B[38;5;241m=\u001B[39m\u001B[43mdata\u001B[49m\u001B[43m[\u001B[49m\u001B[38;5;124;43m'\u001B[39;49m\u001B[38;5;124;43mgenre_group\u001B[39;49m\u001B[38;5;124;43m'\u001B[39;49m\u001B[43m]\u001B[49m\u001B[38;5;241m.\u001B[39mvalue_counts()\u001B[38;5;241m.\u001B[39mindex)\n\u001B[1;32m      5\u001B[0m \u001B[38;5;28;01mfor\u001B[39;00m i, genre \u001B[38;5;129;01min\u001B[39;00m \u001B[38;5;28menumerate\u001B[39m(data[\u001B[38;5;124m'\u001B[39m\u001B[38;5;124mgenre_group\u001B[39m\u001B[38;5;124m'\u001B[39m]\u001B[38;5;241m.\u001B[39mvalue_counts()\u001B[38;5;241m.\u001B[39mindex):\n\u001B[1;32m      6\u001B[0m     count \u001B[38;5;241m=\u001B[39m data[\u001B[38;5;124m'\u001B[39m\u001B[38;5;124mgenre_group\u001B[39m\u001B[38;5;124m'\u001B[39m]\u001B[38;5;241m.\u001B[39mvalue_counts()[genre]\n",
      "File \u001B[0;32m~/PycharmProjects/Spotify_1/venv/lib/python3.10/site-packages/pandas/core/frame.py:3760\u001B[0m, in \u001B[0;36mDataFrame.__getitem__\u001B[0;34m(self, key)\u001B[0m\n\u001B[1;32m   3758\u001B[0m \u001B[38;5;28;01mif\u001B[39;00m \u001B[38;5;28mself\u001B[39m\u001B[38;5;241m.\u001B[39mcolumns\u001B[38;5;241m.\u001B[39mnlevels \u001B[38;5;241m>\u001B[39m \u001B[38;5;241m1\u001B[39m:\n\u001B[1;32m   3759\u001B[0m     \u001B[38;5;28;01mreturn\u001B[39;00m \u001B[38;5;28mself\u001B[39m\u001B[38;5;241m.\u001B[39m_getitem_multilevel(key)\n\u001B[0;32m-> 3760\u001B[0m indexer \u001B[38;5;241m=\u001B[39m \u001B[38;5;28;43mself\u001B[39;49m\u001B[38;5;241;43m.\u001B[39;49m\u001B[43mcolumns\u001B[49m\u001B[38;5;241;43m.\u001B[39;49m\u001B[43mget_loc\u001B[49m\u001B[43m(\u001B[49m\u001B[43mkey\u001B[49m\u001B[43m)\u001B[49m\n\u001B[1;32m   3761\u001B[0m \u001B[38;5;28;01mif\u001B[39;00m is_integer(indexer):\n\u001B[1;32m   3762\u001B[0m     indexer \u001B[38;5;241m=\u001B[39m [indexer]\n",
      "File \u001B[0;32m~/PycharmProjects/Spotify_1/venv/lib/python3.10/site-packages/pandas/core/indexes/base.py:3654\u001B[0m, in \u001B[0;36mIndex.get_loc\u001B[0;34m(self, key)\u001B[0m\n\u001B[1;32m   3652\u001B[0m     \u001B[38;5;28;01mreturn\u001B[39;00m \u001B[38;5;28mself\u001B[39m\u001B[38;5;241m.\u001B[39m_engine\u001B[38;5;241m.\u001B[39mget_loc(casted_key)\n\u001B[1;32m   3653\u001B[0m \u001B[38;5;28;01mexcept\u001B[39;00m \u001B[38;5;167;01mKeyError\u001B[39;00m \u001B[38;5;28;01mas\u001B[39;00m err:\n\u001B[0;32m-> 3654\u001B[0m     \u001B[38;5;28;01mraise\u001B[39;00m \u001B[38;5;167;01mKeyError\u001B[39;00m(key) \u001B[38;5;28;01mfrom\u001B[39;00m \u001B[38;5;21;01merr\u001B[39;00m\n\u001B[1;32m   3655\u001B[0m \u001B[38;5;28;01mexcept\u001B[39;00m \u001B[38;5;167;01mTypeError\u001B[39;00m:\n\u001B[1;32m   3656\u001B[0m     \u001B[38;5;66;03m# If we have a listlike key, _check_indexing_error will raise\u001B[39;00m\n\u001B[1;32m   3657\u001B[0m     \u001B[38;5;66;03m#  InvalidIndexError. Otherwise we fall through and re-raise\u001B[39;00m\n\u001B[1;32m   3658\u001B[0m     \u001B[38;5;66;03m#  the TypeError.\u001B[39;00m\n\u001B[1;32m   3659\u001B[0m     \u001B[38;5;28mself\u001B[39m\u001B[38;5;241m.\u001B[39m_check_indexing_error(key)\n",
      "\u001B[0;31mKeyError\u001B[0m: 'genre_group'"
     ]
    },
    {
     "data": {
      "text/plain": "<Figure size 1500x1000 with 0 Axes>"
     },
     "metadata": {},
     "output_type": "display_data"
    }
   ],
   "source": [
    "# visualize the distribution of the genres\n",
    "plt.figure(figsize=(15, 10))\n",
    "sns.countplot(y='genre_group', data=data, order=data['genre_group'].value_counts().index)\n",
    "\n",
    "for i, genre in enumerate(data['genre_group'].value_counts().index):\n",
    "    count = data['genre_group'].value_counts()[genre]\n",
    "    plt.text(count + 10, i, f'{count}', ha='left', va='center', color='black')\n",
    "\n",
    "plt.title('Distribution of genres with counts')\n",
    "plt.show()"
   ],
   "metadata": {
    "collapsed": false
   }
  },
  {
   "cell_type": "markdown",
   "source": [
    "#### Save the dataframe to a csv file\n",
    "\n",
    "This will be the final dataframe that we will use for the analysis. We will use this dataframe for the analysis in the next notebook."
   ],
   "metadata": {
    "collapsed": false
   }
  },
  {
   "cell_type": "code",
   "execution_count": null,
   "outputs": [],
   "source": [
    "data.to_csv('tracklist.csv', index=False, encoding='utf-8')"
   ],
   "metadata": {
    "collapsed": false,
    "pycharm": {
     "is_executing": true
    }
   }
  }
 ],
 "metadata": {
  "kernelspec": {
   "display_name": "Python 3",
   "language": "python",
   "name": "python3"
  },
  "language_info": {
   "codemirror_mode": {
    "name": "ipython",
    "version": 2
   },
   "file_extension": ".py",
   "mimetype": "text/x-python",
   "name": "python",
   "nbconvert_exporter": "python",
   "pygments_lexer": "ipython2",
   "version": "2.7.6"
  }
 },
 "nbformat": 4,
 "nbformat_minor": 0
}
